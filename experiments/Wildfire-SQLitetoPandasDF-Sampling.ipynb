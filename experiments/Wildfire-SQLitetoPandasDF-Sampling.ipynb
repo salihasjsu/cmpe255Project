{
 "cells": [
  {
   "cell_type": "code",
   "execution_count": 6,
   "metadata": {},
   "outputs": [],
   "source": [
    "import sqlite3"
   ]
  },
  {
   "cell_type": "code",
   "execution_count": 14,
   "metadata": {},
   "outputs": [
    {
     "name": "stdout",
     "output_type": "stream",
     "text": [
      "Connection Successful\n"
     ]
    },
    {
     "data": {
      "text/html": [
       "<div>\n",
       "<style scoped>\n",
       "    .dataframe tbody tr th:only-of-type {\n",
       "        vertical-align: middle;\n",
       "    }\n",
       "\n",
       "    .dataframe tbody tr th {\n",
       "        vertical-align: top;\n",
       "    }\n",
       "\n",
       "    .dataframe thead th {\n",
       "        text-align: right;\n",
       "    }\n",
       "</style>\n",
       "<table border=\"1\" class=\"dataframe\">\n",
       "  <thead>\n",
       "    <tr style=\"text-align: right;\">\n",
       "      <th></th>\n",
       "      <th>DISCOVERY_TIME</th>\n",
       "      <th>SOURCE_REPORTING_UNIT_NAME</th>\n",
       "    </tr>\n",
       "  </thead>\n",
       "  <tbody>\n",
       "    <tr>\n",
       "      <th>0</th>\n",
       "      <td>1300</td>\n",
       "      <td>Plumas National Forest</td>\n",
       "    </tr>\n",
       "    <tr>\n",
       "      <th>1</th>\n",
       "      <td>1600</td>\n",
       "      <td>Plumas National Forest</td>\n",
       "    </tr>\n",
       "    <tr>\n",
       "      <th>2</th>\n",
       "      <td>1745</td>\n",
       "      <td>Plumas National Forest</td>\n",
       "    </tr>\n",
       "    <tr>\n",
       "      <th>3</th>\n",
       "      <td>1458</td>\n",
       "      <td>Plumas National Forest</td>\n",
       "    </tr>\n",
       "    <tr>\n",
       "      <th>4</th>\n",
       "      <td>1812</td>\n",
       "      <td>Plumas National Forest</td>\n",
       "    </tr>\n",
       "    <tr>\n",
       "      <th>5</th>\n",
       "      <td>0828</td>\n",
       "      <td>Plumas National Forest</td>\n",
       "    </tr>\n",
       "    <tr>\n",
       "      <th>6</th>\n",
       "      <td>1340</td>\n",
       "      <td>Plumas National Forest</td>\n",
       "    </tr>\n",
       "    <tr>\n",
       "      <th>7</th>\n",
       "      <td>1622</td>\n",
       "      <td>Plumas National Forest</td>\n",
       "    </tr>\n",
       "    <tr>\n",
       "      <th>8</th>\n",
       "      <td>1505</td>\n",
       "      <td>Plumas National Forest</td>\n",
       "    </tr>\n",
       "    <tr>\n",
       "      <th>9</th>\n",
       "      <td>1722</td>\n",
       "      <td>Plumas National Forest</td>\n",
       "    </tr>\n",
       "  </tbody>\n",
       "</table>\n",
       "</div>"
      ],
      "text/plain": [
       "  DISCOVERY_TIME SOURCE_REPORTING_UNIT_NAME\n",
       "0           1300     Plumas National Forest\n",
       "1           1600     Plumas National Forest\n",
       "2           1745     Plumas National Forest\n",
       "3           1458     Plumas National Forest\n",
       "4           1812     Plumas National Forest\n",
       "5           0828     Plumas National Forest\n",
       "6           1340     Plumas National Forest\n",
       "7           1622     Plumas National Forest\n",
       "8           1505     Plumas National Forest\n",
       "9           1722     Plumas National Forest"
      ]
     },
     "execution_count": 14,
     "metadata": {},
     "output_type": "execute_result"
    }
   ],
   "source": [
    "import numpy as np\n",
    "import pandas as pd\n",
    "import sqlite3\n",
    "\n",
    "conn = sqlite3.connect('FPA_FOD_20170508.sqlite')\n",
    "print(\"Connection Successful\")\n",
    "df = pd.read_sql(\"SELECT DISCOVERY_TIME, SOURCE_REPORTING_UNIT_NAME from Fires where SOURCE_REPORTING_UNIT_NAME = 'Plumas National Forest'\",con=conn)\n",
    "#df = pd.read_sql(\"SELECT DISTINCT SOURCE_REPORTING_UNIT_NAME from Fires\",con=conn)\n",
    "\n",
    "df.head(10)\n",
    "# conn.close()\n"
   ]
  },
  {
   "cell_type": "code",
   "execution_count": 3,
   "metadata": {},
   "outputs": [
    {
     "name": "stdout",
     "output_type": "stream",
     "text": [
      "<class 'pandas.core.frame.DataFrame'>\n",
      "RangeIndex: 1880465 entries, 0 to 1880464\n",
      "Data columns (total 39 columns):\n",
      " #   Column                      Dtype  \n",
      "---  ------                      -----  \n",
      " 0   OBJECTID                    int64  \n",
      " 1   FOD_ID                      int64  \n",
      " 2   FPA_ID                      object \n",
      " 3   SOURCE_SYSTEM_TYPE          object \n",
      " 4   SOURCE_SYSTEM               object \n",
      " 5   NWCG_REPORTING_AGENCY       object \n",
      " 6   NWCG_REPORTING_UNIT_ID      object \n",
      " 7   NWCG_REPORTING_UNIT_NAME    object \n",
      " 8   SOURCE_REPORTING_UNIT       object \n",
      " 9   SOURCE_REPORTING_UNIT_NAME  object \n",
      " 10  LOCAL_FIRE_REPORT_ID        object \n",
      " 11  LOCAL_INCIDENT_ID           object \n",
      " 12  FIRE_CODE                   object \n",
      " 13  FIRE_NAME                   object \n",
      " 14  ICS_209_INCIDENT_NUMBER     object \n",
      " 15  ICS_209_NAME                object \n",
      " 16  MTBS_ID                     object \n",
      " 17  MTBS_FIRE_NAME              object \n",
      " 18  COMPLEX_NAME                object \n",
      " 19  FIRE_YEAR                   int64  \n",
      " 20  DISCOVERY_DATE              float64\n",
      " 21  DISCOVERY_DOY               int64  \n",
      " 22  DISCOVERY_TIME              object \n",
      " 23  STAT_CAUSE_CODE             float64\n",
      " 24  STAT_CAUSE_DESCR            object \n",
      " 25  CONT_DATE                   float64\n",
      " 26  CONT_DOY                    float64\n",
      " 27  CONT_TIME                   object \n",
      " 28  FIRE_SIZE                   float64\n",
      " 29  FIRE_SIZE_CLASS             object \n",
      " 30  LATITUDE                    float64\n",
      " 31  LONGITUDE                   float64\n",
      " 32  OWNER_CODE                  float64\n",
      " 33  OWNER_DESCR                 object \n",
      " 34  STATE                       object \n",
      " 35  COUNTY                      object \n",
      " 36  FIPS_CODE                   object \n",
      " 37  FIPS_NAME                   object \n",
      " 38  Shape                       object \n",
      "dtypes: float64(8), int64(4), object(27)\n",
      "memory usage: 559.5+ MB\n"
     ]
    }
   ],
   "source": [
    "df.info()"
   ]
  },
  {
   "cell_type": "code",
   "execution_count": 4,
   "metadata": {},
   "outputs": [],
   "source": [
    "df['DISCOVERY_DATE'] = pd.to_datetime(df['DISCOVERY_DATE'] - pd.Timestamp(0).to_julian_date(), unit='D')\n",
    "df['CONT_DATE'] = pd.to_datetime(df['CONT_DATE'] - pd.Timestamp(0).to_julian_date(), unit='D')\n",
    "# Changing the data format for the above columns"
   ]
  },
  {
   "cell_type": "markdown",
   "metadata": {},
   "source": [
    "### Code to check the missing values."
   ]
  },
  {
   "cell_type": "code",
   "execution_count": 5,
   "metadata": {},
   "outputs": [
    {
     "data": {
      "text/html": [
       "<div>\n",
       "<style scoped>\n",
       "    .dataframe tbody tr th:only-of-type {\n",
       "        vertical-align: middle;\n",
       "    }\n",
       "\n",
       "    .dataframe tbody tr th {\n",
       "        vertical-align: top;\n",
       "    }\n",
       "\n",
       "    .dataframe thead th {\n",
       "        text-align: right;\n",
       "    }\n",
       "</style>\n",
       "<table border=\"1\" class=\"dataframe\">\n",
       "  <thead>\n",
       "    <tr style=\"text-align: right;\">\n",
       "      <th></th>\n",
       "      <th>Total missing values</th>\n",
       "      <th>Percentage of missing values</th>\n",
       "    </tr>\n",
       "  </thead>\n",
       "  <tbody>\n",
       "    <tr>\n",
       "      <th>COMPLEX_NAME</th>\n",
       "      <td>1875282</td>\n",
       "      <td>0.997244</td>\n",
       "    </tr>\n",
       "    <tr>\n",
       "      <th>MTBS_ID</th>\n",
       "      <td>1869462</td>\n",
       "      <td>0.994149</td>\n",
       "    </tr>\n",
       "    <tr>\n",
       "      <th>MTBS_FIRE_NAME</th>\n",
       "      <td>1869462</td>\n",
       "      <td>0.994149</td>\n",
       "    </tr>\n",
       "    <tr>\n",
       "      <th>ICS_209_INCIDENT_NUMBER</th>\n",
       "      <td>1854748</td>\n",
       "      <td>0.986324</td>\n",
       "    </tr>\n",
       "    <tr>\n",
       "      <th>ICS_209_NAME</th>\n",
       "      <td>1854748</td>\n",
       "      <td>0.986324</td>\n",
       "    </tr>\n",
       "    <tr>\n",
       "      <th>FIRE_CODE</th>\n",
       "      <td>1555636</td>\n",
       "      <td>0.827261</td>\n",
       "    </tr>\n",
       "    <tr>\n",
       "      <th>LOCAL_FIRE_REPORT_ID</th>\n",
       "      <td>1459286</td>\n",
       "      <td>0.776024</td>\n",
       "    </tr>\n",
       "    <tr>\n",
       "      <th>CONT_TIME</th>\n",
       "      <td>972173</td>\n",
       "      <td>0.516985</td>\n",
       "    </tr>\n",
       "    <tr>\n",
       "      <th>FIRE_NAME</th>\n",
       "      <td>957189</td>\n",
       "      <td>0.509017</td>\n",
       "    </tr>\n",
       "    <tr>\n",
       "      <th>CONT_DOY</th>\n",
       "      <td>891531</td>\n",
       "      <td>0.474101</td>\n",
       "    </tr>\n",
       "    <tr>\n",
       "      <th>CONT_DATE</th>\n",
       "      <td>891531</td>\n",
       "      <td>0.474101</td>\n",
       "    </tr>\n",
       "    <tr>\n",
       "      <th>DISCOVERY_TIME</th>\n",
       "      <td>882638</td>\n",
       "      <td>0.469372</td>\n",
       "    </tr>\n",
       "    <tr>\n",
       "      <th>LOCAL_INCIDENT_ID</th>\n",
       "      <td>820821</td>\n",
       "      <td>0.436499</td>\n",
       "    </tr>\n",
       "    <tr>\n",
       "      <th>FIPS_NAME</th>\n",
       "      <td>678148</td>\n",
       "      <td>0.360628</td>\n",
       "    </tr>\n",
       "    <tr>\n",
       "      <th>COUNTY</th>\n",
       "      <td>678148</td>\n",
       "      <td>0.360628</td>\n",
       "    </tr>\n",
       "    <tr>\n",
       "      <th>FIPS_CODE</th>\n",
       "      <td>678148</td>\n",
       "      <td>0.360628</td>\n",
       "    </tr>\n",
       "    <tr>\n",
       "      <th>NWCG_REPORTING_UNIT_NAME</th>\n",
       "      <td>0</td>\n",
       "      <td>0.000000</td>\n",
       "    </tr>\n",
       "    <tr>\n",
       "      <th>NWCG_REPORTING_UNIT_ID</th>\n",
       "      <td>0</td>\n",
       "      <td>0.000000</td>\n",
       "    </tr>\n",
       "    <tr>\n",
       "      <th>NWCG_REPORTING_AGENCY</th>\n",
       "      <td>0</td>\n",
       "      <td>0.000000</td>\n",
       "    </tr>\n",
       "    <tr>\n",
       "      <th>SOURCE_REPORTING_UNIT</th>\n",
       "      <td>0</td>\n",
       "      <td>0.000000</td>\n",
       "    </tr>\n",
       "    <tr>\n",
       "      <th>SOURCE_REPORTING_UNIT_NAME</th>\n",
       "      <td>0</td>\n",
       "      <td>0.000000</td>\n",
       "    </tr>\n",
       "    <tr>\n",
       "      <th>SOURCE_SYSTEM</th>\n",
       "      <td>0</td>\n",
       "      <td>0.000000</td>\n",
       "    </tr>\n",
       "    <tr>\n",
       "      <th>SOURCE_SYSTEM_TYPE</th>\n",
       "      <td>0</td>\n",
       "      <td>0.000000</td>\n",
       "    </tr>\n",
       "    <tr>\n",
       "      <th>FPA_ID</th>\n",
       "      <td>0</td>\n",
       "      <td>0.000000</td>\n",
       "    </tr>\n",
       "    <tr>\n",
       "      <th>FOD_ID</th>\n",
       "      <td>0</td>\n",
       "      <td>0.000000</td>\n",
       "    </tr>\n",
       "    <tr>\n",
       "      <th>Shape</th>\n",
       "      <td>0</td>\n",
       "      <td>0.000000</td>\n",
       "    </tr>\n",
       "    <tr>\n",
       "      <th>FIRE_YEAR</th>\n",
       "      <td>0</td>\n",
       "      <td>0.000000</td>\n",
       "    </tr>\n",
       "    <tr>\n",
       "      <th>DISCOVERY_DATE</th>\n",
       "      <td>0</td>\n",
       "      <td>0.000000</td>\n",
       "    </tr>\n",
       "    <tr>\n",
       "      <th>DISCOVERY_DOY</th>\n",
       "      <td>0</td>\n",
       "      <td>0.000000</td>\n",
       "    </tr>\n",
       "    <tr>\n",
       "      <th>STAT_CAUSE_CODE</th>\n",
       "      <td>0</td>\n",
       "      <td>0.000000</td>\n",
       "    </tr>\n",
       "    <tr>\n",
       "      <th>STAT_CAUSE_DESCR</th>\n",
       "      <td>0</td>\n",
       "      <td>0.000000</td>\n",
       "    </tr>\n",
       "    <tr>\n",
       "      <th>FIRE_SIZE</th>\n",
       "      <td>0</td>\n",
       "      <td>0.000000</td>\n",
       "    </tr>\n",
       "    <tr>\n",
       "      <th>FIRE_SIZE_CLASS</th>\n",
       "      <td>0</td>\n",
       "      <td>0.000000</td>\n",
       "    </tr>\n",
       "    <tr>\n",
       "      <th>LATITUDE</th>\n",
       "      <td>0</td>\n",
       "      <td>0.000000</td>\n",
       "    </tr>\n",
       "    <tr>\n",
       "      <th>LONGITUDE</th>\n",
       "      <td>0</td>\n",
       "      <td>0.000000</td>\n",
       "    </tr>\n",
       "    <tr>\n",
       "      <th>OWNER_CODE</th>\n",
       "      <td>0</td>\n",
       "      <td>0.000000</td>\n",
       "    </tr>\n",
       "    <tr>\n",
       "      <th>OWNER_DESCR</th>\n",
       "      <td>0</td>\n",
       "      <td>0.000000</td>\n",
       "    </tr>\n",
       "    <tr>\n",
       "      <th>STATE</th>\n",
       "      <td>0</td>\n",
       "      <td>0.000000</td>\n",
       "    </tr>\n",
       "    <tr>\n",
       "      <th>OBJECTID</th>\n",
       "      <td>0</td>\n",
       "      <td>0.000000</td>\n",
       "    </tr>\n",
       "  </tbody>\n",
       "</table>\n",
       "</div>"
      ],
      "text/plain": [
       "                            Total missing values  Percentage of missing values\n",
       "COMPLEX_NAME                             1875282                      0.997244\n",
       "MTBS_ID                                  1869462                      0.994149\n",
       "MTBS_FIRE_NAME                           1869462                      0.994149\n",
       "ICS_209_INCIDENT_NUMBER                  1854748                      0.986324\n",
       "ICS_209_NAME                             1854748                      0.986324\n",
       "FIRE_CODE                                1555636                      0.827261\n",
       "LOCAL_FIRE_REPORT_ID                     1459286                      0.776024\n",
       "CONT_TIME                                 972173                      0.516985\n",
       "FIRE_NAME                                 957189                      0.509017\n",
       "CONT_DOY                                  891531                      0.474101\n",
       "CONT_DATE                                 891531                      0.474101\n",
       "DISCOVERY_TIME                            882638                      0.469372\n",
       "LOCAL_INCIDENT_ID                         820821                      0.436499\n",
       "FIPS_NAME                                 678148                      0.360628\n",
       "COUNTY                                    678148                      0.360628\n",
       "FIPS_CODE                                 678148                      0.360628\n",
       "NWCG_REPORTING_UNIT_NAME                       0                      0.000000\n",
       "NWCG_REPORTING_UNIT_ID                         0                      0.000000\n",
       "NWCG_REPORTING_AGENCY                          0                      0.000000\n",
       "SOURCE_REPORTING_UNIT                          0                      0.000000\n",
       "SOURCE_REPORTING_UNIT_NAME                     0                      0.000000\n",
       "SOURCE_SYSTEM                                  0                      0.000000\n",
       "SOURCE_SYSTEM_TYPE                             0                      0.000000\n",
       "FPA_ID                                         0                      0.000000\n",
       "FOD_ID                                         0                      0.000000\n",
       "Shape                                          0                      0.000000\n",
       "FIRE_YEAR                                      0                      0.000000\n",
       "DISCOVERY_DATE                                 0                      0.000000\n",
       "DISCOVERY_DOY                                  0                      0.000000\n",
       "STAT_CAUSE_CODE                                0                      0.000000\n",
       "STAT_CAUSE_DESCR                               0                      0.000000\n",
       "FIRE_SIZE                                      0                      0.000000\n",
       "FIRE_SIZE_CLASS                                0                      0.000000\n",
       "LATITUDE                                       0                      0.000000\n",
       "LONGITUDE                                      0                      0.000000\n",
       "OWNER_CODE                                     0                      0.000000\n",
       "OWNER_DESCR                                    0                      0.000000\n",
       "STATE                                          0                      0.000000\n",
       "OBJECTID                                       0                      0.000000"
      ]
     },
     "execution_count": 5,
     "metadata": {},
     "output_type": "execute_result"
    }
   ],
   "source": [
    "total= df.isnull().sum().sort_values(ascending = False)\n",
    "percent = (df.isnull().sum()/df.isnull().count()).sort_values(ascending = False)\n",
    "missing_data = pd.concat([total, percent], axis=1, keys = ['Total missing values', 'Percentage of missing values'])\n",
    "missing_data"
   ]
  },
  {
   "cell_type": "markdown",
   "metadata": {},
   "source": [
    "## SAMPLING TECHNIQUE 1:\n",
    "Using Simple Sample method of Pandas DF. Taking 20% of the original data. (376093 entries)"
   ]
  },
  {
   "cell_type": "code",
   "execution_count": 6,
   "metadata": {},
   "outputs": [
    {
     "name": "stdout",
     "output_type": "stream",
     "text": [
      "<class 'pandas.core.frame.DataFrame'>\n",
      "Int64Index: 376093 entries, 1466193 to 1076111\n",
      "Data columns (total 39 columns):\n",
      " #   Column                      Non-Null Count   Dtype         \n",
      "---  ------                      --------------   -----         \n",
      " 0   OBJECTID                    376093 non-null  int64         \n",
      " 1   FOD_ID                      376093 non-null  int64         \n",
      " 2   FPA_ID                      376093 non-null  object        \n",
      " 3   SOURCE_SYSTEM_TYPE          376093 non-null  object        \n",
      " 4   SOURCE_SYSTEM               376093 non-null  object        \n",
      " 5   NWCG_REPORTING_AGENCY       376093 non-null  object        \n",
      " 6   NWCG_REPORTING_UNIT_ID      376093 non-null  object        \n",
      " 7   NWCG_REPORTING_UNIT_NAME    376093 non-null  object        \n",
      " 8   SOURCE_REPORTING_UNIT       376093 non-null  object        \n",
      " 9   SOURCE_REPORTING_UNIT_NAME  376093 non-null  object        \n",
      " 10  LOCAL_FIRE_REPORT_ID        84369 non-null   object        \n",
      " 11  LOCAL_INCIDENT_ID           212091 non-null  object        \n",
      " 12  FIRE_CODE                   65117 non-null   object        \n",
      " 13  FIRE_NAME                   185222 non-null  object        \n",
      " 14  ICS_209_INCIDENT_NUMBER     5155 non-null    object        \n",
      " 15  ICS_209_NAME                5155 non-null    object        \n",
      " 16  MTBS_ID                     2225 non-null    object        \n",
      " 17  MTBS_FIRE_NAME              2225 non-null    object        \n",
      " 18  COMPLEX_NAME                1021 non-null    object        \n",
      " 19  FIRE_YEAR                   376093 non-null  int64         \n",
      " 20  DISCOVERY_DATE              376093 non-null  datetime64[ns]\n",
      " 21  DISCOVERY_DOY               376093 non-null  int64         \n",
      " 22  DISCOVERY_TIME              200145 non-null  object        \n",
      " 23  STAT_CAUSE_CODE             376093 non-null  float64       \n",
      " 24  STAT_CAUSE_DESCR            376093 non-null  object        \n",
      " 25  CONT_DATE                   198126 non-null  datetime64[ns]\n",
      " 26  CONT_DOY                    198126 non-null  float64       \n",
      " 27  CONT_TIME                   182067 non-null  object        \n",
      " 28  FIRE_SIZE                   376093 non-null  float64       \n",
      " 29  FIRE_SIZE_CLASS             376093 non-null  object        \n",
      " 30  LATITUDE                    376093 non-null  float64       \n",
      " 31  LONGITUDE                   376093 non-null  float64       \n",
      " 32  OWNER_CODE                  376093 non-null  float64       \n",
      " 33  OWNER_DESCR                 376093 non-null  object        \n",
      " 34  STATE                       376093 non-null  object        \n",
      " 35  COUNTY                      240045 non-null  object        \n",
      " 36  FIPS_CODE                   240045 non-null  object        \n",
      " 37  FIPS_NAME                   240045 non-null  object        \n",
      " 38  Shape                       376093 non-null  object        \n",
      "dtypes: datetime64[ns](2), float64(6), int64(4), object(27)\n",
      "memory usage: 114.8+ MB\n"
     ]
    }
   ],
   "source": [
    "fires_sample = df.sample(frac=2/10, random_state=10)\n",
    "fires_sample.info()\n",
    "# taking 20% of the data"
   ]
  },
  {
   "cell_type": "markdown",
   "metadata": {},
   "source": [
    "## SAMPLING TECHNIQUE 2:\n",
    "Taking 15K samples from each year."
   ]
  },
  {
   "cell_type": "code",
   "execution_count": 7,
   "metadata": {},
   "outputs": [],
   "source": [
    "df1 = pd.read_sql(\"SELECT * FROM Fires WHERE FIRE_YEAR = 2015 LIMIT 15000\",con=conn)"
   ]
  },
  {
   "cell_type": "code",
   "execution_count": 8,
   "metadata": {},
   "outputs": [
    {
     "data": {
      "text/plain": [
       "(15000, 39)"
      ]
     },
     "execution_count": 8,
     "metadata": {},
     "output_type": "execute_result"
    }
   ],
   "source": [
    "df1.shape"
   ]
  },
  {
   "cell_type": "code",
   "execution_count": 9,
   "metadata": {},
   "outputs": [],
   "source": [
    "for i in range(1992,2014):\n",
    "    Query1 = \"SELECT * FROM Fires WHERE FIRE_YEAR = ? LIMIT 15000\"\n",
    "    df1 = df1.append(pd.read_sql(Query1, conn, params = [i]))"
   ]
  },
  {
   "cell_type": "code",
   "execution_count": 10,
   "metadata": {},
   "outputs": [
    {
     "data": {
      "text/plain": [
       "(345000, 39)"
      ]
     },
     "execution_count": 10,
     "metadata": {},
     "output_type": "execute_result"
    }
   ],
   "source": [
    "df1.shape"
   ]
  },
  {
   "cell_type": "markdown",
   "metadata": {},
   "source": [
    "### Sampling data based on year(getting equal number of records per year)\n"
   ]
  },
  {
   "cell_type": "code",
   "execution_count": 11,
   "metadata": {},
   "outputs": [],
   "source": [
    "new_df = df.groupby('FIRE_YEAR').apply(lambda x: x.sample(n=5000)).reset_index(drop = True)"
   ]
  },
  {
   "cell_type": "code",
   "execution_count": 12,
   "metadata": {},
   "outputs": [
    {
     "data": {
      "text/plain": [
       "4680000"
      ]
     },
     "execution_count": 12,
     "metadata": {},
     "output_type": "execute_result"
    }
   ],
   "source": [
    "new_df.size"
   ]
  },
  {
   "cell_type": "code",
   "execution_count": 13,
   "metadata": {},
   "outputs": [
    {
     "data": {
      "text/plain": [
       "5.0     27396\n",
       "9.0     20325\n",
       "7.0     17897\n",
       "1.0     17777\n",
       "13.0    10667\n",
       "2.0      9455\n",
       "4.0      5077\n",
       "8.0      3946\n",
       "3.0      3477\n",
       "6.0      2191\n",
       "11.0      883\n",
       "10.0      677\n",
       "12.0      232\n",
       "Name: STAT_CAUSE_CODE, dtype: int64"
      ]
     },
     "execution_count": 13,
     "metadata": {},
     "output_type": "execute_result"
    }
   ],
   "source": [
    "uniq = df['FIRE_YEAR'].unique()\n",
    "new_df['STAT_CAUSE_CODE'].value_counts()"
   ]
  },
  {
   "cell_type": "code",
   "execution_count": 14,
   "metadata": {},
   "outputs": [
    {
     "data": {
      "text/plain": [
       "array([[<matplotlib.axes._subplots.AxesSubplot object at 0x1ad4e9670>]],\n",
       "      dtype=object)"
      ]
     },
     "execution_count": 14,
     "metadata": {},
     "output_type": "execute_result"
    },
    {
     "data": {
      "image/png": "[encoded data removed]",
      "text/plain": [
       "<Figure size 576x576 with 1 Axes>"
      ]
     },
     "metadata": {
      "needs_background": "light"
     },
     "output_type": "display_data"
    }
   ],
   "source": [
    "import matplotlib.pyplot as plt\n",
    "new_df.hist(column=\"FIRE_YEAR\", figsize=(8,8), color='#86bf91', rwidth=0.9)"
   ]
  },
  {
   "cell_type": "markdown",
   "metadata": {},
   "source": [
    "### Sampling Technique 3 - Take 20% samples from each STAT_CAUSE_CODE and FIRE_YEAR group. Since we are predicting the cause, it is important to take enough samples from each cause. Since we are going to make analysis on the causes of wildfire over years, it is also important to take enough samples from all years"
   ]
  },
  {
   "cell_type": "code",
   "execution_count": null,
   "metadata": {
    "scrolled": true
   },
   "outputs": [],
   "source": [
    "df_by_cause_year = df.groupby(['STAT_CAUSE_CODE', 'FIRE_YEAR'])\n",
    "df_by_cause_year.describe()"
   ]
  },
  {
   "cell_type": "code",
   "execution_count": null,
   "metadata": {},
   "outputs": [],
   "source": [
    "df_by_cause_year = df.groupby(['STAT_CAUSE_CODE', 'FIRE_YEAR']).apply(lambda x: x.sample(frac=0.2)).reset_index(drop = True)\n",
    "df_by_cause_year['STAT_CAUSE_CODE'].value_counts()"
   ]
  },
  {
   "cell_type": "code",
   "execution_count": null,
   "metadata": {},
   "outputs": [],
   "source": [
    "df_by_cause_year['FIRE_YEAR'].value_counts()"
   ]
  },
  {
   "cell_type": "markdown",
   "metadata": {},
   "source": [
    "### End of Sampling Technique 3"
   ]
  },
  {
   "cell_type": "code",
   "execution_count": null,
   "metadata": {},
   "outputs": [],
   "source": [
    "#conn.close"
   ]
  },
  {
   "cell_type": "code",
   "execution_count": null,
   "metadata": {},
   "outputs": [],
   "source": [
    "df['STAT_CAUSE_CODE'].value_counts()"
   ]
  },
  {
   "cell_type": "code",
   "execution_count": 20,
   "metadata": {},
   "outputs": [
    {
     "data": {
      "text/plain": [
       "7.0     3796\n",
       "13.0    3796\n",
       "6.0     3796\n",
       "10.0    3796\n",
       "3.0     3796\n",
       "11.0    3796\n",
       "5.0     3796\n",
       "9.0     3796\n",
       "12.0    3796\n",
       "8.0     3796\n",
       "4.0     3796\n",
       "2.0     3796\n",
       "1.0     3796\n",
       "Name: STAT_CAUSE_CODE, dtype: int64"
      ]
     },
     "execution_count": 20,
     "metadata": {},
     "output_type": "execute_result"
    }
   ],
   "source": [
    "df_grpby_cause = df.groupby('STAT_CAUSE_CODE').apply(lambda x: x.sample(n=3796)).reset_index(drop = True)\n",
    "df_grpby_cause['STAT_CAUSE_CODE'].value_counts()"
   ]
  }
 ],
 "metadata": {
  "kernelspec": {
   "display_name": "Python 3",
   "language": "python",
   "name": "python3"
  },
  "language_info": {
   "codemirror_mode": {
    "name": "ipython",
    "version": 3
   },
   "file_extension": ".py",
   "mimetype": "text/x-python",
   "name": "python",
   "nbconvert_exporter": "python",
   "pygments_lexer": "ipython3",
   "version": "3.8.5"
  }
 },
 "nbformat": 4,
 "nbformat_minor": 4
}
