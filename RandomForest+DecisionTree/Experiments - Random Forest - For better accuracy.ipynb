{
 "cells": [
  {
   "cell_type": "code",
   "execution_count": 1,
   "metadata": {},
   "outputs": [
    {
     "data": {
      "text/html": [
       "<style>.container { width:90% !important; }</style>"
      ],
      "text/plain": [
       "<IPython.core.display.HTML object>"
      ]
     },
     "metadata": {},
     "output_type": "display_data"
    }
   ],
   "source": [
    "from warnings import simplefilter\n",
    "simplefilter(action='ignore', category=FutureWarning)\n",
    "\n",
    "import pandas as pd\n",
    "import numpy as np\n",
    "import matplotlib.pyplot as plt\n",
    "import seaborn as sns\n",
    "import sqlite3\n",
    "\n",
    "from statistics import mean \n",
    "\n",
    "from sklearn.utils import resample\n",
    "from sklearn.model_selection import train_test_split\n",
    "from sklearn.tree import DecisionTreeClassifier\n",
    "from sklearn.ensemble import RandomForestClassifier\n",
    "from sklearn.ensemble import GradientBoostingClassifier\n",
    "from sklearn.svm import SVC\n",
    "from sklearn.neighbors import KNeighborsClassifier\n",
    "from sklearn import metrics\n",
    "from sklearn.model_selection import GridSearchCV\n",
    "from sklearn.model_selection import RandomizedSearchCV\n",
    "from sklearn.ensemble import RandomForestClassifier\n",
    "from sklearn.metrics import f1_score\n",
    "\n",
    "from xgboost import XGBClassifier\n",
    "\n",
    "pd.set_option('display.max_columns', None)\n",
    "pd.set_option('display.max_rows', None)\n",
    "\n",
    "from IPython.core.display import display, HTML\n",
    "display(HTML(\"<style>.container { width:90% !important; }</style>\"))"
   ]
  },
  {
   "cell_type": "code",
   "execution_count": 2,
   "metadata": {},
   "outputs": [],
   "source": [
    "import pandas as pd\n",
    "import matplotlib.pyplot as plt\n",
    "import numpy as np\n",
    "%matplotlib inline\n",
    "import seaborn as sns\n",
    "# Importing the required packages "
   ]
  },
  {
   "cell_type": "code",
   "execution_count": 3,
   "metadata": {},
   "outputs": [],
   "source": [
    "df1 = pd.read_csv('training_dataset.csv')\n",
    "df2 = pd.read_csv('validation_dataset.csv')\n",
    "df3 = pd.read_csv('test_dataset.csv')"
   ]
  },
  {
   "cell_type": "code",
   "execution_count": 4,
   "metadata": {},
   "outputs": [],
   "source": [
    "frames = [df1, df2, df3] \n",
    "finaldataset = pd.concat(frames)\n",
    "finaldataset1 = finaldataset.copy()"
   ]
  },
  {
   "cell_type": "code",
   "execution_count": 5,
   "metadata": {},
   "outputs": [],
   "source": [
    "from sklearn import preprocessing\n",
    "finaldataset['FIRE_DISCOVERY_MONTH'] = pd.DatetimeIndex(finaldataset['DISCOVERY_DATE']).month\n",
    "finaldataset['DAY_OF_WEEK'] = pd.to_datetime(finaldataset['DISCOVERY_DATE']).dt.day_name()"
   ]
  },
  {
   "cell_type": "code",
   "execution_count": 6,
   "metadata": {},
   "outputs": [],
   "source": [
    "from sklearn.preprocessing import LabelEncoder"
   ]
  },
  {
   "cell_type": "code",
   "execution_count": 7,
   "metadata": {},
   "outputs": [],
   "source": [
    "enc=LabelEncoder()"
   ]
  },
  {
   "cell_type": "code",
   "execution_count": 8,
   "metadata": {},
   "outputs": [],
   "source": [
    "finaldataset['DAY_OF_WEEK'] = enc.fit_transform(finaldataset['DAY_OF_WEEK'])\n",
    "finaldataset['FIRE_DISCOVERY_MONTH'] = enc.fit_transform(finaldataset['FIRE_DISCOVERY_MONTH'])\n",
    "finaldataset['STATE'] = enc.fit_transform(finaldataset['STATE'])\n",
    "finaldataset['FIRE_SIZE_CLASS'] = enc.fit_transform(finaldataset['FIRE_SIZE_CLASS'])\n",
    "finaldataset['NWCG_REPORTING_AGENCY'] = enc.fit_transform(finaldataset['NWCG_REPORTING_AGENCY'])\n",
    "finaldataset['SOURCE_REPORTING_UNIT_NAME'] = enc.fit_transform(finaldataset['SOURCE_REPORTING_UNIT_NAME'])\n",
    "finaldataset['FIRE_YEAR'] = enc.fit_transform(finaldataset['FIRE_YEAR'])"
   ]
  },
  {
   "cell_type": "code",
   "execution_count": 9,
   "metadata": {},
   "outputs": [],
   "source": [
    "finaldataset.loc[finaldataset['STAT_CAUSE_DESCR'] == \"Miscellaneous\", 'STAT_CAUSE_DESCR'] = \"Miscellaneous/Missing/Undefined\"\n",
    "finaldataset.loc[finaldataset['STAT_CAUSE_DESCR'] == \"Missing/Undefined\", 'STAT_CAUSE_DESCR'] = \"Miscellaneous/Missing/Undefined\""
   ]
  },
  {
   "cell_type": "code",
   "execution_count": 10,
   "metadata": {},
   "outputs": [],
   "source": [
    "finaldataset.loc[finaldataset['STAT_CAUSE_DESCR'] == \"Campfire\" , 'STAT_CAUSE_DESCR'] = \"Campfire/Fireworks/Smoking/DebrisBurning/Arson\"\n",
    "finaldataset.loc[finaldataset['STAT_CAUSE_DESCR'] == \"Fireworks\", 'STAT_CAUSE_DESCR'] = \"Campfire/Fireworks/Smoking/DebrisBurning/Arson\"\n",
    "finaldataset.loc[finaldataset['STAT_CAUSE_DESCR'] == \"Smoking\", 'STAT_CAUSE_DESCR'] = \"Campfire/Fireworks/Smoking/DebrisBurning/Arson\"\n",
    "finaldataset.loc[finaldataset['STAT_CAUSE_DESCR'] == \"Debris Burning\", 'STAT_CAUSE_DESCR'] = \"Campfire/Fireworks/Smoking/DebrisBurning/Arson\"\n",
    "finaldataset.loc[finaldataset['STAT_CAUSE_DESCR'] == \"Arson\", 'STAT_CAUSE_DESCR'] = \"Campfire/Fireworks/Smoking/DebrisBurning/Arson\""
   ]
  },
  {
   "cell_type": "code",
   "execution_count": 11,
   "metadata": {},
   "outputs": [],
   "source": [
    "finaldataset.loc[finaldataset['STAT_CAUSE_DESCR'] == \"Powerline\" , 'STAT_CAUSE_DESCR'] = \"Powerline/Railroad/Children/Structure/EquipmentUse\"\n",
    "finaldataset.loc[finaldataset['STAT_CAUSE_DESCR'] == \"Railroad\", 'STAT_CAUSE_DESCR'] = \"Powerline/Railroad/Children/Structure/EquipmentUse\"\n",
    "finaldataset.loc[finaldataset['STAT_CAUSE_DESCR'] == \"Structure\", 'STAT_CAUSE_DESCR'] = \"Powerline/Railroad/Children/Structure/EquipmentUse\"\n",
    "finaldataset.loc[finaldataset['STAT_CAUSE_DESCR'] == \"Equipment Use\", 'STAT_CAUSE_DESCR'] = \"Powerline/Railroad/Children/Structure/EquipmentUse\"\n",
    "finaldataset.loc[finaldataset['STAT_CAUSE_DESCR'] == \"Children\", 'STAT_CAUSE_DESCR'] = \"Powerline/Railroad/Children/Structure/EquipmentUse\""
   ]
  },
  {
   "cell_type": "code",
   "execution_count": 12,
   "metadata": {},
   "outputs": [
    {
     "data": {
      "text/plain": [
       "array(['Lightning', 'Campfire/Fireworks/Smoking/DebrisBurning/Arson',\n",
       "       'Powerline/Railroad/Children/Structure/EquipmentUse',\n",
       "       'Miscellaneous/Missing/Undefined'], dtype=object)"
      ]
     },
     "execution_count": 12,
     "metadata": {},
     "output_type": "execute_result"
    }
   ],
   "source": [
    "finaldataset['STAT_CAUSE_DESCR'].unique()"
   ]
  },
  {
   "cell_type": "code",
   "execution_count": 13,
   "metadata": {},
   "outputs": [],
   "source": [
    "X = finaldataset[['FIRE_YEAR','FIRE_DISCOVERY_MONTH','NWCG_REPORTING_AGENCY',\n",
    "                           'STATE', \"FIRE_SIZE_CLASS\"]] # Features\n",
    "y = finaldataset[[\"STAT_CAUSE_DESCR\"]] # Target variable"
   ]
  },
  {
   "cell_type": "code",
   "execution_count": 14,
   "metadata": {},
   "outputs": [],
   "source": [
    "from sklearn.metrics import classification_report\n",
    "from sklearn.metrics import classification_report,accuracy_score  \n",
    "from sklearn.metrics import confusion_matrix\n",
    "from sklearn.model_selection import train_test_split \n",
    "from sklearn import tree\n",
    "X_train, X_test, y_train, y_test = train_test_split(X,y, test_size=.2, random_state=10)"
   ]
  },
  {
   "cell_type": "code",
   "execution_count": 15,
   "metadata": {},
   "outputs": [
    {
     "name": "stdout",
     "output_type": "stream",
     "text": [
      "0.658885151752835\n"
     ]
    }
   ],
   "source": [
    "clf_rf = RandomForestClassifier()\n",
    "clf_rf = clf_rf.fit(X_train, y_train.values.ravel())\n",
    "        \n",
    "y_pred = clf_rf.predict(X_test)\n",
    "print(f1_score(y_test, y_pred, average=\"micro\"))"
   ]
  },
  {
   "cell_type": "code",
   "execution_count": 16,
   "metadata": {},
   "outputs": [
    {
     "data": {
      "text/plain": [
       "Text(0.5, 1.0, 'Average score: 0.6630187058608213')"
      ]
     },
     "execution_count": 16,
     "metadata": {},
     "output_type": "execute_result"
    },
    {
     "data": {
      "image/png": "[encoded data removed]",
      "text/plain": [
       "<Figure size 432x288 with 1 Axes>"
      ]
     },
     "metadata": {
      "needs_background": "light"
     },
     "output_type": "display_data"
    }
   ],
   "source": [
    "from sklearn.model_selection import cross_val_score\n",
    "clf_rf = RandomForestClassifier(random_state=10)\n",
    "cv_scores = cross_val_score(clf_rf, X, y.values.ravel(), cv=10)\n",
    "sns.distplot(cv_scores)\n",
    "plt.title('Average score: {}'.format(np.mean(cv_scores)))"
   ]
  },
  {
   "cell_type": "code",
   "execution_count": 17,
   "metadata": {},
   "outputs": [
    {
     "name": "stdout",
     "output_type": "stream",
     "text": [
      "Fitting 5 folds for each of 10 candidates, totalling 50 fits\n"
     ]
    },
    {
     "name": "stderr",
     "output_type": "stream",
     "text": [
      "[Parallel(n_jobs=-1)]: Using backend LokyBackend with 4 concurrent workers.\n",
      "[Parallel(n_jobs=-1)]: Done  42 tasks      | elapsed: 207.9min\n",
      "[Parallel(n_jobs=-1)]: Done  50 out of  50 | elapsed: 210.3min finished\n"
     ]
    },
    {
     "data": {
      "text/plain": [
       "RandomizedSearchCV(cv=None, error_score=nan,\n",
       "                   estimator=RandomForestClassifier(bootstrap=True,\n",
       "                                                    ccp_alpha=0.0,\n",
       "                                                    class_weight=None,\n",
       "                                                    criterion='gini',\n",
       "                                                    max_depth=None,\n",
       "                                                    max_features='auto',\n",
       "                                                    max_leaf_nodes=None,\n",
       "                                                    max_samples=None,\n",
       "                                                    min_impurity_decrease=0.0,\n",
       "                                                    min_impurity_split=None,\n",
       "                                                    min_samples_leaf=1,\n",
       "                                                    min_samples_split=2,\n",
       "                                                    min_weight_fraction_leaf=0.0,\n",
       "                                                    n_estimators=100,\n",
       "                                                    n_jobs=None,\n",
       "                                                    oob_score=False,\n",
       "                                                    random_state=10, verbose=0,\n",
       "                                                    warm_start=False),\n",
       "                   iid='deprecated', n_iter=10, n_jobs=-1,\n",
       "                   param_distributions={'bootstrap': ['True', 'False'],\n",
       "                                        'max_depth': [22, 25, 30, 35],\n",
       "                                        'max_features': [1, 2, 3, 4, 5],\n",
       "                                        'n_estimators': [10, 50, 100, 200,\n",
       "                                                         500]},\n",
       "                   pre_dispatch='2*n_jobs', random_state=None, refit=True,\n",
       "                   return_train_score=False, scoring=None, verbose=1)"
      ]
     },
     "execution_count": 17,
     "metadata": {},
     "output_type": "execute_result"
    }
   ],
   "source": [
    "rfc = RandomForestClassifier(random_state=10)\n",
    "params = {'bootstrap': ['True', 'False'], 'max_depth': [22,25,30,35], 'n_estimators': [10, 50, 100, 200, 500], 'max_features': [1,2,3,4,5]}\n",
    "clf = RandomizedSearchCV(rfc, params, n_jobs=-1, verbose = 1)\n",
    "clf.fit(X_train, y_train.values.ravel())"
   ]
  },
  {
   "cell_type": "code",
   "execution_count": 18,
   "metadata": {},
   "outputs": [
    {
     "name": "stdout",
     "output_type": "stream",
     "text": [
      "{'n_estimators': 50, 'max_features': 3, 'max_depth': 22, 'bootstrap': 'True'}\n",
      "0.6596782770539751\n",
      "RandomForestClassifier(bootstrap='True', ccp_alpha=0.0, class_weight=None,\n",
      "                       criterion='gini', max_depth=22, max_features=3,\n",
      "                       max_leaf_nodes=None, max_samples=None,\n",
      "                       min_impurity_decrease=0.0, min_impurity_split=None,\n",
      "                       min_samples_leaf=1, min_samples_split=2,\n",
      "                       min_weight_fraction_leaf=0.0, n_estimators=50,\n",
      "                       n_jobs=None, oob_score=False, random_state=10, verbose=0,\n",
      "                       warm_start=False)\n"
     ]
    }
   ],
   "source": [
    "\n",
    "print(clf.best_params_)\n",
    "print(clf.best_score_)\n",
    "print(clf.best_estimator_)"
   ]
  },
  {
   "cell_type": "markdown",
   "metadata": {},
   "source": [
    "## Bagging Classifier"
   ]
  },
  {
   "cell_type": "code",
   "execution_count": 19,
   "metadata": {},
   "outputs": [],
   "source": [
    "from sklearn.ensemble import BaggingClassifier\n",
    "clf = BaggingClassifier(n_estimators=5, warm_start=True,random_state=3141)\n",
    "\n",
    "clf.fit(X_train,y_train.values.ravel())\n",
    "y_pred = clf.predict(X_test)"
   ]
  },
  {
   "cell_type": "code",
   "execution_count": 20,
   "metadata": {},
   "outputs": [
    {
     "name": "stdout",
     "output_type": "stream",
     "text": [
      "Accuracy score for Bagging classifier is: 0.6544714906741469\n"
     ]
    }
   ],
   "source": [
    "print(\"Accuracy score for Bagging classifier is:\",accuracy_score(y_test,y_pred))"
   ]
  },
  {
   "cell_type": "markdown",
   "metadata": {},
   "source": [
    "## XGBoost"
   ]
  },
  {
   "cell_type": "code",
   "execution_count": 21,
   "metadata": {},
   "outputs": [],
   "source": [
    "import xgboost as xgb\n",
    "boost = xgb.XGBClassifier(max_depth=9,\n",
    "                          subsample=0.9,\n",
    "                          objective='multi:softmax',\n",
    "                          num_class = 3,\n",
    "                          min_child_weight=2,\n",
    "                          colsample_bytree=0.7,\n",
    "                          n_estimators=1000,\n",
    "                          learning_rate=0.08,\n",
    "                          n_jobs = -1)\n",
    "boost.fit(X_train,y_train.values.ravel())\n",
    "boost_pred = boost.predict(X_test)"
   ]
  },
  {
   "cell_type": "code",
   "execution_count": 22,
   "metadata": {},
   "outputs": [
    {
     "name": "stdout",
     "output_type": "stream",
     "text": [
      "Accuracy score for XGBoost: 0.6765663843873386\n"
     ]
    }
   ],
   "source": [
    "print(\"Accuracy score for XGBoost:\",accuracy_score(y_test,boost_pred))"
   ]
  },
  {
   "cell_type": "code",
   "execution_count": 23,
   "metadata": {},
   "outputs": [
    {
     "data": {
      "text/plain": [
       "Text(0.5, 1.0, 'Average score: 0.6778046279476457')"
      ]
     },
     "execution_count": 23,
     "metadata": {},
     "output_type": "execute_result"
    },
    {
     "data": {
      "image/png": "[encoded data removed]",
      "text/plain": [
       "<Figure size 432x288 with 1 Axes>"
      ]
     },
     "metadata": {
      "needs_background": "light"
     },
     "output_type": "display_data"
    }
   ],
   "source": [
    "from sklearn.model_selection import cross_val_score\n",
    "clf_rf = xgb.XGBClassifier(max_depth=9,\n",
    "                          subsample=0.9,\n",
    "                          objective='multi:softmax',\n",
    "                          num_class = 3,\n",
    "                          min_child_weight=2,\n",
    "                           \n",
    "                          colsample_bytree=0.7,\n",
    "                          n_estimators=1000,\n",
    "                          learning_rate=0.08,\n",
    "                          n_jobs = -1)\n",
    "cv_scores = cross_val_score(clf_rf, X, y.values.ravel(), cv=10)\n",
    "sns.distplot(cv_scores)\n",
    "plt.title('Average score: {}'.format(np.mean(cv_scores)))"
   ]
  },
  {
   "cell_type": "markdown",
   "metadata": {},
   "source": [
    "###### Some more experiment"
   ]
  },
  {
   "cell_type": "code",
   "execution_count": 24,
   "metadata": {},
   "outputs": [],
   "source": [
    "X = finaldataset[['FIRE_YEAR','FIRE_DISCOVERY_MONTH',\"STAT_CAUSE_CODE\",\n",
    "                           'STATE']] # Features\n",
    "y = finaldataset[[\"FIRE_SIZE_CLASS\"]] # Target variable"
   ]
  },
  {
   "cell_type": "code",
   "execution_count": 25,
   "metadata": {},
   "outputs": [],
   "source": [
    "def set_label(cat):\n",
    "    cause = 0\n",
    "    natural = ['Lightning']\n",
    "    accidental = ['Structure','Fireworks','Powerline','Railroad','Smoking','Children','Campfire','Equipment Use','Debris Burning']\n",
    "    malicious = ['Arson']\n",
    "    other = ['Missing/Undefined','Miscellaneous']\n",
    "    if cat in natural:\n",
    "        cause = 1\n",
    "    elif cat in accidental:\n",
    "        cause = 2\n",
    "    elif cat in malicious:\n",
    "        cause = 3\n",
    "    else:\n",
    "        cause = 4\n",
    "    return cause\n",
    "     \n",
    "\n",
    "finaldataset['STAT_CAUSE_DESCR'] = finaldataset['STAT_CAUSE_DESCR'].apply(lambda x: set_label(x)) # I created a copy of the original df earlier in the kernel"
   ]
  },
  {
   "cell_type": "code",
   "execution_count": 26,
   "metadata": {},
   "outputs": [],
   "source": [
    "X = finaldataset[['FIRE_YEAR','FIRE_DISCOVERY_MONTH',\"FIRE_SIZE_CLASS\", 'NWCG_REPORTING_AGENCY',\n",
    "                           'DAY_OF_WEEK',\n",
    "                           'STATE']] # Features\n",
    "y = finaldataset[['STAT_CAUSE_DESCR']] # Target variable"
   ]
  },
  {
   "cell_type": "code",
   "execution_count": 27,
   "metadata": {},
   "outputs": [],
   "source": [
    "X_train, X_test, y_train, y_test = train_test_split(X,y, test_size=.2, random_state=10)"
   ]
  },
  {
   "cell_type": "code",
   "execution_count": 28,
   "metadata": {},
   "outputs": [
    {
     "data": {
      "text/plain": [
       "Text(0.5, 1.0, 'Average score: 0.9122097542970053')"
      ]
     },
     "execution_count": 28,
     "metadata": {},
     "output_type": "execute_result"
    },
    {
     "data": {
      "image/png": "[encoded data removed]",
      "text/plain": [
       "<Figure size 432x288 with 1 Axes>"
      ]
     },
     "metadata": {
      "needs_background": "light"
     },
     "output_type": "display_data"
    }
   ],
   "source": [
    "from sklearn.model_selection import cross_val_score\n",
    "clf_rf = RandomForestClassifier(random_state=10)\n",
    "cv_scores = cross_val_score(clf_rf, X, y.values.ravel(), cv=10)\n",
    "sns.distplot(cv_scores)\n",
    "plt.title('Average score: {}'.format(np.mean(cv_scores)))"
   ]
  },
  {
   "cell_type": "markdown",
   "metadata": {},
   "source": [
    "#### Naive Bayes"
   ]
  },
  {
   "cell_type": "code",
   "execution_count": 29,
   "metadata": {},
   "outputs": [],
   "source": [
    "from sklearn.naive_bayes import GaussianNB\n",
    "model = GaussianNB()\n",
    "model.fit(X_train,y_train.values.ravel())\n",
    "y_pred = model.predict(X_test)"
   ]
  },
  {
   "cell_type": "code",
   "execution_count": 30,
   "metadata": {},
   "outputs": [
    {
     "name": "stdout",
     "output_type": "stream",
     "text": [
      "Accuracy score for Naive Bayes is: 0.8460403344810624\n"
     ]
    }
   ],
   "source": [
    "print(\"Accuracy score for Naive Bayes is:\",accuracy_score(y_test,y_pred))"
   ]
  },
  {
   "cell_type": "markdown",
   "metadata": {},
   "source": [
    "#### Bagging Classifier:\n"
   ]
  },
  {
   "cell_type": "code",
   "execution_count": 31,
   "metadata": {},
   "outputs": [],
   "source": [
    "from sklearn.ensemble import BaggingClassifier\n",
    "clf = BaggingClassifier(n_estimators=5, warm_start=True,random_state=3141)\n",
    "\n",
    "clf.fit(X_train,y_train.values.ravel())\n",
    "y_pred = clf.predict(X_test)"
   ]
  },
  {
   "cell_type": "code",
   "execution_count": 32,
   "metadata": {},
   "outputs": [
    {
     "name": "stdout",
     "output_type": "stream",
     "text": [
      "Accuracy score for Bagging classifier is: 0.9077651187833184\n"
     ]
    }
   ],
   "source": [
    "print(\"Accuracy score for Bagging classifier is:\",accuracy_score(y_test,y_pred))"
   ]
  },
  {
   "cell_type": "markdown",
   "metadata": {},
   "source": [
    "#### XGBoost"
   ]
  },
  {
   "cell_type": "code",
   "execution_count": 33,
   "metadata": {},
   "outputs": [],
   "source": [
    "import xgboost as xgb\n",
    "boost = xgb.XGBClassifier(max_depth=9,\n",
    "                          subsample=0.9,\n",
    "                          objective='multi:softmax',\n",
    "                          num_class = 3,\n",
    "                          min_child_weight=2,\n",
    "                          colsample_bytree=0.7,\n",
    "                          n_estimators=1000,\n",
    "                          learning_rate=0.08,\n",
    "                          n_jobs = -1)\n",
    "boost.fit(X_train,y_train.values.ravel())\n",
    "boost_pred = boost.predict(X_test)"
   ]
  },
  {
   "cell_type": "code",
   "execution_count": 34,
   "metadata": {},
   "outputs": [
    {
     "name": "stdout",
     "output_type": "stream",
     "text": [
      "Accuracy score for XGBoost: 0.9211656319378897\n"
     ]
    }
   ],
   "source": [
    "print(\"Accuracy score for XGBoost:\",accuracy_score(y_test,boost_pred))"
   ]
  },
  {
   "cell_type": "markdown",
   "metadata": {},
   "source": [
    "#### Decision Tree"
   ]
  },
  {
   "cell_type": "code",
   "execution_count": 35,
   "metadata": {},
   "outputs": [],
   "source": [
    "tree_model = tree.DecisionTreeClassifier(random_state=10)\n",
    "tree_model.fit(X_train,y_train)\n",
    "y_pred = tree_model.predict(X_test)\n",
    "cm = confusion_matrix(y_test, y_pred)"
   ]
  },
  {
   "cell_type": "code",
   "execution_count": 36,
   "metadata": {},
   "outputs": [
    {
     "name": "stdout",
     "output_type": "stream",
     "text": [
      "Accuracy score for Decision Tree: 0.9022613365948339\n"
     ]
    }
   ],
   "source": [
    "print(\"Accuracy score for Decision Tree:\",accuracy_score(y_test,y_pred))"
   ]
  },
  {
   "cell_type": "code",
   "execution_count": 37,
   "metadata": {},
   "outputs": [
    {
     "data": {
      "text/plain": [
       "Text(0.5, 1.0, 'Average score: 0.9020077114857987')"
      ]
     },
     "execution_count": 37,
     "metadata": {},
     "output_type": "execute_result"
    },
    {
     "data": {
      "image/png": "[encoded data removed]",
      "text/plain": [
       "<Figure size 432x288 with 1 Axes>"
      ]
     },
     "metadata": {
      "needs_background": "light"
     },
     "output_type": "display_data"
    }
   ],
   "source": [
    "dtc = tree.DecisionTreeClassifier(random_state=10)\n",
    "cv_scores = cross_val_score(dtc, X, y, cv=10)\n",
    "sns.distplot(cv_scores)\n",
    "plt.title('Average score: {}'.format(np.mean(cv_scores)))"
   ]
  },
  {
   "cell_type": "markdown",
   "metadata": {},
   "source": [
    "#### KNN Classifier:\n"
   ]
  },
  {
   "cell_type": "code",
   "execution_count": 38,
   "metadata": {},
   "outputs": [],
   "source": [
    "knn_model = KNeighborsClassifier()\n",
    "knn_model.fit(X_train,y_train.values.ravel())\n",
    "knn_prediction = knn_model.predict(X_test)"
   ]
  },
  {
   "cell_type": "code",
   "execution_count": 39,
   "metadata": {},
   "outputs": [
    {
     "name": "stdout",
     "output_type": "stream",
     "text": [
      "Accuracy score for Decision Tree: 0.9095066537270177\n"
     ]
    }
   ],
   "source": [
    "print(\"Accuracy score for Decision Tree:\",accuracy_score(y_test,knn_prediction))"
   ]
  },
  {
   "cell_type": "code",
   "execution_count": null,
   "metadata": {},
   "outputs": [],
   "source": []
  },
  {
   "cell_type": "code",
   "execution_count": null,
   "metadata": {},
   "outputs": [],
   "source": []
  }
 ],
 "metadata": {
  "kernelspec": {
   "display_name": "Python 3",
   "language": "python",
   "name": "python3"
  },
  "language_info": {
   "codemirror_mode": {
    "name": "ipython",
    "version": 3
   },
   "file_extension": ".py",
   "mimetype": "text/x-python",
   "name": "python",
   "nbconvert_exporter": "python",
   "pygments_lexer": "ipython3",
   "version": "3.7.6"
  }
 },
 "nbformat": 4,
 "nbformat_minor": 4
}
