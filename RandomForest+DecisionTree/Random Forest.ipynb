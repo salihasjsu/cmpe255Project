{
 "cells": [
  {
   "cell_type": "code",
   "execution_count": 1,
   "metadata": {},
   "outputs": [
    {
     "data": {
      "text/html": [
       "<style>.container { width:90% !important; }</style>"
      ],
      "text/plain": [
       "<IPython.core.display.HTML object>"
      ]
     },
     "metadata": {},
     "output_type": "display_data"
    }
   ],
   "source": [
    "from warnings import simplefilter\n",
    "simplefilter(action='ignore', category=FutureWarning)\n",
    "\n",
    "import pandas as pd\n",
    "import numpy as np\n",
    "import matplotlib.pyplot as plt\n",
    "import seaborn as sns\n",
    "import sqlite3\n",
    "\n",
    "from statistics import mean \n",
    "\n",
    "from sklearn.utils import resample\n",
    "from sklearn.model_selection import train_test_split\n",
    "from sklearn.tree import DecisionTreeClassifier\n",
    "from sklearn.ensemble import RandomForestClassifier\n",
    "from sklearn.ensemble import GradientBoostingClassifier\n",
    "from sklearn.svm import SVC\n",
    "from sklearn.neighbors import KNeighborsClassifier\n",
    "from sklearn import metrics\n",
    "from sklearn.model_selection import GridSearchCV\n",
    "from sklearn.model_selection import RandomizedSearchCV\n",
    "from sklearn.ensemble import RandomForestClassifier\n",
    "from sklearn.metrics import f1_score\n",
    "\n",
    "from xgboost import XGBClassifier\n",
    "\n",
    "pd.set_option('display.max_columns', None)\n",
    "pd.set_option('display.max_rows', None)\n",
    "\n",
    "from IPython.core.display import display, HTML\n",
    "display(HTML(\"<style>.container { width:90% !important; }</style>\"))"
   ]
  },
  {
   "cell_type": "code",
   "execution_count": 2,
   "metadata": {},
   "outputs": [],
   "source": [
    "import pandas as pd\n",
    "import matplotlib.pyplot as plt\n",
    "import numpy as np\n",
    "%matplotlib inline\n",
    "# Importing the required packages "
   ]
  },
  {
   "cell_type": "code",
   "execution_count": 3,
   "metadata": {},
   "outputs": [],
   "source": [
    "df1 = pd.read_csv('training_dataset.csv')\n",
    "df2 = pd.read_csv('validation_dataset.csv')"
   ]
  },
  {
   "cell_type": "code",
   "execution_count": 4,
   "metadata": {},
   "outputs": [],
   "source": [
    "final_test_dataset = pd.read_csv('test_dataset.csv')\n",
    "# This is the final test data. Will be used only for testing at the end"
   ]
  },
  {
   "cell_type": "code",
   "execution_count": 5,
   "metadata": {},
   "outputs": [],
   "source": [
    "frames = [df1, df2] \n",
    "final_training_dataset = pd.concat(frames)\n",
    "# Merging the training and the validation set into 1 dataset -final_training_dataset"
   ]
  },
  {
   "cell_type": "code",
   "execution_count": 6,
   "metadata": {},
   "outputs": [],
   "source": [
    "# final_training_dataset"
   ]
  },
  {
   "cell_type": "code",
   "execution_count": 7,
   "metadata": {},
   "outputs": [],
   "source": [
    "from sklearn import preprocessing\n",
    "final_training_dataset['FIRE_DISCOVERY_MONTH'] = pd.DatetimeIndex(final_training_dataset['DISCOVERY_DATE']).month\n",
    "final_training_dataset['DAY_OF_WEEK'] = pd.to_datetime(final_training_dataset['DISCOVERY_DATE']).dt.day_name()"
   ]
  },
  {
   "cell_type": "code",
   "execution_count": 8,
   "metadata": {},
   "outputs": [
    {
     "data": {
      "text/plain": [
       "Index(['FOD_ID', 'NWCG_REPORTING_AGENCY', 'SOURCE_REPORTING_UNIT_NAME',\n",
       "       'FIRE_YEAR', 'DISCOVERY_DATE', 'STAT_CAUSE_DESCR', 'FIRE_SIZE',\n",
       "       'FIRE_SIZE_CLASS', 'LATITUDE', 'LONGITUDE', 'OWNER_DESCR', 'STATE',\n",
       "       'DISCOVERY_TIME', 'CONT_DATE', 'CONT_TIME', 'COUNTY', 'STAT_CAUSE_CODE',\n",
       "       'FIRE_DISCOVERY_MONTH', 'DAY_OF_WEEK'],\n",
       "      dtype='object')"
      ]
     },
     "execution_count": 8,
     "metadata": {},
     "output_type": "execute_result"
    }
   ],
   "source": [
    "final_training_dataset.columns"
   ]
  },
  {
   "cell_type": "code",
   "execution_count": 9,
   "metadata": {},
   "outputs": [],
   "source": [
    "final_training_dataset = final_training_dataset[['FOD_ID', 'NWCG_REPORTING_AGENCY', 'SOURCE_REPORTING_UNIT_NAME',\n",
    "       'FIRE_YEAR', 'FIRE_DISCOVERY_MONTH',\"DAY_OF_WEEK\",'DISCOVERY_DATE', 'FIRE_SIZE',\n",
    "       'FIRE_SIZE_CLASS', 'LATITUDE', 'LONGITUDE', 'OWNER_DESCR', 'STATE',\n",
    "       'DISCOVERY_TIME', 'CONT_DATE', 'CONT_TIME', 'COUNTY','STAT_CAUSE_DESCR', \n",
    "       'STAT_CAUSE_CODE']]\n",
    "\n",
    "# changing the order of the columns "
   ]
  },
  {
   "cell_type": "code",
   "execution_count": 10,
   "metadata": {},
   "outputs": [],
   "source": [
    "\n",
    "from sklearn.preprocessing import LabelEncoder"
   ]
  },
  {
   "cell_type": "code",
   "execution_count": 11,
   "metadata": {},
   "outputs": [],
   "source": [
    "\n",
    "enc=LabelEncoder()"
   ]
  },
  {
   "cell_type": "code",
   "execution_count": 12,
   "metadata": {},
   "outputs": [],
   "source": [
    "final_training_dataset['DAY_OF_WEEK'] = enc.fit_transform(final_training_dataset['DAY_OF_WEEK'])\n",
    "# final_training_dataset['MONTH'] = enc.fit_transform(final_training_dataset['MONTH'])\n",
    "final_training_dataset['STATE'] = enc.fit_transform(final_training_dataset['STATE'])\n",
    "final_training_dataset['FIRE_SIZE_CLASS'] = enc.fit_transform(final_training_dataset['FIRE_SIZE_CLASS'])\n",
    "final_training_dataset['NWCG_REPORTING_AGENCY'] = enc.fit_transform(final_training_dataset['NWCG_REPORTING_AGENCY'])\n",
    "final_training_dataset['SOURCE_REPORTING_UNIT_NAME'] = enc.fit_transform(final_training_dataset['SOURCE_REPORTING_UNIT_NAME'])"
   ]
  },
  {
   "cell_type": "code",
   "execution_count": 13,
   "metadata": {},
   "outputs": [],
   "source": [
    "X = final_training_dataset[['FIRE_YEAR','FIRE_DISCOVERY_MONTH','FIRE_SIZE','SOURCE_REPORTING_UNIT_NAME','NWCG_REPORTING_AGENCY',\n",
    "                           'DAY_OF_WEEK','STATE', \"FIRE_SIZE_CLASS\"]] # Features\n",
    "y = final_training_dataset[[\"STAT_CAUSE_CODE\"]] # Target variable"
   ]
  },
  {
   "cell_type": "code",
   "execution_count": 14,
   "metadata": {},
   "outputs": [],
   "source": [
    "X_train, X_test, y_train, y_test = train_test_split(X,y, test_size=.2, random_state=10)"
   ]
  },
  {
   "cell_type": "code",
   "execution_count": 15,
   "metadata": {},
   "outputs": [
    {
     "name": "stderr",
     "output_type": "stream",
     "text": [
      "C:\\Users\\ninadgorey\\anaconda3\\lib\\site-packages\\ipykernel_launcher.py:2: DataConversionWarning: A column-vector y was passed when a 1d array was expected. Please change the shape of y to (n_samples,), for example using ravel().\n",
      "  \n"
     ]
    },
    {
     "name": "stdout",
     "output_type": "stream",
     "text": [
      "0.4988201276256315\n"
     ]
    }
   ],
   "source": [
    "clf_rf = RandomForestClassifier()\n",
    "clf_rf = clf_rf.fit(X_train, y_train)\n",
    "        \n",
    "y_pred = clf_rf.predict(X_test)\n",
    "print(f1_score(y_test, y_pred, average=\"micro\"))"
   ]
  },
  {
   "cell_type": "code",
   "execution_count": 16,
   "metadata": {},
   "outputs": [
    {
     "data": {
      "text/plain": [
       "[40,\n",
       " 42,\n",
       " 39,\n",
       " 39,\n",
       " 39,\n",
       " 43,\n",
       " 38,\n",
       " 42,\n",
       " 40,\n",
       " 40,\n",
       " 39,\n",
       " 42,\n",
       " 43,\n",
       " 41,\n",
       " 39,\n",
       " 41,\n",
       " 39,\n",
       " 41,\n",
       " 43,\n",
       " 41,\n",
       " 41,\n",
       " 42,\n",
       " 41,\n",
       " 40,\n",
       " 38,\n",
       " 40,\n",
       " 42,\n",
       " 38,\n",
       " 40,\n",
       " 40,\n",
       " 40,\n",
       " 42,\n",
       " 41,\n",
       " 39,\n",
       " 39,\n",
       " 39,\n",
       " 40,\n",
       " 42,\n",
       " 38,\n",
       " 39,\n",
       " 36,\n",
       " 38,\n",
       " 38,\n",
       " 39,\n",
       " 38,\n",
       " 41,\n",
       " 38,\n",
       " 41,\n",
       " 40,\n",
       " 39,\n",
       " 39,\n",
       " 39,\n",
       " 37,\n",
       " 40,\n",
       " 41,\n",
       " 38,\n",
       " 39,\n",
       " 41,\n",
       " 39,\n",
       " 36,\n",
       " 40,\n",
       " 45,\n",
       " 44,\n",
       " 40,\n",
       " 42,\n",
       " 38,\n",
       " 41,\n",
       " 41,\n",
       " 40,\n",
       " 40,\n",
       " 39,\n",
       " 41,\n",
       " 36,\n",
       " 38,\n",
       " 39,\n",
       " 40,\n",
       " 39,\n",
       " 43,\n",
       " 42,\n",
       " 41,\n",
       " 40,\n",
       " 44,\n",
       " 42,\n",
       " 40,\n",
       " 39,\n",
       " 40,\n",
       " 41,\n",
       " 42,\n",
       " 40,\n",
       " 41,\n",
       " 37,\n",
       " 41,\n",
       " 42,\n",
       " 40,\n",
       " 42,\n",
       " 39,\n",
       " 43,\n",
       " 42,\n",
       " 39,\n",
       " 38]"
      ]
     },
     "execution_count": 16,
     "metadata": {},
     "output_type": "execute_result"
    }
   ],
   "source": [
    "[estimator.tree_.max_depth for estimator in clf_rf.estimators_]"
   ]
  },
  {
   "cell_type": "markdown",
   "metadata": {},
   "source": [
    "### Hypertuning the parameters"
   ]
  },
  {
   "cell_type": "code",
   "execution_count": 17,
   "metadata": {},
   "outputs": [
    {
     "name": "stdout",
     "output_type": "stream",
     "text": [
      "Fitting 5 folds for each of 10 candidates, totalling 50 fits\n"
     ]
    },
    {
     "name": "stderr",
     "output_type": "stream",
     "text": [
      "[Parallel(n_jobs=-1)]: Using backend LokyBackend with 4 concurrent workers.\n",
      "[Parallel(n_jobs=-1)]: Done  42 tasks      | elapsed: 24.3min\n",
      "[Parallel(n_jobs=-1)]: Done  50 out of  50 | elapsed: 28.9min finished\n",
      "C:\\Users\\ninadgorey\\anaconda3\\lib\\site-packages\\sklearn\\model_selection\\_search.py:739: DataConversionWarning: A column-vector y was passed when a 1d array was expected. Please change the shape of y to (n_samples,), for example using ravel().\n",
      "  self.best_estimator_.fit(X, y, **fit_params)\n"
     ]
    },
    {
     "data": {
      "text/plain": [
       "RandomizedSearchCV(cv=None, error_score=nan,\n",
       "                   estimator=RandomForestClassifier(bootstrap=True,\n",
       "                                                    ccp_alpha=0.0,\n",
       "                                                    class_weight=None,\n",
       "                                                    criterion='gini',\n",
       "                                                    max_depth=None,\n",
       "                                                    max_features='auto',\n",
       "                                                    max_leaf_nodes=None,\n",
       "                                                    max_samples=None,\n",
       "                                                    min_impurity_decrease=0.0,\n",
       "                                                    min_impurity_split=None,\n",
       "                                                    min_samples_leaf=1,\n",
       "                                                    min_samples_split=2,\n",
       "                                                    min_weight_fraction_leaf=0.0,\n",
       "                                                    n_estimators=100,\n",
       "                                                    n_j...one,\n",
       "                                                    oob_score=False,\n",
       "                                                    random_state=10, verbose=0,\n",
       "                                                    warm_start=False),\n",
       "                   iid='deprecated', n_iter=10, n_jobs=-1,\n",
       "                   param_distributions={'bootstrap': ['True', 'False'],\n",
       "                                        'max_depth': [35, 37, 39, 41, 43],\n",
       "                                        'max_features': [1, 2, 3, 4, 5, 6, 7,\n",
       "                                                         8],\n",
       "                                        'n_estimators': [10, 50, 100, 200,\n",
       "                                                         500]},\n",
       "                   pre_dispatch='2*n_jobs', random_state=None, refit=True,\n",
       "                   return_train_score=False, scoring=None, verbose=1)"
      ]
     },
     "execution_count": 17,
     "metadata": {},
     "output_type": "execute_result"
    }
   ],
   "source": [
    "rfc = RandomForestClassifier(random_state=10)\n",
    "params = {'bootstrap': ['True', 'False'], 'max_depth': [35,37,39,41,43], 'n_estimators': [10, 50, 100, 200, 500], 'max_features': [1,2,3,4,5,6,7,8]}\n",
    "clf = RandomizedSearchCV(rfc, params, n_jobs=-1, verbose = 1)\n",
    "clf.fit(X_train, y_train)"
   ]
  },
  {
   "cell_type": "code",
   "execution_count": 18,
   "metadata": {},
   "outputs": [
    {
     "name": "stdout",
     "output_type": "stream",
     "text": [
      "{'n_estimators': 500, 'max_features': 6, 'max_depth': 41, 'bootstrap': 'False'}\n",
      "0.5003365152946587\n",
      "RandomForestClassifier(bootstrap='False', ccp_alpha=0.0, class_weight=None,\n",
      "                       criterion='gini', max_depth=41, max_features=6,\n",
      "                       max_leaf_nodes=None, max_samples=None,\n",
      "                       min_impurity_decrease=0.0, min_impurity_split=None,\n",
      "                       min_samples_leaf=1, min_samples_split=2,\n",
      "                       min_weight_fraction_leaf=0.0, n_estimators=500,\n",
      "                       n_jobs=None, oob_score=False, random_state=10, verbose=0,\n",
      "                       warm_start=False)\n"
     ]
    }
   ],
   "source": [
    "print(clf.best_params_)\n",
    "print(clf.best_score_)\n",
    "print(clf.best_estimator_)"
   ]
  },
  {
   "cell_type": "code",
   "execution_count": 19,
   "metadata": {},
   "outputs": [],
   "source": [
    "clf_rf = RandomForestClassifier(n_estimators= 500, max_features= 3, max_depth= 37,bootstrap= \"False\" )\n",
    "clf_rf = clf_rf.fit(X_train, y_train.values.ravel())\n",
    "        "
   ]
  },
  {
   "cell_type": "code",
   "execution_count": 20,
   "metadata": {},
   "outputs": [
    {
     "data": {
      "text/plain": [
       "Index(['FOD_ID', 'NWCG_REPORTING_AGENCY', 'SOURCE_REPORTING_UNIT_NAME',\n",
       "       'FIRE_YEAR', 'DISCOVERY_DATE', 'STAT_CAUSE_DESCR', 'FIRE_SIZE',\n",
       "       'FIRE_SIZE_CLASS', 'LATITUDE', 'LONGITUDE', 'OWNER_DESCR', 'STATE',\n",
       "       'DISCOVERY_TIME', 'CONT_DATE', 'CONT_TIME', 'COUNTY',\n",
       "       'STAT_CAUSE_CODE'],\n",
       "      dtype='object')"
      ]
     },
     "execution_count": 20,
     "metadata": {},
     "output_type": "execute_result"
    }
   ],
   "source": [
    "final_test_dataset.columns"
   ]
  },
  {
   "cell_type": "code",
   "execution_count": 21,
   "metadata": {},
   "outputs": [],
   "source": [
    "from sklearn import preprocessing\n",
    "final_test_dataset['FIRE_DISCOVERY_MONTH'] = pd.DatetimeIndex(final_test_dataset['DISCOVERY_DATE']).month\n",
    "final_test_dataset['DAY_OF_WEEK'] = pd.to_datetime(final_test_dataset['DISCOVERY_DATE']).dt.day_name()"
   ]
  },
  {
   "cell_type": "code",
   "execution_count": 22,
   "metadata": {},
   "outputs": [],
   "source": [
    "final_test_dataset['DAY_OF_WEEK'] = enc.fit_transform(final_test_dataset['DAY_OF_WEEK'])\n",
    "final_test_dataset['STATE'] = enc.fit_transform(final_test_dataset['STATE'])\n",
    "final_test_dataset['FIRE_SIZE_CLASS'] = enc.fit_transform(final_test_dataset['FIRE_SIZE_CLASS'])\n",
    "final_test_dataset['NWCG_REPORTING_AGENCY'] = enc.fit_transform(final_test_dataset['NWCG_REPORTING_AGENCY'])\n",
    "final_test_dataset['SOURCE_REPORTING_UNIT_NAME'] = enc.fit_transform(final_test_dataset['SOURCE_REPORTING_UNIT_NAME'])"
   ]
  },
  {
   "cell_type": "code",
   "execution_count": 23,
   "metadata": {},
   "outputs": [],
   "source": [
    "X = final_test_dataset[['FIRE_YEAR','FIRE_DISCOVERY_MONTH','FIRE_SIZE','SOURCE_REPORTING_UNIT_NAME','NWCG_REPORTING_AGENCY',\n",
    "                           'DAY_OF_WEEK','STATE', \"FIRE_SIZE_CLASS\"]] # Features\n",
    "y = final_test_dataset[[\"STAT_CAUSE_CODE\"]] # Target variable"
   ]
  },
  {
   "cell_type": "code",
   "execution_count": 24,
   "metadata": {},
   "outputs": [],
   "source": [
    "y_pred = clf_rf.predict(X)"
   ]
  },
  {
   "cell_type": "code",
   "execution_count": 25,
   "metadata": {},
   "outputs": [
    {
     "name": "stdout",
     "output_type": "stream",
     "text": [
      "0.3062309727336781\n"
     ]
    }
   ],
   "source": [
    "# print(\"Accuracy score for Random Forest  classifier is:\",accuracy_score(y,y_pred))\n",
    "print(f1_score(y, y_pred, average=\"micro\"))"
   ]
  },
  {
   "cell_type": "markdown",
   "metadata": {},
   "source": [
    "### KNN:\n"
   ]
  },
  {
   "cell_type": "code",
   "execution_count": 26,
   "metadata": {},
   "outputs": [
    {
     "data": {
      "text/plain": [
       "KNeighborsClassifier(algorithm='auto', leaf_size=30, metric='minkowski',\n",
       "                     metric_params=None, n_jobs=None, n_neighbors=5, p=2,\n",
       "                     weights='uniform')"
      ]
     },
     "execution_count": 26,
     "metadata": {},
     "output_type": "execute_result"
    }
   ],
   "source": [
    "knn_model = KNeighborsClassifier()\n",
    "knn_model.fit(X_train, y_train.values.ravel())\n",
    "# knn_prediction = knn_model.predict(oob_X)\n",
    "    "
   ]
  },
  {
   "cell_type": "code",
   "execution_count": 27,
   "metadata": {},
   "outputs": [],
   "source": [
    "knn_prediction = knn_model.predict(X_test)"
   ]
  },
  {
   "cell_type": "code",
   "execution_count": 28,
   "metadata": {},
   "outputs": [
    {
     "name": "stdout",
     "output_type": "stream",
     "text": [
      "0.48567535229992026\n"
     ]
    }
   ],
   "source": [
    "print(f1_score(y_test, knn_prediction, average=\"micro\"))"
   ]
  },
  {
   "cell_type": "code",
   "execution_count": 29,
   "metadata": {},
   "outputs": [],
   "source": [
    "knn_prediction = knn_model.predict(X)"
   ]
  },
  {
   "cell_type": "code",
   "execution_count": 30,
   "metadata": {},
   "outputs": [
    {
     "name": "stdout",
     "output_type": "stream",
     "text": [
      "0.16475452333789767\n"
     ]
    }
   ],
   "source": [
    "print(f1_score(y, knn_prediction, average=\"micro\"))"
   ]
  },
  {
   "cell_type": "markdown",
   "metadata": {},
   "source": [
    "#### Experiments with PCA"
   ]
  },
  {
   "cell_type": "code",
   "execution_count": 32,
   "metadata": {},
   "outputs": [],
   "source": [
    "from sklearn.decomposition import PCA"
   ]
  },
  {
   "cell_type": "code",
   "execution_count": 33,
   "metadata": {},
   "outputs": [],
   "source": [
    "X = final_training_dataset[['FIRE_YEAR','FIRE_DISCOVERY_MONTH','FIRE_SIZE','SOURCE_REPORTING_UNIT_NAME','NWCG_REPORTING_AGENCY',\n",
    "                           'DAY_OF_WEEK','STATE', \"FIRE_SIZE_CLASS\"]] # Features\n",
    "y = final_training_dataset[[\"STAT_CAUSE_CODE\"]] # Target variable"
   ]
  },
  {
   "cell_type": "code",
   "execution_count": 36,
   "metadata": {},
   "outputs": [],
   "source": [
    "pca = PCA(n_components = 0.95)\n",
    "df3SS_PCA = pca.fit_transform(X)\n",
    "# Applying PCA to the standardized data (df3SS)"
   ]
  },
  {
   "cell_type": "code",
   "execution_count": 38,
   "metadata": {},
   "outputs": [],
   "source": [
    "X_train, X_test, y_train, y_test = train_test_split(df3SS_PCA,y, test_size=.2, random_state=10)"
   ]
  },
  {
   "cell_type": "code",
   "execution_count": 39,
   "metadata": {},
   "outputs": [
    {
     "data": {
      "text/plain": [
       "KNeighborsClassifier(algorithm='auto', leaf_size=30, metric='minkowski',\n",
       "                     metric_params=None, n_jobs=None, n_neighbors=5, p=2,\n",
       "                     weights='uniform')"
      ]
     },
     "execution_count": 39,
     "metadata": {},
     "output_type": "execute_result"
    }
   ],
   "source": [
    "knn_model = KNeighborsClassifier()\n",
    "knn_model.fit(X_train, y_train.values.ravel())\n",
    "# knn_prediction = knn_model.predict(oob_X)\n",
    "    "
   ]
  },
  {
   "cell_type": "code",
   "execution_count": 40,
   "metadata": {},
   "outputs": [],
   "source": [
    "knn_prediction = knn_model.predict(X_test)"
   ]
  },
  {
   "cell_type": "code",
   "execution_count": 41,
   "metadata": {},
   "outputs": [
    {
     "name": "stdout",
     "output_type": "stream",
     "text": [
      "0.4686752193565541\n"
     ]
    }
   ],
   "source": [
    "print(f1_score(y_test, knn_prediction, average=\"micro\"))"
   ]
  },
  {
   "cell_type": "code",
   "execution_count": 43,
   "metadata": {},
   "outputs": [],
   "source": [
    "X = final_test_dataset[['FIRE_YEAR','FIRE_DISCOVERY_MONTH','FIRE_SIZE','SOURCE_REPORTING_UNIT_NAME','NWCG_REPORTING_AGENCY',\n",
    "                           'DAY_OF_WEEK','STATE', \"FIRE_SIZE_CLASS\"]] # Features\n",
    "y = final_test_dataset[[\"STAT_CAUSE_CODE\"]] # Target variable"
   ]
  },
  {
   "cell_type": "code",
   "execution_count": 44,
   "metadata": {},
   "outputs": [],
   "source": [
    "pca = PCA(n_components = 0.95)\n",
    "df3SS_PCA = pca.fit_transform(X)\n",
    "# Applying PCA to the standardized data (df3SS)"
   ]
  },
  {
   "cell_type": "code",
   "execution_count": 45,
   "metadata": {},
   "outputs": [],
   "source": [
    "knn_prediction = knn_model.predict(df3SS_PCA)"
   ]
  },
  {
   "cell_type": "code",
   "execution_count": 46,
   "metadata": {},
   "outputs": [
    {
     "name": "stdout",
     "output_type": "stream",
     "text": [
      "0.16771912099014902\n"
     ]
    }
   ],
   "source": [
    "print(f1_score(y, knn_prediction, average=\"micro\"))"
   ]
  },
  {
   "cell_type": "code",
   "execution_count": null,
   "metadata": {},
   "outputs": [],
   "source": []
  }
 ],
 "metadata": {
  "kernelspec": {
   "display_name": "Python 3",
   "language": "python",
   "name": "python3"
  },
  "language_info": {
   "codemirror_mode": {
    "name": "ipython",
    "version": 3
   },
   "file_extension": ".py",
   "mimetype": "text/x-python",
   "name": "python",
   "nbconvert_exporter": "python",
   "pygments_lexer": "ipython3",
   "version": "3.7.6"
  }
 },
 "nbformat": 4,
 "nbformat_minor": 4
}
