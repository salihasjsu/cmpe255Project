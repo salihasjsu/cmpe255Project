{
 "cells": [
  {
   "cell_type": "code",
   "execution_count": 1,
   "metadata": {},
   "outputs": [],
   "source": [
    "import pandas as pd\n",
    "import matplotlib.pyplot as plt\n",
    "import numpy as np\n",
    "%matplotlib inline\n",
    "import seaborn as sns\n",
    "# Importing the required packages "
   ]
  },
  {
   "cell_type": "code",
   "execution_count": 2,
   "metadata": {},
   "outputs": [],
   "source": [
    "df1 = pd.read_csv('training_dataset.csv')\n",
    "df2 = pd.read_csv('validation_dataset.csv')\n",
    "df3 = pd.read_csv('test_dataset.csv')"
   ]
  },
  {
   "cell_type": "code",
   "execution_count": 3,
   "metadata": {},
   "outputs": [],
   "source": [
    "frames = [df1, df2, df3] \n",
    "finaldataset = pd.concat(frames)"
   ]
  },
  {
   "cell_type": "code",
   "execution_count": 4,
   "metadata": {},
   "outputs": [
    {
     "data": {
      "text/html": [
       "<div>\n",
       "<style scoped>\n",
       "    .dataframe tbody tr th:only-of-type {\n",
       "        vertical-align: middle;\n",
       "    }\n",
       "\n",
       "    .dataframe tbody tr th {\n",
       "        vertical-align: top;\n",
       "    }\n",
       "\n",
       "    .dataframe thead th {\n",
       "        text-align: right;\n",
       "    }\n",
       "</style>\n",
       "<table border=\"1\" class=\"dataframe\">\n",
       "  <thead>\n",
       "    <tr style=\"text-align: right;\">\n",
       "      <th></th>\n",
       "      <th>FOD_ID</th>\n",
       "      <th>NWCG_REPORTING_AGENCY</th>\n",
       "      <th>SOURCE_REPORTING_UNIT_NAME</th>\n",
       "      <th>FIRE_YEAR</th>\n",
       "      <th>DISCOVERY_DATE</th>\n",
       "      <th>STAT_CAUSE_DESCR</th>\n",
       "      <th>FIRE_SIZE</th>\n",
       "      <th>FIRE_SIZE_CLASS</th>\n",
       "      <th>LATITUDE</th>\n",
       "      <th>LONGITUDE</th>\n",
       "      <th>OWNER_DESCR</th>\n",
       "      <th>STATE</th>\n",
       "      <th>DISCOVERY_TIME</th>\n",
       "      <th>CONT_DATE</th>\n",
       "      <th>CONT_TIME</th>\n",
       "      <th>COUNTY</th>\n",
       "      <th>STAT_CAUSE_CODE</th>\n",
       "    </tr>\n",
       "  </thead>\n",
       "  <tbody>\n",
       "    <tr>\n",
       "      <th>0</th>\n",
       "      <td>1656004</td>\n",
       "      <td>ST/C&amp;L</td>\n",
       "      <td>Georgia Forestry Commission</td>\n",
       "      <td>2002</td>\n",
       "      <td>2002-05-03</td>\n",
       "      <td>Lightning</td>\n",
       "      <td>14.20</td>\n",
       "      <td>C</td>\n",
       "      <td>30.864100</td>\n",
       "      <td>-82.736100</td>\n",
       "      <td>PRIVATE</td>\n",
       "      <td>GA</td>\n",
       "      <td>1025</td>\n",
       "      <td>2002-05-03</td>\n",
       "      <td>1025.0</td>\n",
       "      <td>Clinch</td>\n",
       "      <td>1.0</td>\n",
       "    </tr>\n",
       "    <tr>\n",
       "      <th>1</th>\n",
       "      <td>973664</td>\n",
       "      <td>ST/C&amp;L</td>\n",
       "      <td>AFC District 4</td>\n",
       "      <td>2000</td>\n",
       "      <td>2000-02-10</td>\n",
       "      <td>Arson</td>\n",
       "      <td>0.10</td>\n",
       "      <td>A</td>\n",
       "      <td>30.684200</td>\n",
       "      <td>-87.707800</td>\n",
       "      <td>MISSING/NOT SPECIFIED</td>\n",
       "      <td>AL</td>\n",
       "      <td>1496</td>\n",
       "      <td>2000-02-10</td>\n",
       "      <td>2030.0</td>\n",
       "      <td>Baldwin County</td>\n",
       "      <td>7.0</td>\n",
       "    </tr>\n",
       "    <tr>\n",
       "      <th>2</th>\n",
       "      <td>1167043</td>\n",
       "      <td>ST/C&amp;L</td>\n",
       "      <td>NCS Region 2 District 6</td>\n",
       "      <td>2000</td>\n",
       "      <td>2000-04-21</td>\n",
       "      <td>Arson</td>\n",
       "      <td>1.00</td>\n",
       "      <td>B</td>\n",
       "      <td>35.150000</td>\n",
       "      <td>-78.483300</td>\n",
       "      <td>MISSING/NOT SPECIFIED</td>\n",
       "      <td>NC</td>\n",
       "      <td>1474</td>\n",
       "      <td>2000-04-21</td>\n",
       "      <td>2252.0</td>\n",
       "      <td>Missing/Undefined</td>\n",
       "      <td>7.0</td>\n",
       "    </tr>\n",
       "    <tr>\n",
       "      <th>3</th>\n",
       "      <td>1455401</td>\n",
       "      <td>ST/C&amp;L</td>\n",
       "      <td>Woodruff District</td>\n",
       "      <td>2010</td>\n",
       "      <td>2010-04-02</td>\n",
       "      <td>Powerline</td>\n",
       "      <td>0.20</td>\n",
       "      <td>A</td>\n",
       "      <td>46.027000</td>\n",
       "      <td>-89.529590</td>\n",
       "      <td>PRIVATE</td>\n",
       "      <td>WI</td>\n",
       "      <td>1556</td>\n",
       "      <td>2010-04-02</td>\n",
       "      <td>2059.0</td>\n",
       "      <td>Vilas</td>\n",
       "      <td>11.0</td>\n",
       "    </tr>\n",
       "    <tr>\n",
       "      <th>4</th>\n",
       "      <td>1052580</td>\n",
       "      <td>ST/C&amp;L</td>\n",
       "      <td>SCS Unit 6</td>\n",
       "      <td>2001</td>\n",
       "      <td>2001-12-30</td>\n",
       "      <td>Debris Burning</td>\n",
       "      <td>0.80</td>\n",
       "      <td>B</td>\n",
       "      <td>32.737500</td>\n",
       "      <td>-80.202800</td>\n",
       "      <td>MISSING/NOT SPECIFIED</td>\n",
       "      <td>SC</td>\n",
       "      <td>1357</td>\n",
       "      <td>2001-12-30</td>\n",
       "      <td>1558.0</td>\n",
       "      <td>Charleston County</td>\n",
       "      <td>5.0</td>\n",
       "    </tr>\n",
       "    <tr>\n",
       "      <th>...</th>\n",
       "      <td>...</td>\n",
       "      <td>...</td>\n",
       "      <td>...</td>\n",
       "      <td>...</td>\n",
       "      <td>...</td>\n",
       "      <td>...</td>\n",
       "      <td>...</td>\n",
       "      <td>...</td>\n",
       "      <td>...</td>\n",
       "      <td>...</td>\n",
       "      <td>...</td>\n",
       "      <td>...</td>\n",
       "      <td>...</td>\n",
       "      <td>...</td>\n",
       "      <td>...</td>\n",
       "      <td>...</td>\n",
       "      <td>...</td>\n",
       "    </tr>\n",
       "    <tr>\n",
       "      <th>75216</th>\n",
       "      <td>201621828</td>\n",
       "      <td>ST/C&amp;L</td>\n",
       "      <td>Wisconsin Department of Natural Resources</td>\n",
       "      <td>2012</td>\n",
       "      <td>2012-05-25</td>\n",
       "      <td>Railroad</td>\n",
       "      <td>0.20</td>\n",
       "      <td>A</td>\n",
       "      <td>44.434980</td>\n",
       "      <td>-89.652950</td>\n",
       "      <td>PRIVATE</td>\n",
       "      <td>WI</td>\n",
       "      <td>1512</td>\n",
       "      <td>2012-05-25</td>\n",
       "      <td>1524.0</td>\n",
       "      <td>Portage</td>\n",
       "      <td>6.0</td>\n",
       "    </tr>\n",
       "    <tr>\n",
       "      <th>75217</th>\n",
       "      <td>300074520</td>\n",
       "      <td>ST/C&amp;L</td>\n",
       "      <td>Washington Department of Natural Resources</td>\n",
       "      <td>2014</td>\n",
       "      <td>2014-06-03</td>\n",
       "      <td>Lightning</td>\n",
       "      <td>375.00</td>\n",
       "      <td>E</td>\n",
       "      <td>47.963200</td>\n",
       "      <td>-119.686600</td>\n",
       "      <td>STATE</td>\n",
       "      <td>WA</td>\n",
       "      <td>1754</td>\n",
       "      <td>2014-06-18</td>\n",
       "      <td>1258.0</td>\n",
       "      <td>Douglas County</td>\n",
       "      <td>1.0</td>\n",
       "    </tr>\n",
       "    <tr>\n",
       "      <th>75218</th>\n",
       "      <td>563567</td>\n",
       "      <td>ST/C&amp;L</td>\n",
       "      <td>North Carolina Division of Forest Resources</td>\n",
       "      <td>2007</td>\n",
       "      <td>2007-10-09</td>\n",
       "      <td>Missing/Undefined</td>\n",
       "      <td>0.10</td>\n",
       "      <td>A</td>\n",
       "      <td>35.592800</td>\n",
       "      <td>-81.318880</td>\n",
       "      <td>MISSING/NOT SPECIFIED</td>\n",
       "      <td>NC</td>\n",
       "      <td>1280</td>\n",
       "      <td>2007-10-09</td>\n",
       "      <td>712.0</td>\n",
       "      <td>Catawba</td>\n",
       "      <td>13.0</td>\n",
       "    </tr>\n",
       "    <tr>\n",
       "      <th>75219</th>\n",
       "      <td>300221880</td>\n",
       "      <td>ST/C&amp;L</td>\n",
       "      <td>Idaho Department of Lands</td>\n",
       "      <td>2015</td>\n",
       "      <td>2015-08-10</td>\n",
       "      <td>Lightning</td>\n",
       "      <td>0.25</td>\n",
       "      <td>A</td>\n",
       "      <td>46.525959</td>\n",
       "      <td>-115.699677</td>\n",
       "      <td>PRIVATE</td>\n",
       "      <td>ID</td>\n",
       "      <td>1800</td>\n",
       "      <td>2015-08-14</td>\n",
       "      <td>1230.0</td>\n",
       "      <td>Clearwater</td>\n",
       "      <td>1.0</td>\n",
       "    </tr>\n",
       "    <tr>\n",
       "      <th>75220</th>\n",
       "      <td>1361664</td>\n",
       "      <td>ST/C&amp;L</td>\n",
       "      <td>Nevada-Yuba-Placer Unit</td>\n",
       "      <td>1992</td>\n",
       "      <td>1992-05-21</td>\n",
       "      <td>Miscellaneous</td>\n",
       "      <td>0.20</td>\n",
       "      <td>A</td>\n",
       "      <td>38.993056</td>\n",
       "      <td>-121.125000</td>\n",
       "      <td>MISSING/NOT SPECIFIED</td>\n",
       "      <td>CA</td>\n",
       "      <td>1460</td>\n",
       "      <td>1992-05-21</td>\n",
       "      <td>1350.0</td>\n",
       "      <td>Placer County</td>\n",
       "      <td>9.0</td>\n",
       "    </tr>\n",
       "  </tbody>\n",
       "</table>\n",
       "<p>376101 rows × 17 columns</p>\n",
       "</div>"
      ],
      "text/plain": [
       "          FOD_ID NWCG_REPORTING_AGENCY  \\\n",
       "0        1656004                ST/C&L   \n",
       "1         973664                ST/C&L   \n",
       "2        1167043                ST/C&L   \n",
       "3        1455401                ST/C&L   \n",
       "4        1052580                ST/C&L   \n",
       "...          ...                   ...   \n",
       "75216  201621828                ST/C&L   \n",
       "75217  300074520                ST/C&L   \n",
       "75218     563567                ST/C&L   \n",
       "75219  300221880                ST/C&L   \n",
       "75220    1361664                ST/C&L   \n",
       "\n",
       "                        SOURCE_REPORTING_UNIT_NAME  FIRE_YEAR DISCOVERY_DATE  \\\n",
       "0                      Georgia Forestry Commission       2002     2002-05-03   \n",
       "1                                   AFC District 4       2000     2000-02-10   \n",
       "2                          NCS Region 2 District 6       2000     2000-04-21   \n",
       "3                                Woodruff District       2010     2010-04-02   \n",
       "4                                       SCS Unit 6       2001     2001-12-30   \n",
       "...                                            ...        ...            ...   \n",
       "75216    Wisconsin Department of Natural Resources       2012     2012-05-25   \n",
       "75217   Washington Department of Natural Resources       2014     2014-06-03   \n",
       "75218  North Carolina Division of Forest Resources       2007     2007-10-09   \n",
       "75219                    Idaho Department of Lands       2015     2015-08-10   \n",
       "75220                      Nevada-Yuba-Placer Unit       1992     1992-05-21   \n",
       "\n",
       "        STAT_CAUSE_DESCR  FIRE_SIZE FIRE_SIZE_CLASS   LATITUDE   LONGITUDE  \\\n",
       "0              Lightning      14.20               C  30.864100  -82.736100   \n",
       "1                  Arson       0.10               A  30.684200  -87.707800   \n",
       "2                  Arson       1.00               B  35.150000  -78.483300   \n",
       "3              Powerline       0.20               A  46.027000  -89.529590   \n",
       "4         Debris Burning       0.80               B  32.737500  -80.202800   \n",
       "...                  ...        ...             ...        ...         ...   \n",
       "75216           Railroad       0.20               A  44.434980  -89.652950   \n",
       "75217          Lightning     375.00               E  47.963200 -119.686600   \n",
       "75218  Missing/Undefined       0.10               A  35.592800  -81.318880   \n",
       "75219          Lightning       0.25               A  46.525959 -115.699677   \n",
       "75220      Miscellaneous       0.20               A  38.993056 -121.125000   \n",
       "\n",
       "                 OWNER_DESCR STATE  DISCOVERY_TIME   CONT_DATE  CONT_TIME  \\\n",
       "0                    PRIVATE    GA            1025  2002-05-03     1025.0   \n",
       "1      MISSING/NOT SPECIFIED    AL            1496  2000-02-10     2030.0   \n",
       "2      MISSING/NOT SPECIFIED    NC            1474  2000-04-21     2252.0   \n",
       "3                    PRIVATE    WI            1556  2010-04-02     2059.0   \n",
       "4      MISSING/NOT SPECIFIED    SC            1357  2001-12-30     1558.0   \n",
       "...                      ...   ...             ...         ...        ...   \n",
       "75216                PRIVATE    WI            1512  2012-05-25     1524.0   \n",
       "75217                  STATE    WA            1754  2014-06-18     1258.0   \n",
       "75218  MISSING/NOT SPECIFIED    NC            1280  2007-10-09      712.0   \n",
       "75219                PRIVATE    ID            1800  2015-08-14     1230.0   \n",
       "75220  MISSING/NOT SPECIFIED    CA            1460  1992-05-21     1350.0   \n",
       "\n",
       "                  COUNTY  STAT_CAUSE_CODE  \n",
       "0                 Clinch              1.0  \n",
       "1         Baldwin County              7.0  \n",
       "2      Missing/Undefined              7.0  \n",
       "3                  Vilas             11.0  \n",
       "4      Charleston County              5.0  \n",
       "...                  ...              ...  \n",
       "75216            Portage              6.0  \n",
       "75217     Douglas County              1.0  \n",
       "75218            Catawba             13.0  \n",
       "75219         Clearwater              1.0  \n",
       "75220      Placer County              9.0  \n",
       "\n",
       "[376101 rows x 17 columns]"
      ]
     },
     "execution_count": 4,
     "metadata": {},
     "output_type": "execute_result"
    }
   ],
   "source": [
    "finaldataset"
   ]
  },
  {
   "cell_type": "code",
   "execution_count": 5,
   "metadata": {},
   "outputs": [],
   "source": [
    "from sklearn import preprocessing\n",
    "finaldataset['FIRE_DISCOVERY_MONTH'] = pd.DatetimeIndex(finaldataset['DISCOVERY_DATE']).month\n",
    "finaldataset['DAY_OF_WEEK'] = pd.to_datetime(finaldataset['DISCOVERY_DATE']).dt.day_name()"
   ]
  },
  {
   "cell_type": "code",
   "execution_count": 6,
   "metadata": {},
   "outputs": [
    {
     "data": {
      "text/plain": [
       "Index(['FOD_ID', 'NWCG_REPORTING_AGENCY', 'SOURCE_REPORTING_UNIT_NAME',\n",
       "       'FIRE_YEAR', 'DISCOVERY_DATE', 'STAT_CAUSE_DESCR', 'FIRE_SIZE',\n",
       "       'FIRE_SIZE_CLASS', 'LATITUDE', 'LONGITUDE', 'OWNER_DESCR', 'STATE',\n",
       "       'DISCOVERY_TIME', 'CONT_DATE', 'CONT_TIME', 'COUNTY', 'STAT_CAUSE_CODE',\n",
       "       'FIRE_DISCOVERY_MONTH', 'DAY_OF_WEEK'],\n",
       "      dtype='object')"
      ]
     },
     "execution_count": 6,
     "metadata": {},
     "output_type": "execute_result"
    }
   ],
   "source": [
    "finaldataset.columns"
   ]
  },
  {
   "cell_type": "code",
   "execution_count": 7,
   "metadata": {},
   "outputs": [],
   "source": [
    "from sklearn.preprocessing import LabelEncoder"
   ]
  },
  {
   "cell_type": "code",
   "execution_count": 8,
   "metadata": {},
   "outputs": [],
   "source": [
    "enc=LabelEncoder()"
   ]
  },
  {
   "cell_type": "code",
   "execution_count": 9,
   "metadata": {},
   "outputs": [],
   "source": [
    "finaldataset['DAY_OF_WEEK'] = enc.fit_transform(finaldataset['DAY_OF_WEEK'])\n",
    "finaldataset['FIRE_DISCOVERY_MONTH'] = enc.fit_transform(finaldataset['FIRE_DISCOVERY_MONTH'])\n",
    "finaldataset['STATE'] = enc.fit_transform(finaldataset['STATE'])\n",
    "finaldataset['FIRE_SIZE_CLASS'] = enc.fit_transform(finaldataset['FIRE_SIZE_CLASS'])\n",
    "finaldataset['NWCG_REPORTING_AGENCY'] = enc.fit_transform(finaldataset['NWCG_REPORTING_AGENCY'])\n",
    "finaldataset['SOURCE_REPORTING_UNIT_NAME'] = enc.fit_transform(finaldataset['SOURCE_REPORTING_UNIT_NAME'])\n",
    "finaldataset['FIRE_YEAR'] = enc.fit_transform(finaldataset['FIRE_YEAR'])"
   ]
  },
  {
   "cell_type": "code",
   "execution_count": 10,
   "metadata": {},
   "outputs": [
    {
     "data": {
      "text/html": [
       "<div>\n",
       "<style scoped>\n",
       "    .dataframe tbody tr th:only-of-type {\n",
       "        vertical-align: middle;\n",
       "    }\n",
       "\n",
       "    .dataframe tbody tr th {\n",
       "        vertical-align: top;\n",
       "    }\n",
       "\n",
       "    .dataframe thead th {\n",
       "        text-align: right;\n",
       "    }\n",
       "</style>\n",
       "<table border=\"1\" class=\"dataframe\">\n",
       "  <thead>\n",
       "    <tr style=\"text-align: right;\">\n",
       "      <th></th>\n",
       "      <th>FOD_ID</th>\n",
       "      <th>NWCG_REPORTING_AGENCY</th>\n",
       "      <th>SOURCE_REPORTING_UNIT_NAME</th>\n",
       "      <th>FIRE_YEAR</th>\n",
       "      <th>DISCOVERY_DATE</th>\n",
       "      <th>STAT_CAUSE_DESCR</th>\n",
       "      <th>FIRE_SIZE</th>\n",
       "      <th>FIRE_SIZE_CLASS</th>\n",
       "      <th>LATITUDE</th>\n",
       "      <th>LONGITUDE</th>\n",
       "      <th>OWNER_DESCR</th>\n",
       "      <th>STATE</th>\n",
       "      <th>DISCOVERY_TIME</th>\n",
       "      <th>CONT_DATE</th>\n",
       "      <th>CONT_TIME</th>\n",
       "      <th>COUNTY</th>\n",
       "      <th>STAT_CAUSE_CODE</th>\n",
       "      <th>FIRE_DISCOVERY_MONTH</th>\n",
       "      <th>DAY_OF_WEEK</th>\n",
       "    </tr>\n",
       "  </thead>\n",
       "  <tbody>\n",
       "    <tr>\n",
       "      <th>0</th>\n",
       "      <td>1656004</td>\n",
       "      <td>8</td>\n",
       "      <td>1207</td>\n",
       "      <td>10</td>\n",
       "      <td>2002-05-03</td>\n",
       "      <td>Lightning</td>\n",
       "      <td>14.20</td>\n",
       "      <td>2</td>\n",
       "      <td>30.864100</td>\n",
       "      <td>-82.736100</td>\n",
       "      <td>PRIVATE</td>\n",
       "      <td>10</td>\n",
       "      <td>1025</td>\n",
       "      <td>2002-05-03</td>\n",
       "      <td>1025.0</td>\n",
       "      <td>Clinch</td>\n",
       "      <td>1.0</td>\n",
       "      <td>4</td>\n",
       "      <td>0</td>\n",
       "    </tr>\n",
       "    <tr>\n",
       "      <th>1</th>\n",
       "      <td>973664</td>\n",
       "      <td>8</td>\n",
       "      <td>12</td>\n",
       "      <td>8</td>\n",
       "      <td>2000-02-10</td>\n",
       "      <td>Arson</td>\n",
       "      <td>0.10</td>\n",
       "      <td>0</td>\n",
       "      <td>30.684200</td>\n",
       "      <td>-87.707800</td>\n",
       "      <td>MISSING/NOT SPECIFIED</td>\n",
       "      <td>1</td>\n",
       "      <td>1496</td>\n",
       "      <td>2000-02-10</td>\n",
       "      <td>2030.0</td>\n",
       "      <td>Baldwin County</td>\n",
       "      <td>7.0</td>\n",
       "      <td>1</td>\n",
       "      <td>4</td>\n",
       "    </tr>\n",
       "    <tr>\n",
       "      <th>2</th>\n",
       "      <td>1167043</td>\n",
       "      <td>8</td>\n",
       "      <td>2106</td>\n",
       "      <td>8</td>\n",
       "      <td>2000-04-21</td>\n",
       "      <td>Arson</td>\n",
       "      <td>1.00</td>\n",
       "      <td>1</td>\n",
       "      <td>35.150000</td>\n",
       "      <td>-78.483300</td>\n",
       "      <td>MISSING/NOT SPECIFIED</td>\n",
       "      <td>27</td>\n",
       "      <td>1474</td>\n",
       "      <td>2000-04-21</td>\n",
       "      <td>2252.0</td>\n",
       "      <td>Missing/Undefined</td>\n",
       "      <td>7.0</td>\n",
       "      <td>3</td>\n",
       "      <td>0</td>\n",
       "    </tr>\n",
       "    <tr>\n",
       "      <th>3</th>\n",
       "      <td>1455401</td>\n",
       "      <td>8</td>\n",
       "      <td>3385</td>\n",
       "      <td>18</td>\n",
       "      <td>2010-04-02</td>\n",
       "      <td>Powerline</td>\n",
       "      <td>0.20</td>\n",
       "      <td>0</td>\n",
       "      <td>46.027000</td>\n",
       "      <td>-89.529590</td>\n",
       "      <td>PRIVATE</td>\n",
       "      <td>49</td>\n",
       "      <td>1556</td>\n",
       "      <td>2010-04-02</td>\n",
       "      <td>2059.0</td>\n",
       "      <td>Vilas</td>\n",
       "      <td>11.0</td>\n",
       "      <td>3</td>\n",
       "      <td>0</td>\n",
       "    </tr>\n",
       "    <tr>\n",
       "      <th>4</th>\n",
       "      <td>1052580</td>\n",
       "      <td>8</td>\n",
       "      <td>2683</td>\n",
       "      <td>9</td>\n",
       "      <td>2001-12-30</td>\n",
       "      <td>Debris Burning</td>\n",
       "      <td>0.80</td>\n",
       "      <td>1</td>\n",
       "      <td>32.737500</td>\n",
       "      <td>-80.202800</td>\n",
       "      <td>MISSING/NOT SPECIFIED</td>\n",
       "      <td>41</td>\n",
       "      <td>1357</td>\n",
       "      <td>2001-12-30</td>\n",
       "      <td>1558.0</td>\n",
       "      <td>Charleston County</td>\n",
       "      <td>5.0</td>\n",
       "      <td>11</td>\n",
       "      <td>3</td>\n",
       "    </tr>\n",
       "    <tr>\n",
       "      <th>...</th>\n",
       "      <td>...</td>\n",
       "      <td>...</td>\n",
       "      <td>...</td>\n",
       "      <td>...</td>\n",
       "      <td>...</td>\n",
       "      <td>...</td>\n",
       "      <td>...</td>\n",
       "      <td>...</td>\n",
       "      <td>...</td>\n",
       "      <td>...</td>\n",
       "      <td>...</td>\n",
       "      <td>...</td>\n",
       "      <td>...</td>\n",
       "      <td>...</td>\n",
       "      <td>...</td>\n",
       "      <td>...</td>\n",
       "      <td>...</td>\n",
       "      <td>...</td>\n",
       "      <td>...</td>\n",
       "    </tr>\n",
       "    <tr>\n",
       "      <th>75216</th>\n",
       "      <td>201621828</td>\n",
       "      <td>8</td>\n",
       "      <td>3376</td>\n",
       "      <td>20</td>\n",
       "      <td>2012-05-25</td>\n",
       "      <td>Railroad</td>\n",
       "      <td>0.20</td>\n",
       "      <td>0</td>\n",
       "      <td>44.434980</td>\n",
       "      <td>-89.652950</td>\n",
       "      <td>PRIVATE</td>\n",
       "      <td>49</td>\n",
       "      <td>1512</td>\n",
       "      <td>2012-05-25</td>\n",
       "      <td>1524.0</td>\n",
       "      <td>Portage</td>\n",
       "      <td>6.0</td>\n",
       "      <td>4</td>\n",
       "      <td>0</td>\n",
       "    </tr>\n",
       "    <tr>\n",
       "      <th>75217</th>\n",
       "      <td>300074520</td>\n",
       "      <td>8</td>\n",
       "      <td>3255</td>\n",
       "      <td>22</td>\n",
       "      <td>2014-06-03</td>\n",
       "      <td>Lightning</td>\n",
       "      <td>375.00</td>\n",
       "      <td>4</td>\n",
       "      <td>47.963200</td>\n",
       "      <td>-119.686600</td>\n",
       "      <td>STATE</td>\n",
       "      <td>48</td>\n",
       "      <td>1754</td>\n",
       "      <td>2014-06-18</td>\n",
       "      <td>1258.0</td>\n",
       "      <td>Douglas County</td>\n",
       "      <td>1.0</td>\n",
       "      <td>5</td>\n",
       "      <td>5</td>\n",
       "    </tr>\n",
       "    <tr>\n",
       "      <th>75218</th>\n",
       "      <td>563567</td>\n",
       "      <td>8</td>\n",
       "      <td>2212</td>\n",
       "      <td>15</td>\n",
       "      <td>2007-10-09</td>\n",
       "      <td>Missing/Undefined</td>\n",
       "      <td>0.10</td>\n",
       "      <td>0</td>\n",
       "      <td>35.592800</td>\n",
       "      <td>-81.318880</td>\n",
       "      <td>MISSING/NOT SPECIFIED</td>\n",
       "      <td>27</td>\n",
       "      <td>1280</td>\n",
       "      <td>2007-10-09</td>\n",
       "      <td>712.0</td>\n",
       "      <td>Catawba</td>\n",
       "      <td>13.0</td>\n",
       "      <td>9</td>\n",
       "      <td>5</td>\n",
       "    </tr>\n",
       "    <tr>\n",
       "      <th>75219</th>\n",
       "      <td>300221880</td>\n",
       "      <td>8</td>\n",
       "      <td>1453</td>\n",
       "      <td>23</td>\n",
       "      <td>2015-08-10</td>\n",
       "      <td>Lightning</td>\n",
       "      <td>0.25</td>\n",
       "      <td>0</td>\n",
       "      <td>46.525959</td>\n",
       "      <td>-115.699677</td>\n",
       "      <td>PRIVATE</td>\n",
       "      <td>13</td>\n",
       "      <td>1800</td>\n",
       "      <td>2015-08-14</td>\n",
       "      <td>1230.0</td>\n",
       "      <td>Clearwater</td>\n",
       "      <td>1.0</td>\n",
       "      <td>7</td>\n",
       "      <td>1</td>\n",
       "    </tr>\n",
       "    <tr>\n",
       "      <th>75220</th>\n",
       "      <td>1361664</td>\n",
       "      <td>8</td>\n",
       "      <td>2162</td>\n",
       "      <td>0</td>\n",
       "      <td>1992-05-21</td>\n",
       "      <td>Miscellaneous</td>\n",
       "      <td>0.20</td>\n",
       "      <td>0</td>\n",
       "      <td>38.993056</td>\n",
       "      <td>-121.125000</td>\n",
       "      <td>MISSING/NOT SPECIFIED</td>\n",
       "      <td>4</td>\n",
       "      <td>1460</td>\n",
       "      <td>1992-05-21</td>\n",
       "      <td>1350.0</td>\n",
       "      <td>Placer County</td>\n",
       "      <td>9.0</td>\n",
       "      <td>4</td>\n",
       "      <td>4</td>\n",
       "    </tr>\n",
       "  </tbody>\n",
       "</table>\n",
       "<p>376101 rows × 19 columns</p>\n",
       "</div>"
      ],
      "text/plain": [
       "          FOD_ID  NWCG_REPORTING_AGENCY  SOURCE_REPORTING_UNIT_NAME  \\\n",
       "0        1656004                      8                        1207   \n",
       "1         973664                      8                          12   \n",
       "2        1167043                      8                        2106   \n",
       "3        1455401                      8                        3385   \n",
       "4        1052580                      8                        2683   \n",
       "...          ...                    ...                         ...   \n",
       "75216  201621828                      8                        3376   \n",
       "75217  300074520                      8                        3255   \n",
       "75218     563567                      8                        2212   \n",
       "75219  300221880                      8                        1453   \n",
       "75220    1361664                      8                        2162   \n",
       "\n",
       "       FIRE_YEAR DISCOVERY_DATE   STAT_CAUSE_DESCR  FIRE_SIZE  \\\n",
       "0             10     2002-05-03          Lightning      14.20   \n",
       "1              8     2000-02-10              Arson       0.10   \n",
       "2              8     2000-04-21              Arson       1.00   \n",
       "3             18     2010-04-02          Powerline       0.20   \n",
       "4              9     2001-12-30     Debris Burning       0.80   \n",
       "...          ...            ...                ...        ...   \n",
       "75216         20     2012-05-25           Railroad       0.20   \n",
       "75217         22     2014-06-03          Lightning     375.00   \n",
       "75218         15     2007-10-09  Missing/Undefined       0.10   \n",
       "75219         23     2015-08-10          Lightning       0.25   \n",
       "75220          0     1992-05-21      Miscellaneous       0.20   \n",
       "\n",
       "       FIRE_SIZE_CLASS   LATITUDE   LONGITUDE            OWNER_DESCR  STATE  \\\n",
       "0                    2  30.864100  -82.736100                PRIVATE     10   \n",
       "1                    0  30.684200  -87.707800  MISSING/NOT SPECIFIED      1   \n",
       "2                    1  35.150000  -78.483300  MISSING/NOT SPECIFIED     27   \n",
       "3                    0  46.027000  -89.529590                PRIVATE     49   \n",
       "4                    1  32.737500  -80.202800  MISSING/NOT SPECIFIED     41   \n",
       "...                ...        ...         ...                    ...    ...   \n",
       "75216                0  44.434980  -89.652950                PRIVATE     49   \n",
       "75217                4  47.963200 -119.686600                  STATE     48   \n",
       "75218                0  35.592800  -81.318880  MISSING/NOT SPECIFIED     27   \n",
       "75219                0  46.525959 -115.699677                PRIVATE     13   \n",
       "75220                0  38.993056 -121.125000  MISSING/NOT SPECIFIED      4   \n",
       "\n",
       "       DISCOVERY_TIME   CONT_DATE  CONT_TIME             COUNTY  \\\n",
       "0                1025  2002-05-03     1025.0             Clinch   \n",
       "1                1496  2000-02-10     2030.0     Baldwin County   \n",
       "2                1474  2000-04-21     2252.0  Missing/Undefined   \n",
       "3                1556  2010-04-02     2059.0              Vilas   \n",
       "4                1357  2001-12-30     1558.0  Charleston County   \n",
       "...               ...         ...        ...                ...   \n",
       "75216            1512  2012-05-25     1524.0            Portage   \n",
       "75217            1754  2014-06-18     1258.0     Douglas County   \n",
       "75218            1280  2007-10-09      712.0            Catawba   \n",
       "75219            1800  2015-08-14     1230.0         Clearwater   \n",
       "75220            1460  1992-05-21     1350.0      Placer County   \n",
       "\n",
       "       STAT_CAUSE_CODE  FIRE_DISCOVERY_MONTH  DAY_OF_WEEK  \n",
       "0                  1.0                     4            0  \n",
       "1                  7.0                     1            4  \n",
       "2                  7.0                     3            0  \n",
       "3                 11.0                     3            0  \n",
       "4                  5.0                    11            3  \n",
       "...                ...                   ...          ...  \n",
       "75216              6.0                     4            0  \n",
       "75217              1.0                     5            5  \n",
       "75218             13.0                     9            5  \n",
       "75219              1.0                     7            1  \n",
       "75220              9.0                     4            4  \n",
       "\n",
       "[376101 rows x 19 columns]"
      ]
     },
     "execution_count": 10,
     "metadata": {},
     "output_type": "execute_result"
    }
   ],
   "source": [
    "finaldataset"
   ]
  },
  {
   "cell_type": "code",
   "execution_count": 11,
   "metadata": {},
   "outputs": [],
   "source": [
    "X = finaldataset[['FIRE_YEAR','FIRE_DISCOVERY_MONTH','NWCG_REPORTING_AGENCY',\n",
    "                           'DAY_OF_WEEK','STATE', \"FIRE_SIZE_CLASS\"]] # Features\n",
    "y = finaldataset[[\"STAT_CAUSE_DESCR\"]] # Target variable"
   ]
  },
  {
   "cell_type": "code",
   "execution_count": 12,
   "metadata": {},
   "outputs": [],
   "source": [
    "from sklearn.metrics import classification_report\n",
    "from sklearn.metrics import classification_report,accuracy_score  \n",
    "from sklearn.metrics import confusion_matrix\n",
    "from sklearn.model_selection import train_test_split \n",
    "from sklearn import tree"
   ]
  },
  {
   "cell_type": "code",
   "execution_count": 13,
   "metadata": {},
   "outputs": [],
   "source": [
    "X_train, X_test, y_train, y_test = train_test_split(X,y, test_size=.2, random_state=10)"
   ]
  },
  {
   "cell_type": "code",
   "execution_count": 14,
   "metadata": {},
   "outputs": [],
   "source": [
    "tree_model = tree.DecisionTreeClassifier(random_state=10)\n",
    "tree_model.fit(X_train,y_train)\n",
    "y_pred = tree_model.predict(X_test)\n",
    "cm = confusion_matrix(y_test, y_pred)\n",
    "# cm"
   ]
  },
  {
   "cell_type": "code",
   "execution_count": 15,
   "metadata": {},
   "outputs": [
    {
     "name": "stdout",
     "output_type": "stream",
     "text": [
      "Accuracy score for Decision Tree: 0.46513606572632643\n",
      "Accuracy score for Decision Tree: 0.46513606572632643\n",
      "Depth of the Original Tree :36\n",
      "No of leaves in the Original Tree :87677\n"
     ]
    }
   ],
   "source": [
    "print(\"Accuracy score for Decision Tree:\",accuracy_score(y_test,y_pred))\n",
    "print(\"Accuracy score for Decision Tree:\",accuracy_score(y_test,y_pred))\n",
    "print(\"Depth of the Original Tree :\" + str(tree_model.get_depth()))\n",
    "print(\"No of leaves in the Original Tree :\" + str(tree_model.get_n_leaves()))"
   ]
  },
  {
   "cell_type": "code",
   "execution_count": 16,
   "metadata": {},
   "outputs": [
    {
     "data": {
      "text/plain": [
       "Text(0.5, 1.0, 'Average score: 0.4710037990817587')"
      ]
     },
     "execution_count": 16,
     "metadata": {},
     "output_type": "execute_result"
    },
    {
     "data": {
      "image/png": "[encoded data removed]",
      "text/plain": [
       "<Figure size 432x288 with 1 Axes>"
      ]
     },
     "metadata": {
      "needs_background": "light"
     },
     "output_type": "display_data"
    }
   ],
   "source": [
    "from sklearn.model_selection import cross_val_score\n",
    "\n",
    "dtc = tree.DecisionTreeClassifier(random_state=10)\n",
    "cv_scores = cross_val_score(dtc, X, y, cv=10)\n",
    "sns.distplot(cv_scores)\n",
    "plt.title('Average score: {}'.format(np.mean(cv_scores)))"
   ]
  },
  {
   "cell_type": "code",
   "execution_count": 17,
   "metadata": {},
   "outputs": [
    {
     "name": "stdout",
     "output_type": "stream",
     "text": [
      "Best score: 0.4826416332869631\n",
      "Best parameters: {'criterion': 'gini', 'max_depth': 22, 'max_features': 5, 'splitter': 'best'}\n"
     ]
    },
    {
     "data": {
      "text/plain": [
       "DecisionTreeClassifier(ccp_alpha=0.0, class_weight=None, criterion='gini',\n",
       "                       max_depth=22, max_features=5, max_leaf_nodes=None,\n",
       "                       min_impurity_decrease=0.0, min_impurity_split=None,\n",
       "                       min_samples_leaf=1, min_samples_split=2,\n",
       "                       min_weight_fraction_leaf=0.0, presort='deprecated',\n",
       "                       random_state=10, splitter='best')"
      ]
     },
     "execution_count": 17,
     "metadata": {},
     "output_type": "execute_result"
    }
   ],
   "source": [
    "from sklearn.model_selection import GridSearchCV\n",
    "from sklearn.model_selection import StratifiedKFold\n",
    "\n",
    "dct = tree.DecisionTreeClassifier(random_state=10)\n",
    "\n",
    "parameter_grid = {'criterion': ['gini', 'entropy'],\n",
    "                  'splitter': ['best', 'random'],\n",
    "                  'max_depth': [22,25,28,30,33,35],\n",
    "                  'max_features': [3, 4, 5]}\n",
    "\n",
    "cross_validation = StratifiedKFold(n_splits=10)\n",
    "cross_validation = cross_validation.get_n_splits(X, y)\n",
    "\n",
    "grid_search = GridSearchCV(dct, param_grid=parameter_grid, cv=cross_validation)\n",
    "\n",
    "grid_search.fit(X,y)\n",
    "print('Best score: {}'.format(grid_search.best_score_))\n",
    "print('Best parameters: {}'.format(grid_search.best_params_))\n",
    "\n",
    "dtc = grid_search.best_estimator_\n",
    "dtc"
   ]
  },
  {
   "cell_type": "code",
   "execution_count": 18,
   "metadata": {},
   "outputs": [
    {
     "data": {
      "text/plain": [
       "Text(0.5, 1.0, 'Average score: 0.4786347279913266')"
      ]
     },
     "execution_count": 18,
     "metadata": {},
     "output_type": "execute_result"
    },
    {
     "data": {
      "image/png": "[encoded data removed]",
      "text/plain": [
       "<Figure size 432x288 with 1 Axes>"
      ]
     },
     "metadata": {
      "needs_background": "light"
     },
     "output_type": "display_data"
    }
   ],
   "source": [
    "cv_scores = cross_val_score(dtc, X, y)\n",
    "sns.distplot(cv_scores)\n",
    "plt.title('Average score: {}'.format(np.mean(cv_scores)))"
   ]
  },
  {
   "cell_type": "markdown",
   "metadata": {},
   "source": [
    "### Grouping labels"
   ]
  },
  {
   "cell_type": "code",
   "execution_count": 19,
   "metadata": {},
   "outputs": [],
   "source": [
    "finaldataset.loc[finaldataset['STAT_CAUSE_DESCR'] == \"Miscellaneous\", 'STAT_CAUSE_DESCR'] = \"Miscellaneous/Missing/Undefined\"\n",
    "finaldataset.loc[finaldataset['STAT_CAUSE_DESCR'] == \"Missing/Undefined\", 'STAT_CAUSE_DESCR'] = \"Miscellaneous/Missing/Undefined\""
   ]
  },
  {
   "cell_type": "code",
   "execution_count": 20,
   "metadata": {},
   "outputs": [],
   "source": [
    "finaldataset.loc[finaldataset['STAT_CAUSE_DESCR'] == \"Campfire\" , 'STAT_CAUSE_DESCR'] = \"Campfire/Fireworks/Smoking/DebrisBurning\"\n",
    "finaldataset.loc[finaldataset['STAT_CAUSE_DESCR'] == \"Fireworks\", 'STAT_CAUSE_DESCR'] = \"Campfire/Fireworks/Smoking/DebrisBurning\"\n",
    "finaldataset.loc[finaldataset['STAT_CAUSE_DESCR'] == \"Smoking\", 'STAT_CAUSE_DESCR'] = \"Campfire/Fireworks/Smoking/DebrisBurning\"\n",
    "finaldataset.loc[finaldataset['STAT_CAUSE_DESCR'] == \"Debris Burning\", 'STAT_CAUSE_DESCR'] = \"Campfire/Fireworks/Smoking/DebrisBurning\""
   ]
  },
  {
   "cell_type": "code",
   "execution_count": 21,
   "metadata": {},
   "outputs": [],
   "source": [
    "finaldataset.loc[finaldataset['STAT_CAUSE_DESCR'] == \"Powerline\" , 'STAT_CAUSE_DESCR'] = \"Powerline/Railroad/Children/Structure/EquipmentUse\"\n",
    "finaldataset.loc[finaldataset['STAT_CAUSE_DESCR'] == \"Railroad\", 'STAT_CAUSE_DESCR'] = \"Powerline/Railroad/Children/Structure/EquipmentUse\"\n",
    "finaldataset.loc[finaldataset['STAT_CAUSE_DESCR'] == \"Structure\", 'STAT_CAUSE_DESCR'] = \"Powerline/Railroad/Children/Structure/EquipmentUse\"\n",
    "finaldataset.loc[finaldataset['STAT_CAUSE_DESCR'] == \"Equipment Use\", 'STAT_CAUSE_DESCR'] = \"Powerline/Railroad/Children/Structure/EquipmentUse\"\n",
    "finaldataset.loc[finaldataset['STAT_CAUSE_DESCR'] == \"Children\", 'STAT_CAUSE_DESCR'] = \"Powerline/Railroad/Children/Structure/EquipmentUse\""
   ]
  },
  {
   "cell_type": "code",
   "execution_count": 22,
   "metadata": {},
   "outputs": [
    {
     "data": {
      "text/plain": [
       "array(['Lightning', 'Arson',\n",
       "       'Powerline/Railroad/Children/Structure/EquipmentUse',\n",
       "       'Campfire/Fireworks/Smoking/DebrisBurning',\n",
       "       'Miscellaneous/Missing/Undefined'], dtype=object)"
      ]
     },
     "execution_count": 22,
     "metadata": {},
     "output_type": "execute_result"
    }
   ],
   "source": [
    "finaldataset['STAT_CAUSE_DESCR'].unique()"
   ]
  },
  {
   "cell_type": "code",
   "execution_count": 23,
   "metadata": {},
   "outputs": [],
   "source": [
    "X = finaldataset[['FIRE_YEAR','FIRE_DISCOVERY_MONTH','NWCG_REPORTING_AGENCY',\n",
    "                           'DAY_OF_WEEK','STATE', \"FIRE_SIZE_CLASS\"]] # Features\n",
    "y = finaldataset[[\"STAT_CAUSE_DESCR\"]] # Target variable"
   ]
  },
  {
   "cell_type": "code",
   "execution_count": 24,
   "metadata": {},
   "outputs": [],
   "source": [
    "X_train, X_test, y_train, y_test = train_test_split(X,y, test_size=.2, random_state=10)"
   ]
  },
  {
   "cell_type": "code",
   "execution_count": 25,
   "metadata": {},
   "outputs": [],
   "source": [
    "tree_model = tree.DecisionTreeClassifier(random_state=10)\n",
    "tree_model.fit(X_train,y_train)\n",
    "y_pred = tree_model.predict(X_test)\n",
    "cm = confusion_matrix(y_test, y_pred)\n",
    "# cm"
   ]
  },
  {
   "cell_type": "code",
   "execution_count": 26,
   "metadata": {},
   "outputs": [
    {
     "name": "stdout",
     "output_type": "stream",
     "text": [
      "Accuracy score for Decision Tree: 0.5186982358649845\n",
      "Accuracy score for Decision Tree: 0.5186982358649845\n",
      "Depth of the Original Tree :35\n",
      "No of leaves in the Original Tree :83960\n"
     ]
    }
   ],
   "source": [
    "print(\"Accuracy score for Decision Tree:\",accuracy_score(y_test,y_pred))\n",
    "print(\"Accuracy score for Decision Tree:\",accuracy_score(y_test,y_pred))\n",
    "print(\"Depth of the Original Tree :\" + str(tree_model.get_depth()))\n",
    "print(\"No of leaves in the Original Tree :\" + str(tree_model.get_n_leaves()))"
   ]
  },
  {
   "cell_type": "code",
   "execution_count": 27,
   "metadata": {},
   "outputs": [
    {
     "data": {
      "text/plain": [
       "Text(0.5, 1.0, 'Average score: 0.5224580581901218')"
      ]
     },
     "execution_count": 27,
     "metadata": {},
     "output_type": "execute_result"
    },
    {
     "data": {
      "image/png": "[encoded data removed]",
      "text/plain": [
       "<Figure size 432x288 with 1 Axes>"
      ]
     },
     "metadata": {
      "needs_background": "light"
     },
     "output_type": "display_data"
    }
   ],
   "source": [
    "dtc = tree.DecisionTreeClassifier(random_state=10)\n",
    "cv_scores = cross_val_score(dtc, X, y, cv=10)\n",
    "sns.distplot(cv_scores)\n",
    "plt.title('Average score: {}'.format(np.mean(cv_scores)))"
   ]
  },
  {
   "cell_type": "code",
   "execution_count": 28,
   "metadata": {},
   "outputs": [
    {
     "name": "stdout",
     "output_type": "stream",
     "text": [
      "Best score: 0.5329898081842596\n",
      "Best parameters: {'criterion': 'gini', 'max_depth': 22, 'max_features': 5, 'splitter': 'best'}\n"
     ]
    },
    {
     "data": {
      "text/plain": [
       "DecisionTreeClassifier(ccp_alpha=0.0, class_weight=None, criterion='gini',\n",
       "                       max_depth=22, max_features=5, max_leaf_nodes=None,\n",
       "                       min_impurity_decrease=0.0, min_impurity_split=None,\n",
       "                       min_samples_leaf=1, min_samples_split=2,\n",
       "                       min_weight_fraction_leaf=0.0, presort='deprecated',\n",
       "                       random_state=10, splitter='best')"
      ]
     },
     "execution_count": 28,
     "metadata": {},
     "output_type": "execute_result"
    }
   ],
   "source": [
    "dct = tree.DecisionTreeClassifier(random_state=10)\n",
    "\n",
    "parameter_grid = {'criterion': ['gini', 'entropy'],\n",
    "                  'splitter': ['best', 'random'],\n",
    "                  'max_depth': [22,25,28,30,33,35],\n",
    "                  'max_features': [3, 4, 5]}\n",
    "\n",
    "cross_validation = StratifiedKFold(n_splits=10)\n",
    "cross_validation = cross_validation.get_n_splits(X, y)\n",
    "\n",
    "grid_search = GridSearchCV(dct, param_grid=parameter_grid, cv=cross_validation)\n",
    "\n",
    "grid_search.fit(X,y)\n",
    "print('Best score: {}'.format(grid_search.best_score_))\n",
    "print('Best parameters: {}'.format(grid_search.best_params_))\n",
    "\n",
    "dtc = grid_search.best_estimator_\n",
    "dtc"
   ]
  },
  {
   "cell_type": "markdown",
   "metadata": {},
   "source": [
    "### Experiments with reducing features along with using grouped labels (from above)"
   ]
  },
  {
   "cell_type": "code",
   "execution_count": 41,
   "metadata": {},
   "outputs": [],
   "source": [
    "X = finaldataset[['FIRE_YEAR','FIRE_DISCOVERY_MONTH','NWCG_REPORTING_AGENCY',\n",
    "                           'STATE', \"FIRE_SIZE_CLASS\"]] # Features\n",
    "y = finaldataset[[\"STAT_CAUSE_DESCR\"]] # Target variable"
   ]
  },
  {
   "cell_type": "code",
   "execution_count": 42,
   "metadata": {},
   "outputs": [],
   "source": [
    "X_train, X_test, y_train, y_test = train_test_split(X,y, test_size=.2, random_state=10)"
   ]
  },
  {
   "cell_type": "code",
   "execution_count": 43,
   "metadata": {},
   "outputs": [],
   "source": [
    "tree_model = tree.DecisionTreeClassifier(random_state=10)\n",
    "tree_model.fit(X_train,y_train)\n",
    "y_pred = tree_model.predict(X_test)\n",
    "cm = confusion_matrix(y_test, y_pred)\n",
    "# cm"
   ]
  },
  {
   "cell_type": "code",
   "execution_count": 44,
   "metadata": {},
   "outputs": [
    {
     "name": "stdout",
     "output_type": "stream",
     "text": [
      "Accuracy score for Decision Tree: 0.5576900067800216\n",
      "Accuracy score for Decision Tree: 0.5576900067800216\n",
      "Depth of the Original Tree :31\n",
      "No of leaves in the Original Tree :35544\n"
     ]
    }
   ],
   "source": [
    "print(\"Accuracy score for Decision Tree:\",accuracy_score(y_test,y_pred))\n",
    "print(\"Accuracy score for Decision Tree:\",accuracy_score(y_test,y_pred))\n",
    "print(\"Depth of the Original Tree :\" + str(tree_model.get_depth()))\n",
    "print(\"No of leaves in the Original Tree :\" + str(tree_model.get_n_leaves()))"
   ]
  },
  {
   "cell_type": "code",
   "execution_count": 45,
   "metadata": {},
   "outputs": [
    {
     "name": "stdout",
     "output_type": "stream",
     "text": [
      "Best score: 0.5633034701905244\n",
      "Best parameters: {'criterion': 'gini', 'max_depth': 22, 'max_features': 4, 'splitter': 'best'}\n"
     ]
    },
    {
     "data": {
      "text/plain": [
       "DecisionTreeClassifier(ccp_alpha=0.0, class_weight=None, criterion='gini',\n",
       "                       max_depth=22, max_features=4, max_leaf_nodes=None,\n",
       "                       min_impurity_decrease=0.0, min_impurity_split=None,\n",
       "                       min_samples_leaf=1, min_samples_split=2,\n",
       "                       min_weight_fraction_leaf=0.0, presort='deprecated',\n",
       "                       random_state=10, splitter='best')"
      ]
     },
     "execution_count": 45,
     "metadata": {},
     "output_type": "execute_result"
    }
   ],
   "source": [
    "dct = tree.DecisionTreeClassifier(random_state=10)\n",
    "\n",
    "parameter_grid = {'criterion': ['gini', 'entropy'],\n",
    "                  'splitter': ['best', 'random'],\n",
    "                  'max_depth': [22,25,28,30,33,35],\n",
    "                  'max_features': [3, 4, 5]}\n",
    "\n",
    "cross_validation = StratifiedKFold(n_splits=10)\n",
    "cross_validation = cross_validation.get_n_splits(X, y)\n",
    "\n",
    "grid_search = GridSearchCV(dct, param_grid=parameter_grid, cv=cross_validation)\n",
    "\n",
    "grid_search.fit(X,y)\n",
    "print('Best score: {}'.format(grid_search.best_score_))\n",
    "print('Best parameters: {}'.format(grid_search.best_params_))\n",
    "\n",
    "dtc = grid_search.best_estimator_\n",
    "dtc"
   ]
  },
  {
   "cell_type": "code",
   "execution_count": 47,
   "metadata": {},
   "outputs": [
    {
     "data": {
      "text/plain": [
       "Text(0.5, 1.0, 'Average score: 0.5617879227248131')"
      ]
     },
     "execution_count": 47,
     "metadata": {},
     "output_type": "execute_result"
    },
    {
     "data": {
      "image/png": "[encoded data removed]",
      "text/plain": [
       "<Figure size 432x288 with 1 Axes>"
      ]
     },
     "metadata": {
      "needs_background": "light"
     },
     "output_type": "display_data"
    }
   ],
   "source": [
    "cv_scores = cross_val_score(dtc, X, y)\n",
    "sns.distplot(cv_scores)\n",
    "plt.title('Average score: {}'.format(np.mean(cv_scores)))"
   ]
  },
  {
   "cell_type": "code",
   "execution_count": null,
   "metadata": {},
   "outputs": [],
   "source": []
  }
 ],
 "metadata": {
  "kernelspec": {
   "display_name": "Python 3",
   "language": "python",
   "name": "python3"
  },
  "language_info": {
   "codemirror_mode": {
    "name": "ipython",
    "version": 3
   },
   "file_extension": ".py",
   "mimetype": "text/x-python",
   "name": "python",
   "nbconvert_exporter": "python",
   "pygments_lexer": "ipython3",
   "version": "3.7.6"
  }
 },
 "nbformat": 4,
 "nbformat_minor": 4
}
