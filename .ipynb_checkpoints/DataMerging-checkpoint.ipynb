{
 "cells": [
  {
   "cell_type": "code",
   "execution_count": 1,
   "metadata": {},
   "outputs": [],
   "source": [
    "import pandas as pd\n",
    "import numpy as np\n",
    "df_disc_data = pd.read_csv('missing_values_discovery_time_dataset.csv')\n",
    "df_county_data = pd.read_csv('sampled_dataset_county.csv')\n",
    "df_cont_data = pd.read_csv('dataset_filled_contdate_time_garima.csv')\n",
    "df_original = pd.read_csv('sampled_dataset.csv')"
   ]
  },
  {
   "cell_type": "code",
   "execution_count": 5,
   "metadata": {},
   "outputs": [],
   "source": [
    "df_original.drop(columns='FIRE_NAME',inplace=True)"
   ]
  },
  {
   "cell_type": "code",
   "execution_count": 6,
   "metadata": {},
   "outputs": [
    {
     "data": {
      "text/plain": [
       "FOD_ID                             0\n",
       "NWCG_REPORTING_AGENCY              0\n",
       "SOURCE_REPORTING_UNIT_NAME         0\n",
       "FIRE_YEAR                          0\n",
       "DISCOVERY_DATE                     0\n",
       "DISCOVERY_TIME                176408\n",
       "STAT_CAUSE_CODE                    0\n",
       "STAT_CAUSE_DESCR                   0\n",
       "CONT_DATE                     178211\n",
       "CONT_TIME                     194334\n",
       "FIRE_SIZE                          0\n",
       "FIRE_SIZE_CLASS                    0\n",
       "LATITUDE                           0\n",
       "LONGITUDE                          0\n",
       "OWNER_DESCR                        0\n",
       "STATE                              0\n",
       "COUNTY                        135724\n",
       "dtype: int64"
      ]
     },
     "execution_count": 6,
     "metadata": {},
     "output_type": "execute_result"
    }
   ],
   "source": [
    "df_original.isna().sum()"
   ]
  },
  {
   "cell_type": "code",
   "execution_count": 7,
   "metadata": {},
   "outputs": [],
   "source": [
    "mapping = dict(zip(df_disc_data.FOD_ID,df_disc_data.DISCOVERY_TIME))\n",
    "df_original.DISCOVERY_TIME = df_original.DISCOVERY_TIME.fillna(df_original.FOD_ID.map(mapping))"
   ]
  },
  {
   "cell_type": "code",
   "execution_count": null,
   "metadata": {},
   "outputs": [],
   "source": [
    "mapping = dict(zip(df_cont_data.FOD_ID,df_cont_data.COUNTY))\n",
    "df_original.COUNTY = df_original.COUNTY.fillna(df_original.FOD_ID.map(mapping))"
   ]
  },
  {
   "cell_type": "code",
   "execution_count": null,
   "metadata": {},
   "outputs": [],
   "source": [
    "mapping = dict(zip(df_county_data.FOD_ID,df_county_data.COUNTY))\n",
    "df_original.COUNTY = df_original.COUNTY.fillna(df_original.FOD_ID.map(mapping))"
   ]
  },
  {
   "cell_type": "code",
   "execution_count": 43,
   "metadata": {},
   "outputs": [
    {
     "data": {
      "text/plain": [
       "FOD_ID                             0\n",
       "NWCG_REPORTING_AGENCY              0\n",
       "SOURCE_REPORTING_UNIT_NAME         0\n",
       "FIRE_YEAR                          0\n",
       "DISCOVERY_DATE                     0\n",
       "DISCOVERY_TIME                     0\n",
       "STAT_CAUSE_CODE                    0\n",
       "STAT_CAUSE_DESCR                   0\n",
       "CONT_DATE                     178211\n",
       "CONT_TIME                     194334\n",
       "FIRE_SIZE                          0\n",
       "FIRE_SIZE_CLASS                    0\n",
       "LATITUDE                           0\n",
       "LONGITUDE                          0\n",
       "OWNER_DESCR                        0\n",
       "STATE                              0\n",
       "COUNTY                        135724\n",
       "dtype: int64"
      ]
     },
     "execution_count": 43,
     "metadata": {},
     "output_type": "execute_result"
    }
   ],
   "source": [
    "df_original.isna().sum()"
   ]
  },
  {
   "cell_type": "code",
   "execution_count": null,
   "metadata": {},
   "outputs": [],
   "source": [
    "mapping = dict(zip(df_county_data.FOD_ID,df_county_data.COUNTY))\n",
    "df_original.COUNTY = df_original.COUNTY.fillna(df_original.FOD_ID.map(mapping))"
   ]
  }
 ],
 "metadata": {
  "kernelspec": {
   "display_name": "Python 3",
   "language": "python",
   "name": "python3"
  },
  "language_info": {
   "codemirror_mode": {
    "name": "ipython",
    "version": 3
   },
   "file_extension": ".py",
   "mimetype": "text/x-python",
   "name": "python",
   "nbconvert_exporter": "python",
   "pygments_lexer": "ipython3",
   "version": "3.8.5"
  }
 },
 "nbformat": 4,
 "nbformat_minor": 4
}
