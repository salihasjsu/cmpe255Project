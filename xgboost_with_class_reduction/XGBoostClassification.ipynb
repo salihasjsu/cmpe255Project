{
 "cells": [
  {
   "cell_type": "code",
   "execution_count": 1,
   "metadata": {},
   "outputs": [],
   "source": [
    "import pandas as pd\n",
    "import numpy as np\n",
    "import datetime\n",
    "from sklearn import preprocessing\n",
    "from sklearn.model_selection import train_test_split"
   ]
  },
  {
   "cell_type": "code",
   "execution_count": 2,
   "metadata": {},
   "outputs": [
    {
     "data": {
      "text/plain": [
       "(474702, 17)"
      ]
     },
     "execution_count": 2,
     "metadata": {},
     "output_type": "execute_result"
    }
   ],
   "source": [
    "df_training = pd.read_csv('./training_dataset.csv')\n",
    "df_validation = pd.read_csv('./validation_dataset.csv')\n",
    "df_test = pd.read_csv('./test_dataset.csv')\n",
    "\n",
    "frames = [df_training, df_validation]\n",
    "df_training = pd.concat(frames)\n",
    "df_training.shape"
   ]
  },
  {
   "cell_type": "code",
   "execution_count": 3,
   "metadata": {
    "scrolled": true
   },
   "outputs": [
    {
     "data": {
      "text/html": [
       "<div>\n",
       "<style scoped>\n",
       "    .dataframe tbody tr th:only-of-type {\n",
       "        vertical-align: middle;\n",
       "    }\n",
       "\n",
       "    .dataframe tbody tr th {\n",
       "        vertical-align: top;\n",
       "    }\n",
       "\n",
       "    .dataframe thead tr th {\n",
       "        text-align: left;\n",
       "    }\n",
       "\n",
       "    .dataframe thead tr:last-of-type th {\n",
       "        text-align: right;\n",
       "    }\n",
       "</style>\n",
       "<table border=\"1\" class=\"dataframe\">\n",
       "  <thead>\n",
       "    <tr>\n",
       "      <th></th>\n",
       "      <th></th>\n",
       "      <th colspan=\"8\" halign=\"left\">FOD_ID</th>\n",
       "      <th colspan=\"2\" halign=\"left\">FIRE_YEAR</th>\n",
       "      <th>...</th>\n",
       "      <th colspan=\"2\" halign=\"left\">DISCOVERY_TIME</th>\n",
       "      <th colspan=\"8\" halign=\"left\">CONT_TIME</th>\n",
       "    </tr>\n",
       "    <tr>\n",
       "      <th></th>\n",
       "      <th></th>\n",
       "      <th>count</th>\n",
       "      <th>mean</th>\n",
       "      <th>std</th>\n",
       "      <th>min</th>\n",
       "      <th>25%</th>\n",
       "      <th>50%</th>\n",
       "      <th>75%</th>\n",
       "      <th>max</th>\n",
       "      <th>count</th>\n",
       "      <th>mean</th>\n",
       "      <th>...</th>\n",
       "      <th>75%</th>\n",
       "      <th>max</th>\n",
       "      <th>count</th>\n",
       "      <th>mean</th>\n",
       "      <th>std</th>\n",
       "      <th>min</th>\n",
       "      <th>25%</th>\n",
       "      <th>50%</th>\n",
       "      <th>75%</th>\n",
       "      <th>max</th>\n",
       "    </tr>\n",
       "    <tr>\n",
       "      <th>STAT_CAUSE_CODE</th>\n",
       "      <th>STAT_CAUSE_DESCR</th>\n",
       "      <th></th>\n",
       "      <th></th>\n",
       "      <th></th>\n",
       "      <th></th>\n",
       "      <th></th>\n",
       "      <th></th>\n",
       "      <th></th>\n",
       "      <th></th>\n",
       "      <th></th>\n",
       "      <th></th>\n",
       "      <th></th>\n",
       "      <th></th>\n",
       "      <th></th>\n",
       "      <th></th>\n",
       "      <th></th>\n",
       "      <th></th>\n",
       "      <th></th>\n",
       "      <th></th>\n",
       "      <th></th>\n",
       "      <th></th>\n",
       "      <th></th>\n",
       "    </tr>\n",
       "  </thead>\n",
       "  <tbody>\n",
       "    <tr>\n",
       "      <th>1.0</th>\n",
       "      <th>Lightning</th>\n",
       "      <td>222750.0</td>\n",
       "      <td>4.333687e+07</td>\n",
       "      <td>9.317140e+07</td>\n",
       "      <td>2.0</td>\n",
       "      <td>132720.5</td>\n",
       "      <td>338458.5</td>\n",
       "      <td>1430508.5</td>\n",
       "      <td>300348361.0</td>\n",
       "      <td>222750.0</td>\n",
       "      <td>2003.261217</td>\n",
       "      <td>...</td>\n",
       "      <td>1700.0</td>\n",
       "      <td>2359.0</td>\n",
       "      <td>222750.0</td>\n",
       "      <td>1553.153652</td>\n",
       "      <td>445.618970</td>\n",
       "      <td>0.0</td>\n",
       "      <td>1247.0</td>\n",
       "      <td>1620.0</td>\n",
       "      <td>1845.0</td>\n",
       "      <td>2359.0</td>\n",
       "    </tr>\n",
       "    <tr>\n",
       "      <th>6.0</th>\n",
       "      <th>Railroad</th>\n",
       "      <td>26899.0</td>\n",
       "      <td>2.115934e+07</td>\n",
       "      <td>6.501683e+07</td>\n",
       "      <td>116.0</td>\n",
       "      <td>970034.5</td>\n",
       "      <td>1097001.0</td>\n",
       "      <td>1165359.5</td>\n",
       "      <td>300348033.0</td>\n",
       "      <td>26899.0</td>\n",
       "      <td>2000.083683</td>\n",
       "      <td>...</td>\n",
       "      <td>1557.0</td>\n",
       "      <td>2359.0</td>\n",
       "      <td>26899.0</td>\n",
       "      <td>1581.668538</td>\n",
       "      <td>459.410582</td>\n",
       "      <td>0.0</td>\n",
       "      <td>1351.0</td>\n",
       "      <td>1630.0</td>\n",
       "      <td>1900.0</td>\n",
       "      <td>2359.0</td>\n",
       "    </tr>\n",
       "    <tr>\n",
       "      <th>7.0</th>\n",
       "      <th>Arson</th>\n",
       "      <td>225053.0</td>\n",
       "      <td>3.497797e+07</td>\n",
       "      <td>8.335058e+07</td>\n",
       "      <td>38.0</td>\n",
       "      <td>555611.0</td>\n",
       "      <td>988866.0</td>\n",
       "      <td>1750846.0</td>\n",
       "      <td>300348354.0</td>\n",
       "      <td>225053.0</td>\n",
       "      <td>2002.621542</td>\n",
       "      <td>...</td>\n",
       "      <td>1616.0</td>\n",
       "      <td>2359.0</td>\n",
       "      <td>225053.0</td>\n",
       "      <td>1577.420452</td>\n",
       "      <td>487.935677</td>\n",
       "      <td>0.0</td>\n",
       "      <td>1350.0</td>\n",
       "      <td>1631.0</td>\n",
       "      <td>1900.0</td>\n",
       "      <td>2359.0</td>\n",
       "    </tr>\n",
       "  </tbody>\n",
       "</table>\n",
       "<p>3 rows × 56 columns</p>\n",
       "</div>"
      ],
      "text/plain": [
       "                                    FOD_ID                                     \\\n",
       "                                     count          mean           std    min   \n",
       "STAT_CAUSE_CODE STAT_CAUSE_DESCR                                                \n",
       "1.0             Lightning         222750.0  4.333687e+07  9.317140e+07    2.0   \n",
       "6.0             Railroad           26899.0  2.115934e+07  6.501683e+07  116.0   \n",
       "7.0             Arson             225053.0  3.497797e+07  8.335058e+07   38.0   \n",
       "\n",
       "                                                                               \\\n",
       "                                       25%        50%        75%          max   \n",
       "STAT_CAUSE_CODE STAT_CAUSE_DESCR                                                \n",
       "1.0             Lightning         132720.5   338458.5  1430508.5  300348361.0   \n",
       "6.0             Railroad          970034.5  1097001.0  1165359.5  300348033.0   \n",
       "7.0             Arson             555611.0   988866.0  1750846.0  300348354.0   \n",
       "\n",
       "                                 FIRE_YEAR               ... DISCOVERY_TIME  \\\n",
       "                                     count         mean  ...            75%   \n",
       "STAT_CAUSE_CODE STAT_CAUSE_DESCR                         ...                  \n",
       "1.0             Lightning         222750.0  2003.261217  ...         1700.0   \n",
       "6.0             Railroad           26899.0  2000.083683  ...         1557.0   \n",
       "7.0             Arson             225053.0  2002.621542  ...         1616.0   \n",
       "\n",
       "                                         CONT_TIME                           \\\n",
       "                                     max     count         mean         std   \n",
       "STAT_CAUSE_CODE STAT_CAUSE_DESCR                                              \n",
       "1.0             Lightning         2359.0  222750.0  1553.153652  445.618970   \n",
       "6.0             Railroad          2359.0   26899.0  1581.668538  459.410582   \n",
       "7.0             Arson             2359.0  225053.0  1577.420452  487.935677   \n",
       "\n",
       "                                                                       \n",
       "                                  min     25%     50%     75%     max  \n",
       "STAT_CAUSE_CODE STAT_CAUSE_DESCR                                       \n",
       "1.0             Lightning         0.0  1247.0  1620.0  1845.0  2359.0  \n",
       "6.0             Railroad          0.0  1351.0  1630.0  1900.0  2359.0  \n",
       "7.0             Arson             0.0  1350.0  1631.0  1900.0  2359.0  \n",
       "\n",
       "[3 rows x 56 columns]"
      ]
     },
     "execution_count": 3,
     "metadata": {},
     "output_type": "execute_result"
    }
   ],
   "source": [
    "df_by_code_cause = df_training.groupby(['STAT_CAUSE_CODE', 'STAT_CAUSE_DESCR'])\n",
    "df_by_code_cause.describe()"
   ]
  },
  {
   "cell_type": "markdown",
   "metadata": {},
   "source": [
    "## Fire Cause analysis"
   ]
  },
  {
   "cell_type": "code",
   "execution_count": 4,
   "metadata": {},
   "outputs": [
    {
     "data": {
      "image/png": "[encoded data removed]",
      "text/plain": [
       "<Figure size 432x288 with 1 Axes>"
      ]
     },
     "metadata": {
      "needs_background": "light"
     },
     "output_type": "display_data"
    }
   ],
   "source": [
    "_ = df_training.groupby(['STAT_CAUSE_DESCR']).size().plot(kind = \"bar\") "
   ]
  },
  {
   "cell_type": "code",
   "execution_count": 5,
   "metadata": {},
   "outputs": [],
   "source": [
    "le = preprocessing.LabelEncoder()\n",
    "\n",
    "df_training['DISCOVERY_DATE_NEW'] = df_training['DISCOVERY_DATE']\n",
    "df_training['D1'] = pd.to_datetime(df_training['DISCOVERY_DATE_NEW'])\n",
    "df_training['D2'] = pd.to_datetime(df_training['CONT_DATE'])\n",
    "\n",
    "df_training['STATE'] = le.fit_transform(df_training['STATE'])\n",
    "df_training['NWCG_REPORTING_AGENCY'] = le.fit_transform(df_training['NWCG_REPORTING_AGENCY'])\n",
    "df_training['SOURCE_REPORTING_UNIT_NAME'] = le.fit_transform(df_training['SOURCE_REPORTING_UNIT_NAME'])\n",
    "df_training['FIRE_SIZE_CLASS'] = le.fit_transform(df_training['FIRE_SIZE_CLASS'])\n",
    "df_training['OWNER_DESCR'] = le.fit_transform(df_training['OWNER_DESCR'])\n",
    "df_training['DISC_DATE'] = le.fit_transform(df_training['DISCOVERY_DATE'])\n",
    "df_training['CONTAINED_DATE'] = le.fit_transform(df_training['CONT_DATE'])\n",
    "df_training['FIRE_TIME'] = (df_training['D2'] - df_training['D1']).dt.days\n",
    "df_training['MONTH'] = pd.DatetimeIndex(df_training['DISCOVERY_DATE_NEW']).month\n",
    "df_training['WEEK_DAY'] = df_training['D1'].dt.weekday"
   ]
  },
  {
   "cell_type": "code",
   "execution_count": 6,
   "metadata": {},
   "outputs": [
    {
     "data": {
      "image/png": "[encoded data removed]",
      "text/plain": [
       "<Figure size 1440x1440 with 1 Axes>"
      ]
     },
     "metadata": {
      "needs_background": "light"
     },
     "output_type": "display_data"
    }
   ],
   "source": [
    "import matplotlib.pyplot as plt\n",
    "corr = df_training.corr()  #the default method is pearson\n",
    "fig, ax = plt.subplots(figsize=(20, 20))\n",
    "ax.matshow(corr,cmap=plt.cm.Oranges)\n",
    "plt.xticks(range(len(corr.columns)), corr.columns)\n",
    "plt.yticks(range(len(corr.columns)), corr.columns)\n",
    "for tick in ax.get_xticklabels():\n",
    "    tick.set_rotation(90)    \n",
    "plt.show()"
   ]
  },
  {
   "cell_type": "code",
   "execution_count": 7,
   "metadata": {},
   "outputs": [],
   "source": [
    "f1 = df_training.FIRE_YEAR\n",
    "\n",
    "f2 = df_training.FIRE_SIZE\n",
    "\n",
    "f3 = df_training.LATITUDE\n",
    "f4 = df_training.LONGITUDE\n",
    "\n",
    "le = preprocessing.LabelEncoder()\n",
    "f5 = le.fit_transform(df_training.STATE)\n",
    "\n",
    "df_training['DISCOVERY_DATE_NEW'] = df_training['DISCOVERY_DATE']\n",
    "df_training['D1'] = pd.to_datetime(df_training['DISCOVERY_DATE_NEW'])\n",
    "\n",
    "df_training['D2'] = pd.to_datetime(df_training['CONT_DATE'])\n",
    "\n",
    "df_training['FIRE_TIME'] = (df_training['D2'] - df_training['D1']).dt.days\n",
    "f6 = df_training.FIRE_TIME\n",
    "\n",
    "le = preprocessing.LabelEncoder()\n",
    "f7 = le.fit_transform(df_training.DISCOVERY_DATE)\n",
    "\n",
    "le = preprocessing.LabelEncoder()\n",
    "f8 = le.fit_transform(df_training.CONT_DATE)\n",
    "\n",
    "df_training['WEEK_DAY'] = df_training['D1'].dt.weekday\n",
    "f9 = df_training.WEEK_DAY\n",
    "\n",
    "le = preprocessing.LabelEncoder()\n",
    "f10 = le.fit_transform(df_training.NWCG_REPORTING_AGENCY)\n",
    "\n",
    "df_training['MONTH'] = pd.DatetimeIndex(df_training['DISCOVERY_DATE_NEW']).month\n",
    "f11 = df_training.MONTH"
   ]
  },
  {
   "cell_type": "code",
   "execution_count": 8,
   "metadata": {},
   "outputs": [],
   "source": [
    "X = list(zip(f1, f2, f3, f4, f5, f6, f7, f8, f9, f10, f11))\n",
    "y = [df_training.STAT_CAUSE_DESCR]"
   ]
  },
  {
   "cell_type": "code",
   "execution_count": 9,
   "metadata": {},
   "outputs": [],
   "source": [
    "X = np.array(X)\n",
    "\n",
    "y = np.array(y)\n",
    "y.reshape(-1, 1)\n",
    "y = y.transpose()"
   ]
  },
  {
   "cell_type": "code",
   "execution_count": 10,
   "metadata": {},
   "outputs": [],
   "source": [
    "tf1 = df_test.FIRE_YEAR\n",
    "\n",
    "tf2 = df_test.FIRE_SIZE\n",
    "\n",
    "tf3 = df_test.LATITUDE\n",
    "tf4 = df_test.LONGITUDE\n",
    "\n",
    "le = preprocessing.LabelEncoder()\n",
    "tf5 = le.fit_transform(df_test.STATE)\n",
    "\n",
    "df_test['DISCOVERY_DATE_NEW'] = df_test['DISCOVERY_DATE']\n",
    "df_test['D1'] = pd.to_datetime(df_test['DISCOVERY_DATE_NEW'])\n",
    "\n",
    "df_test['D2'] = pd.to_datetime(df_test['CONT_DATE'])\n",
    "\n",
    "df_test['FIRE_TIME'] = (df_test['D2'] - df_test['D1']).dt.days\n",
    "tf6 = df_test.FIRE_TIME\n",
    "\n",
    "le = preprocessing.LabelEncoder()\n",
    "tf7 = le.fit_transform(df_test.DISCOVERY_DATE)\n",
    "\n",
    "le = preprocessing.LabelEncoder()\n",
    "tf8 = le.fit_transform(df_test.CONT_DATE)\n",
    "\n",
    "df_test['WEEK_DAY'] = df_test['D1'].dt.weekday\n",
    "tf9 = df_test.WEEK_DAY\n",
    "\n",
    "le = preprocessing.LabelEncoder()\n",
    "tf10 = le.fit_transform(df_test.NWCG_REPORTING_AGENCY)\n",
    "\n",
    "df_test['MONTH'] = pd.DatetimeIndex(df_test['DISCOVERY_DATE_NEW']).month\n",
    "tf11 = df_test.MONTH"
   ]
  },
  {
   "cell_type": "code",
   "execution_count": 11,
   "metadata": {},
   "outputs": [],
   "source": [
    "X_test = list(zip(tf1, tf2, tf3, tf4, tf5, tf6, tf7, tf8, tf9, tf10, tf11))\n",
    "y_test = [df_test.STAT_CAUSE_DESCR]"
   ]
  },
  {
   "cell_type": "code",
   "execution_count": 12,
   "metadata": {},
   "outputs": [],
   "source": [
    "X_test = np.array(X_test)\n",
    "\n",
    "y_test = np.array(y_test)\n",
    "y_test.reshape(-1, 1)\n",
    "y_test = y_test.transpose()"
   ]
  },
  {
   "cell_type": "code",
   "execution_count": 13,
   "metadata": {},
   "outputs": [
    {
     "name": "stderr",
     "output_type": "stream",
     "text": [
      "/Users/vidita/anaconda3/envs/myenv/lib/python3.8/site-packages/sklearn/model_selection/_search.py:278: UserWarning: The total space of parameters 2 is smaller than n_iter=10. Running 2 iterations. For exhaustive searches, use GridSearchCV.\n",
      "  warnings.warn(\n"
     ]
    }
   ],
   "source": [
    "import xgboost as xgb\n",
    "from sklearn.model_selection import RandomizedSearchCV\n",
    "\n",
    "xgb_clf = xgb.XGBClassifier()\n",
    "\n",
    "params = {'learning_rate': [0.2], 'max_depth': [8, 10], 'n_estimators': [300]}\n",
    "\n",
    "random_search_cv = RandomizedSearchCV(xgb_clf, params, scoring='f1_micro', cv=3)\n",
    "_ = random_search_cv.fit(X, y.ravel())"
   ]
  },
  {
   "cell_type": "code",
   "execution_count": 14,
   "metadata": {},
   "outputs": [],
   "source": [
    "y_pred = random_search_cv.predict(X_test)"
   ]
  },
  {
   "cell_type": "code",
   "execution_count": 15,
   "metadata": {},
   "outputs": [
    {
     "data": {
      "text/plain": [
       "XGBClassifier(learning_rate=0.2, max_depth=10, n_estimators=300,\n",
       "              objective='multi:softprob')"
      ]
     },
     "execution_count": 15,
     "metadata": {},
     "output_type": "execute_result"
    }
   ],
   "source": [
    "random_search_cv.best_estimator_"
   ]
  },
  {
   "cell_type": "code",
   "execution_count": 16,
   "metadata": {},
   "outputs": [
    {
     "name": "stdout",
     "output_type": "stream",
     "text": [
      "Accuracy: 0.9088021166874516\n"
     ]
    }
   ],
   "source": [
    "#Import scikit-learn metrics module for accuracy calculation\n",
    "from sklearn import metrics\n",
    "\n",
    "# Model Accuracy, how often is the classifier correct?\n",
    "print(\"Accuracy:\",metrics.accuracy_score(y_test, y_pred))"
   ]
  },
  {
   "cell_type": "code",
   "execution_count": 17,
   "metadata": {},
   "outputs": [
    {
     "data": {
      "image/png": "[encoded data removed]",
      "text/plain": [
       "<Figure size 1080x648 with 2 Axes>"
      ]
     },
     "metadata": {
      "needs_background": "light"
     },
     "output_type": "display_data"
    }
   ],
   "source": [
    "## Compute Confusion Matrix and plot heatmap\n",
    "import matplotlib.pyplot as plt\n",
    "from sklearn.metrics import confusion_matrix\n",
    "import seaborn as sn\n",
    "cm = confusion_matrix(y_test, y_pred)\n",
    "\n",
    "plt.figure(figsize=(15, 9))\n",
    "_ = sn.heatmap(cm, annot=True, annot_kws={\"size\": 15}, cmap='Blues', fmt='g')"
   ]
  },
  {
   "cell_type": "code",
   "execution_count": 18,
   "metadata": {},
   "outputs": [
    {
     "name": "stdout",
     "output_type": "stream",
     "text": [
      "              precision    recall  f1-score   support\n",
      "\n",
      "       Arson       0.89      0.94      0.92     56402\n",
      "   Lightning       0.93      0.91      0.92     55718\n",
      "    Railroad       0.80      0.60      0.69      6556\n",
      "\n",
      "    accuracy                           0.91    118676\n",
      "   macro avg       0.88      0.82      0.84    118676\n",
      "weighted avg       0.91      0.91      0.91    118676\n",
      "\n"
     ]
    }
   ],
   "source": [
    "from sklearn.metrics import classification_report\n",
    "print(classification_report(y_test, y_pred))"
   ]
  }
 ],
 "metadata": {
  "kernelspec": {
   "display_name": "myenv",
   "language": "python",
   "name": "myenv"
  },
  "language_info": {
   "codemirror_mode": {
    "name": "ipython",
    "version": 3
   },
   "file_extension": ".py",
   "mimetype": "text/x-python",
   "name": "python",
   "nbconvert_exporter": "python",
   "pygments_lexer": "ipython3",
   "version": "3.8.6"
  }
 },
 "nbformat": 4,
 "nbformat_minor": 4
}
