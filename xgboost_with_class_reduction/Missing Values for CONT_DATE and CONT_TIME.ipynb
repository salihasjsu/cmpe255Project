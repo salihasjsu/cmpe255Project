{
 "cells": [
  {
   "cell_type": "code",
   "execution_count": 32,
   "metadata": {},
   "outputs": [],
   "source": [
    "import pandas as pd\n",
    "import matplotlib.pyplot as plt\n",
    "import seaborn as sns\n",
    "import numpy as np\n",
    "import warnings\n",
    "warnings.simplefilter(\"ignore\")"
   ]
  },
  {
   "cell_type": "code",
   "execution_count": 33,
   "metadata": {},
   "outputs": [],
   "source": [
    "df = pd.read_csv('sampled_dataset_reduced.csv')"
   ]
  },
  {
   "cell_type": "code",
   "execution_count": 3,
   "metadata": {},
   "outputs": [],
   "source": [
    "df1 = df.copy()"
   ]
  },
  {
   "cell_type": "code",
   "execution_count": 4,
   "metadata": {},
   "outputs": [
    {
     "data": {
      "text/html": [
       "<div>\n",
       "<style scoped>\n",
       "    .dataframe tbody tr th:only-of-type {\n",
       "        vertical-align: middle;\n",
       "    }\n",
       "\n",
       "    .dataframe tbody tr th {\n",
       "        vertical-align: top;\n",
       "    }\n",
       "\n",
       "    .dataframe thead th {\n",
       "        text-align: right;\n",
       "    }\n",
       "</style>\n",
       "<table border=\"1\" class=\"dataframe\">\n",
       "  <thead>\n",
       "    <tr style=\"text-align: right;\">\n",
       "      <th></th>\n",
       "      <th>FOD_ID</th>\n",
       "      <th>NWCG_REPORTING_AGENCY</th>\n",
       "      <th>SOURCE_REPORTING_UNIT_NAME</th>\n",
       "      <th>FIRE_NAME</th>\n",
       "      <th>FIRE_YEAR</th>\n",
       "      <th>DISCOVERY_DATE</th>\n",
       "      <th>DISCOVERY_TIME</th>\n",
       "      <th>STAT_CAUSE_CODE</th>\n",
       "      <th>STAT_CAUSE_DESCR</th>\n",
       "      <th>CONT_DATE</th>\n",
       "      <th>CONT_TIME</th>\n",
       "      <th>FIRE_SIZE</th>\n",
       "      <th>FIRE_SIZE_CLASS</th>\n",
       "      <th>LATITUDE</th>\n",
       "      <th>LONGITUDE</th>\n",
       "      <th>OWNER_DESCR</th>\n",
       "      <th>STATE</th>\n",
       "      <th>COUNTY</th>\n",
       "    </tr>\n",
       "  </thead>\n",
       "  <tbody>\n",
       "    <tr>\n",
       "      <th>0</th>\n",
       "      <td>2</td>\n",
       "      <td>FS</td>\n",
       "      <td>Eldorado National Forest</td>\n",
       "      <td>PIGEON</td>\n",
       "      <td>2004</td>\n",
       "      <td>2004-05-12</td>\n",
       "      <td>845.0</td>\n",
       "      <td>1.0</td>\n",
       "      <td>Lightning</td>\n",
       "      <td>2004-05-12</td>\n",
       "      <td>1530.0</td>\n",
       "      <td>0.25</td>\n",
       "      <td>A</td>\n",
       "      <td>38.933056</td>\n",
       "      <td>-120.404444</td>\n",
       "      <td>USFS</td>\n",
       "      <td>CA</td>\n",
       "      <td>61</td>\n",
       "    </tr>\n",
       "    <tr>\n",
       "      <th>1</th>\n",
       "      <td>4</td>\n",
       "      <td>FS</td>\n",
       "      <td>Eldorado National Forest</td>\n",
       "      <td>DEER</td>\n",
       "      <td>2004</td>\n",
       "      <td>2004-06-28</td>\n",
       "      <td>1600.0</td>\n",
       "      <td>1.0</td>\n",
       "      <td>Lightning</td>\n",
       "      <td>2004-07-03</td>\n",
       "      <td>1400.0</td>\n",
       "      <td>0.10</td>\n",
       "      <td>A</td>\n",
       "      <td>38.559167</td>\n",
       "      <td>-119.913333</td>\n",
       "      <td>USFS</td>\n",
       "      <td>CA</td>\n",
       "      <td>3</td>\n",
       "    </tr>\n",
       "    <tr>\n",
       "      <th>2</th>\n",
       "      <td>5</td>\n",
       "      <td>FS</td>\n",
       "      <td>Eldorado National Forest</td>\n",
       "      <td>STEVENOT</td>\n",
       "      <td>2004</td>\n",
       "      <td>2004-06-28</td>\n",
       "      <td>1600.0</td>\n",
       "      <td>1.0</td>\n",
       "      <td>Lightning</td>\n",
       "      <td>2004-07-03</td>\n",
       "      <td>1200.0</td>\n",
       "      <td>0.10</td>\n",
       "      <td>A</td>\n",
       "      <td>38.559167</td>\n",
       "      <td>-119.933056</td>\n",
       "      <td>USFS</td>\n",
       "      <td>CA</td>\n",
       "      <td>3</td>\n",
       "    </tr>\n",
       "    <tr>\n",
       "      <th>3</th>\n",
       "      <td>6</td>\n",
       "      <td>FS</td>\n",
       "      <td>Eldorado National Forest</td>\n",
       "      <td>HIDDEN</td>\n",
       "      <td>2004</td>\n",
       "      <td>2004-06-30</td>\n",
       "      <td>1800.0</td>\n",
       "      <td>1.0</td>\n",
       "      <td>Lightning</td>\n",
       "      <td>2004-07-01</td>\n",
       "      <td>1600.0</td>\n",
       "      <td>0.10</td>\n",
       "      <td>A</td>\n",
       "      <td>38.635278</td>\n",
       "      <td>-120.103611</td>\n",
       "      <td>USFS</td>\n",
       "      <td>CA</td>\n",
       "      <td>5</td>\n",
       "    </tr>\n",
       "    <tr>\n",
       "      <th>4</th>\n",
       "      <td>7</td>\n",
       "      <td>FS</td>\n",
       "      <td>Eldorado National Forest</td>\n",
       "      <td>FORK</td>\n",
       "      <td>2004</td>\n",
       "      <td>2004-07-01</td>\n",
       "      <td>1800.0</td>\n",
       "      <td>1.0</td>\n",
       "      <td>Lightning</td>\n",
       "      <td>2004-07-02</td>\n",
       "      <td>1400.0</td>\n",
       "      <td>0.10</td>\n",
       "      <td>A</td>\n",
       "      <td>38.688333</td>\n",
       "      <td>-120.153333</td>\n",
       "      <td>USFS</td>\n",
       "      <td>CA</td>\n",
       "      <td>17</td>\n",
       "    </tr>\n",
       "    <tr>\n",
       "      <th>...</th>\n",
       "      <td>...</td>\n",
       "      <td>...</td>\n",
       "      <td>...</td>\n",
       "      <td>...</td>\n",
       "      <td>...</td>\n",
       "      <td>...</td>\n",
       "      <td>...</td>\n",
       "      <td>...</td>\n",
       "      <td>...</td>\n",
       "      <td>...</td>\n",
       "      <td>...</td>\n",
       "      <td>...</td>\n",
       "      <td>...</td>\n",
       "      <td>...</td>\n",
       "      <td>...</td>\n",
       "      <td>...</td>\n",
       "      <td>...</td>\n",
       "      <td>...</td>\n",
       "    </tr>\n",
       "    <tr>\n",
       "      <th>593373</th>\n",
       "      <td>300348260</td>\n",
       "      <td>ST/C&amp;L</td>\n",
       "      <td>CDF - San Bernardino Unit</td>\n",
       "      <td>YUCCA 2</td>\n",
       "      <td>2015</td>\n",
       "      <td>2015-07-25</td>\n",
       "      <td>1943.0</td>\n",
       "      <td>7.0</td>\n",
       "      <td>Arson</td>\n",
       "      <td>NaN</td>\n",
       "      <td>NaN</td>\n",
       "      <td>0.50</td>\n",
       "      <td>B</td>\n",
       "      <td>34.244444</td>\n",
       "      <td>-116.658889</td>\n",
       "      <td>UNDEFINED FEDERAL</td>\n",
       "      <td>CA</td>\n",
       "      <td>NaN</td>\n",
       "    </tr>\n",
       "    <tr>\n",
       "      <th>593374</th>\n",
       "      <td>300348276</td>\n",
       "      <td>ST/C&amp;L</td>\n",
       "      <td>Lassen-Modoc Unit</td>\n",
       "      <td>1-1 PAIUTE</td>\n",
       "      <td>2015</td>\n",
       "      <td>2015-06-26</td>\n",
       "      <td>1752.0</td>\n",
       "      <td>1.0</td>\n",
       "      <td>Lightning</td>\n",
       "      <td>2015-06-26</td>\n",
       "      <td>2014.0</td>\n",
       "      <td>0.05</td>\n",
       "      <td>A</td>\n",
       "      <td>40.443000</td>\n",
       "      <td>-120.664433</td>\n",
       "      <td>STATE OR PRIVATE</td>\n",
       "      <td>CA</td>\n",
       "      <td>NaN</td>\n",
       "    </tr>\n",
       "    <tr>\n",
       "      <th>593375</th>\n",
       "      <td>300348290</td>\n",
       "      <td>ST/C&amp;L</td>\n",
       "      <td>Santa Clara Unit</td>\n",
       "      <td>Z680</td>\n",
       "      <td>2015</td>\n",
       "      <td>2015-06-27</td>\n",
       "      <td>337.0</td>\n",
       "      <td>7.0</td>\n",
       "      <td>Arson</td>\n",
       "      <td>NaN</td>\n",
       "      <td>NaN</td>\n",
       "      <td>0.10</td>\n",
       "      <td>A</td>\n",
       "      <td>38.041150</td>\n",
       "      <td>-121.985283</td>\n",
       "      <td>UNDEFINED FEDERAL</td>\n",
       "      <td>CA</td>\n",
       "      <td>NaN</td>\n",
       "    </tr>\n",
       "    <tr>\n",
       "      <th>593376</th>\n",
       "      <td>300348354</td>\n",
       "      <td>ST/C&amp;L</td>\n",
       "      <td>Shasta-Trinity Unit</td>\n",
       "      <td>CARR</td>\n",
       "      <td>2015</td>\n",
       "      <td>2015-09-30</td>\n",
       "      <td>2357.0</td>\n",
       "      <td>7.0</td>\n",
       "      <td>Arson</td>\n",
       "      <td>2015-10-01</td>\n",
       "      <td>56.0</td>\n",
       "      <td>1.00</td>\n",
       "      <td>B</td>\n",
       "      <td>40.588583</td>\n",
       "      <td>-123.069617</td>\n",
       "      <td>STATE OR PRIVATE</td>\n",
       "      <td>CA</td>\n",
       "      <td>NaN</td>\n",
       "    </tr>\n",
       "    <tr>\n",
       "      <th>593377</th>\n",
       "      <td>300348361</td>\n",
       "      <td>ST/C&amp;L</td>\n",
       "      <td>Humboldt-Del Norte Unit</td>\n",
       "      <td>1-64</td>\n",
       "      <td>2015</td>\n",
       "      <td>2015-08-01</td>\n",
       "      <td>1331.0</td>\n",
       "      <td>1.0</td>\n",
       "      <td>Lightning</td>\n",
       "      <td>2015-08-06</td>\n",
       "      <td>1000.0</td>\n",
       "      <td>4.00</td>\n",
       "      <td>B</td>\n",
       "      <td>40.244833</td>\n",
       "      <td>-123.544167</td>\n",
       "      <td>UNDEFINED FEDERAL</td>\n",
       "      <td>CA</td>\n",
       "      <td>NaN</td>\n",
       "    </tr>\n",
       "  </tbody>\n",
       "</table>\n",
       "<p>593378 rows × 18 columns</p>\n",
       "</div>"
      ],
      "text/plain": [
       "           FOD_ID NWCG_REPORTING_AGENCY SOURCE_REPORTING_UNIT_NAME  \\\n",
       "0               2                    FS   Eldorado National Forest   \n",
       "1               4                    FS   Eldorado National Forest   \n",
       "2               5                    FS   Eldorado National Forest   \n",
       "3               6                    FS   Eldorado National Forest   \n",
       "4               7                    FS   Eldorado National Forest   \n",
       "...           ...                   ...                        ...   \n",
       "593373  300348260                ST/C&L  CDF - San Bernardino Unit   \n",
       "593374  300348276                ST/C&L          Lassen-Modoc Unit   \n",
       "593375  300348290                ST/C&L           Santa Clara Unit   \n",
       "593376  300348354                ST/C&L        Shasta-Trinity Unit   \n",
       "593377  300348361                ST/C&L    Humboldt-Del Norte Unit   \n",
       "\n",
       "         FIRE_NAME  FIRE_YEAR DISCOVERY_DATE  DISCOVERY_TIME  STAT_CAUSE_CODE  \\\n",
       "0           PIGEON       2004     2004-05-12           845.0              1.0   \n",
       "1             DEER       2004     2004-06-28          1600.0              1.0   \n",
       "2         STEVENOT       2004     2004-06-28          1600.0              1.0   \n",
       "3           HIDDEN       2004     2004-06-30          1800.0              1.0   \n",
       "4             FORK       2004     2004-07-01          1800.0              1.0   \n",
       "...            ...        ...            ...             ...              ...   \n",
       "593373     YUCCA 2       2015     2015-07-25          1943.0              7.0   \n",
       "593374  1-1 PAIUTE       2015     2015-06-26          1752.0              1.0   \n",
       "593375        Z680       2015     2015-06-27           337.0              7.0   \n",
       "593376        CARR       2015     2015-09-30          2357.0              7.0   \n",
       "593377        1-64       2015     2015-08-01          1331.0              1.0   \n",
       "\n",
       "       STAT_CAUSE_DESCR   CONT_DATE  CONT_TIME  FIRE_SIZE FIRE_SIZE_CLASS  \\\n",
       "0             Lightning  2004-05-12     1530.0       0.25               A   \n",
       "1             Lightning  2004-07-03     1400.0       0.10               A   \n",
       "2             Lightning  2004-07-03     1200.0       0.10               A   \n",
       "3             Lightning  2004-07-01     1600.0       0.10               A   \n",
       "4             Lightning  2004-07-02     1400.0       0.10               A   \n",
       "...                 ...         ...        ...        ...             ...   \n",
       "593373            Arson         NaN        NaN       0.50               B   \n",
       "593374        Lightning  2015-06-26     2014.0       0.05               A   \n",
       "593375            Arson         NaN        NaN       0.10               A   \n",
       "593376            Arson  2015-10-01       56.0       1.00               B   \n",
       "593377        Lightning  2015-08-06     1000.0       4.00               B   \n",
       "\n",
       "         LATITUDE   LONGITUDE        OWNER_DESCR STATE COUNTY  \n",
       "0       38.933056 -120.404444               USFS    CA     61  \n",
       "1       38.559167 -119.913333               USFS    CA      3  \n",
       "2       38.559167 -119.933056               USFS    CA      3  \n",
       "3       38.635278 -120.103611               USFS    CA      5  \n",
       "4       38.688333 -120.153333               USFS    CA     17  \n",
       "...           ...         ...                ...   ...    ...  \n",
       "593373  34.244444 -116.658889  UNDEFINED FEDERAL    CA    NaN  \n",
       "593374  40.443000 -120.664433   STATE OR PRIVATE    CA    NaN  \n",
       "593375  38.041150 -121.985283  UNDEFINED FEDERAL    CA    NaN  \n",
       "593376  40.588583 -123.069617   STATE OR PRIVATE    CA    NaN  \n",
       "593377  40.244833 -123.544167  UNDEFINED FEDERAL    CA    NaN  \n",
       "\n",
       "[593378 rows x 18 columns]"
      ]
     },
     "execution_count": 4,
     "metadata": {},
     "output_type": "execute_result"
    }
   ],
   "source": [
    "df"
   ]
  },
  {
   "cell_type": "code",
   "execution_count": 5,
   "metadata": {},
   "outputs": [
    {
     "data": {
      "text/html": [
       "<div>\n",
       "<style scoped>\n",
       "    .dataframe tbody tr th:only-of-type {\n",
       "        vertical-align: middle;\n",
       "    }\n",
       "\n",
       "    .dataframe tbody tr th {\n",
       "        vertical-align: top;\n",
       "    }\n",
       "\n",
       "    .dataframe thead th {\n",
       "        text-align: right;\n",
       "    }\n",
       "</style>\n",
       "<table border=\"1\" class=\"dataframe\">\n",
       "  <thead>\n",
       "    <tr style=\"text-align: right;\">\n",
       "      <th></th>\n",
       "      <th>Total missing values</th>\n",
       "      <th>Percentage of missing values</th>\n",
       "    </tr>\n",
       "  </thead>\n",
       "  <tbody>\n",
       "    <tr>\n",
       "      <th>FIRE_NAME</th>\n",
       "      <td>263241</td>\n",
       "      <td>0.443631</td>\n",
       "    </tr>\n",
       "    <tr>\n",
       "      <th>COUNTY</th>\n",
       "      <td>245629</td>\n",
       "      <td>0.413950</td>\n",
       "    </tr>\n",
       "    <tr>\n",
       "      <th>CONT_TIME</th>\n",
       "      <td>226188</td>\n",
       "      <td>0.381187</td>\n",
       "    </tr>\n",
       "    <tr>\n",
       "      <th>CONT_DATE</th>\n",
       "      <td>210814</td>\n",
       "      <td>0.355278</td>\n",
       "    </tr>\n",
       "    <tr>\n",
       "      <th>DISCOVERY_TIME</th>\n",
       "      <td>203216</td>\n",
       "      <td>0.342473</td>\n",
       "    </tr>\n",
       "    <tr>\n",
       "      <th>STAT_CAUSE_CODE</th>\n",
       "      <td>0</td>\n",
       "      <td>0.000000</td>\n",
       "    </tr>\n",
       "    <tr>\n",
       "      <th>NWCG_REPORTING_AGENCY</th>\n",
       "      <td>0</td>\n",
       "      <td>0.000000</td>\n",
       "    </tr>\n",
       "    <tr>\n",
       "      <th>SOURCE_REPORTING_UNIT_NAME</th>\n",
       "      <td>0</td>\n",
       "      <td>0.000000</td>\n",
       "    </tr>\n",
       "    <tr>\n",
       "      <th>FIRE_YEAR</th>\n",
       "      <td>0</td>\n",
       "      <td>0.000000</td>\n",
       "    </tr>\n",
       "    <tr>\n",
       "      <th>DISCOVERY_DATE</th>\n",
       "      <td>0</td>\n",
       "      <td>0.000000</td>\n",
       "    </tr>\n",
       "    <tr>\n",
       "      <th>STAT_CAUSE_DESCR</th>\n",
       "      <td>0</td>\n",
       "      <td>0.000000</td>\n",
       "    </tr>\n",
       "    <tr>\n",
       "      <th>STATE</th>\n",
       "      <td>0</td>\n",
       "      <td>0.000000</td>\n",
       "    </tr>\n",
       "    <tr>\n",
       "      <th>FIRE_SIZE</th>\n",
       "      <td>0</td>\n",
       "      <td>0.000000</td>\n",
       "    </tr>\n",
       "    <tr>\n",
       "      <th>FIRE_SIZE_CLASS</th>\n",
       "      <td>0</td>\n",
       "      <td>0.000000</td>\n",
       "    </tr>\n",
       "    <tr>\n",
       "      <th>LATITUDE</th>\n",
       "      <td>0</td>\n",
       "      <td>0.000000</td>\n",
       "    </tr>\n",
       "    <tr>\n",
       "      <th>LONGITUDE</th>\n",
       "      <td>0</td>\n",
       "      <td>0.000000</td>\n",
       "    </tr>\n",
       "    <tr>\n",
       "      <th>OWNER_DESCR</th>\n",
       "      <td>0</td>\n",
       "      <td>0.000000</td>\n",
       "    </tr>\n",
       "    <tr>\n",
       "      <th>FOD_ID</th>\n",
       "      <td>0</td>\n",
       "      <td>0.000000</td>\n",
       "    </tr>\n",
       "  </tbody>\n",
       "</table>\n",
       "</div>"
      ],
      "text/plain": [
       "                            Total missing values  Percentage of missing values\n",
       "FIRE_NAME                                 263241                      0.443631\n",
       "COUNTY                                    245629                      0.413950\n",
       "CONT_TIME                                 226188                      0.381187\n",
       "CONT_DATE                                 210814                      0.355278\n",
       "DISCOVERY_TIME                            203216                      0.342473\n",
       "STAT_CAUSE_CODE                                0                      0.000000\n",
       "NWCG_REPORTING_AGENCY                          0                      0.000000\n",
       "SOURCE_REPORTING_UNIT_NAME                     0                      0.000000\n",
       "FIRE_YEAR                                      0                      0.000000\n",
       "DISCOVERY_DATE                                 0                      0.000000\n",
       "STAT_CAUSE_DESCR                               0                      0.000000\n",
       "STATE                                          0                      0.000000\n",
       "FIRE_SIZE                                      0                      0.000000\n",
       "FIRE_SIZE_CLASS                                0                      0.000000\n",
       "LATITUDE                                       0                      0.000000\n",
       "LONGITUDE                                      0                      0.000000\n",
       "OWNER_DESCR                                    0                      0.000000\n",
       "FOD_ID                                         0                      0.000000"
      ]
     },
     "execution_count": 5,
     "metadata": {},
     "output_type": "execute_result"
    }
   ],
   "source": [
    "total= df.isnull().sum().sort_values(ascending = False)\n",
    "percent = (df.isnull().sum()/df.isnull().count()).sort_values(ascending = False)\n",
    "missing_data = pd.concat([total, percent], axis=1, keys = ['Total missing values', 'Percentage of missing values'])\n",
    "missing_data\n"
   ]
  },
  {
   "cell_type": "markdown",
   "metadata": {},
   "source": [
    "## Code to fill in the missing values for CONT_DATE and CONT_TIME"
   ]
  },
  {
   "cell_type": "code",
   "execution_count": 6,
   "metadata": {},
   "outputs": [
    {
     "data": {
      "text/plain": [
       "Arson        281455\n",
       "Lightning    278468\n",
       "Railroad      33455\n",
       "Name: STAT_CAUSE_DESCR, dtype: int64"
      ]
     },
     "execution_count": 6,
     "metadata": {},
     "output_type": "execute_result"
    }
   ],
   "source": [
    "df[\"STAT_CAUSE_DESCR\"].value_counts().head(20)"
   ]
  },
  {
   "cell_type": "code",
   "execution_count": 7,
   "metadata": {},
   "outputs": [
    {
     "data": {
      "text/plain": [
       "B    258904\n",
       "A    223653\n",
       "C     84554\n",
       "D     12561\n",
       "E      6793\n",
       "F      4320\n",
       "G      2593\n",
       "Name: FIRE_SIZE_CLASS, dtype: int64"
      ]
     },
     "execution_count": 7,
     "metadata": {},
     "output_type": "execute_result"
    }
   ],
   "source": [
    "df[\"FIRE_SIZE_CLASS\"].value_counts().head(20)"
   ]
  },
  {
   "cell_type": "code",
   "execution_count": 8,
   "metadata": {},
   "outputs": [],
   "source": [
    "df1['CONT_DATE'] = df1.groupby(['DISCOVERY_DATE', 'FIRE_SIZE_CLASS', 'STAT_CAUSE_DESCR'])['CONT_DATE'].apply(lambda x: x.fillna(method='ffill'))"
   ]
  },
  {
   "cell_type": "code",
   "execution_count": 9,
   "metadata": {},
   "outputs": [],
   "source": [
    "df1['CONT_DATE'] = df1.groupby(['DISCOVERY_DATE', 'FIRE_SIZE_CLASS'])['CONT_DATE'].apply(lambda x: x.fillna(method='ffill'))"
   ]
  },
  {
   "cell_type": "code",
   "execution_count": 10,
   "metadata": {},
   "outputs": [
    {
     "data": {
      "text/plain": [
       "False    572305\n",
       "True      21073\n",
       "Name: CONT_DATE, dtype: int64"
      ]
     },
     "execution_count": 10,
     "metadata": {},
     "output_type": "execute_result"
    }
   ],
   "source": [
    "df1['CONT_DATE'].isna().value_counts()"
   ]
  },
  {
   "cell_type": "code",
   "execution_count": 11,
   "metadata": {},
   "outputs": [],
   "source": [
    "df1['CONT_DATE'] = df1.groupby(['DISCOVERY_DATE', 'STAT_CAUSE_DESCR'])['CONT_DATE'].apply(lambda x: x.fillna(method='ffill'))"
   ]
  },
  {
   "cell_type": "code",
   "execution_count": 12,
   "metadata": {},
   "outputs": [
    {
     "data": {
      "text/plain": [
       "False    588741\n",
       "True       4637\n",
       "Name: CONT_DATE, dtype: int64"
      ]
     },
     "execution_count": 12,
     "metadata": {},
     "output_type": "execute_result"
    }
   ],
   "source": [
    "df1['CONT_DATE'].isna().value_counts()"
   ]
  },
  {
   "cell_type": "code",
   "execution_count": 13,
   "metadata": {},
   "outputs": [],
   "source": [
    "df1['CONT_DATE'] = df1.groupby(['DISCOVERY_DATE'])['CONT_DATE'].apply(lambda x: x.fillna(method='ffill'))"
   ]
  },
  {
   "cell_type": "code",
   "execution_count": 14,
   "metadata": {},
   "outputs": [
    {
     "data": {
      "text/plain": [
       "False    589932\n",
       "True       3446\n",
       "Name: CONT_DATE, dtype: int64"
      ]
     },
     "execution_count": 14,
     "metadata": {},
     "output_type": "execute_result"
    }
   ],
   "source": [
    "df1['CONT_DATE'].isna().value_counts()"
   ]
  },
  {
   "cell_type": "code",
   "execution_count": 15,
   "metadata": {},
   "outputs": [],
   "source": [
    "CONT_DATE = df1.loc[:, 'CONT_DATE']\n",
    "missing_cont_date = df1.loc[CONT_DATE.isnull() == True, :]"
   ]
  },
  {
   "cell_type": "code",
   "execution_count": 16,
   "metadata": {},
   "outputs": [
    {
     "data": {
      "text/plain": [
       "(3446, 18)"
      ]
     },
     "execution_count": 16,
     "metadata": {},
     "output_type": "execute_result"
    }
   ],
   "source": [
    "missing_cont_date.shape"
   ]
  },
  {
   "cell_type": "code",
   "execution_count": 17,
   "metadata": {},
   "outputs": [],
   "source": [
    "for index, rows in missing_cont_date.iterrows():\n",
    "    cont_date = df1.at[index,'DISCOVERY_DATE']\n",
    "    df1.at[index,'CONT_DATE'] = cont_date"
   ]
  },
  {
   "cell_type": "code",
   "execution_count": 18,
   "metadata": {},
   "outputs": [
    {
     "data": {
      "text/plain": [
       "False    593378\n",
       "Name: CONT_DATE, dtype: int64"
      ]
     },
     "execution_count": 18,
     "metadata": {},
     "output_type": "execute_result"
    }
   ],
   "source": [
    "df1['CONT_DATE'].isna().value_counts()"
   ]
  },
  {
   "cell_type": "markdown",
   "metadata": {},
   "source": [
    "### Filling missing values for CONT_TIME"
   ]
  },
  {
   "cell_type": "code",
   "execution_count": 19,
   "metadata": {},
   "outputs": [],
   "source": [
    "df1['CONT_TIME'] = df1.groupby(['DISCOVERY_DATE', 'CONT_DATE'])['CONT_TIME'].apply(lambda x: x.fillna(method='ffill'))"
   ]
  },
  {
   "cell_type": "code",
   "execution_count": 20,
   "metadata": {},
   "outputs": [
    {
     "data": {
      "text/plain": [
       "False    588522\n",
       "True       4856\n",
       "Name: CONT_TIME, dtype: int64"
      ]
     },
     "execution_count": 20,
     "metadata": {},
     "output_type": "execute_result"
    }
   ],
   "source": [
    "df1['CONT_TIME'].isna().value_counts()"
   ]
  },
  {
   "cell_type": "code",
   "execution_count": 21,
   "metadata": {},
   "outputs": [],
   "source": [
    "df1['CONT_TIME'] = df1.groupby(['CONT_DATE', 'STAT_CAUSE_DESCR','FIRE_SIZE_CLASS' ])['CONT_TIME'].apply(lambda x: x.fillna(method='ffill'))"
   ]
  },
  {
   "cell_type": "code",
   "execution_count": 22,
   "metadata": {},
   "outputs": [
    {
     "data": {
      "text/plain": [
       "False    589853\n",
       "True       3525\n",
       "Name: CONT_TIME, dtype: int64"
      ]
     },
     "execution_count": 22,
     "metadata": {},
     "output_type": "execute_result"
    }
   ],
   "source": [
    "df1['CONT_TIME'].isna().value_counts()"
   ]
  },
  {
   "cell_type": "code",
   "execution_count": 23,
   "metadata": {},
   "outputs": [],
   "source": [
    "df1['CONT_TIME'] = df1.groupby(['CONT_DATE'])['CONT_TIME'].apply(lambda x: x.fillna(method='ffill'))"
   ]
  },
  {
   "cell_type": "code",
   "execution_count": 24,
   "metadata": {},
   "outputs": [
    {
     "data": {
      "text/plain": [
       "False    590869\n",
       "True       2509\n",
       "Name: CONT_TIME, dtype: int64"
      ]
     },
     "execution_count": 24,
     "metadata": {},
     "output_type": "execute_result"
    }
   ],
   "source": [
    "df1['CONT_TIME'].isna().value_counts()"
   ]
  },
  {
   "cell_type": "code",
   "execution_count": 25,
   "metadata": {},
   "outputs": [],
   "source": [
    "df1['CONT_TIME'] = df1.groupby(['DISCOVERY_DATE'])['CONT_TIME'].apply(lambda x: x.fillna(method='ffill'))"
   ]
  },
  {
   "cell_type": "code",
   "execution_count": 26,
   "metadata": {},
   "outputs": [
    {
     "data": {
      "text/plain": [
       "False    590962\n",
       "True       2416\n",
       "Name: CONT_TIME, dtype: int64"
      ]
     },
     "execution_count": 26,
     "metadata": {},
     "output_type": "execute_result"
    }
   ],
   "source": [
    "df1['CONT_TIME'].isna().value_counts()"
   ]
  },
  {
   "cell_type": "code",
   "execution_count": 27,
   "metadata": {},
   "outputs": [],
   "source": [
    "df1['CONT_TIME'] = df1.groupby(['FIRE_SIZE_CLASS'])['CONT_TIME'].apply(lambda x: x.fillna(method='ffill'))"
   ]
  },
  {
   "cell_type": "code",
   "execution_count": 28,
   "metadata": {},
   "outputs": [
    {
     "data": {
      "text/plain": [
       "False    593378\n",
       "Name: CONT_TIME, dtype: int64"
      ]
     },
     "execution_count": 28,
     "metadata": {},
     "output_type": "execute_result"
    }
   ],
   "source": [
    "df1['CONT_TIME'].isna().value_counts()"
   ]
  },
  {
   "cell_type": "code",
   "execution_count": 29,
   "metadata": {},
   "outputs": [
    {
     "data": {
      "text/plain": [
       "(593378, 18)"
      ]
     },
     "execution_count": 29,
     "metadata": {},
     "output_type": "execute_result"
    }
   ],
   "source": [
    "df1.shape"
   ]
  },
  {
   "cell_type": "code",
   "execution_count": 30,
   "metadata": {},
   "outputs": [
    {
     "data": {
      "text/html": [
       "<div>\n",
       "<style scoped>\n",
       "    .dataframe tbody tr th:only-of-type {\n",
       "        vertical-align: middle;\n",
       "    }\n",
       "\n",
       "    .dataframe tbody tr th {\n",
       "        vertical-align: top;\n",
       "    }\n",
       "\n",
       "    .dataframe thead th {\n",
       "        text-align: right;\n",
       "    }\n",
       "</style>\n",
       "<table border=\"1\" class=\"dataframe\">\n",
       "  <thead>\n",
       "    <tr style=\"text-align: right;\">\n",
       "      <th></th>\n",
       "      <th>FOD_ID</th>\n",
       "      <th>NWCG_REPORTING_AGENCY</th>\n",
       "      <th>SOURCE_REPORTING_UNIT_NAME</th>\n",
       "      <th>FIRE_NAME</th>\n",
       "      <th>FIRE_YEAR</th>\n",
       "      <th>DISCOVERY_DATE</th>\n",
       "      <th>DISCOVERY_TIME</th>\n",
       "      <th>STAT_CAUSE_CODE</th>\n",
       "      <th>STAT_CAUSE_DESCR</th>\n",
       "      <th>CONT_DATE</th>\n",
       "      <th>CONT_TIME</th>\n",
       "      <th>FIRE_SIZE</th>\n",
       "      <th>FIRE_SIZE_CLASS</th>\n",
       "      <th>LATITUDE</th>\n",
       "      <th>LONGITUDE</th>\n",
       "      <th>OWNER_DESCR</th>\n",
       "      <th>STATE</th>\n",
       "      <th>COUNTY</th>\n",
       "    </tr>\n",
       "  </thead>\n",
       "  <tbody>\n",
       "    <tr>\n",
       "      <th>0</th>\n",
       "      <td>2</td>\n",
       "      <td>FS</td>\n",
       "      <td>Eldorado National Forest</td>\n",
       "      <td>PIGEON</td>\n",
       "      <td>2004</td>\n",
       "      <td>2004-05-12</td>\n",
       "      <td>845.0</td>\n",
       "      <td>1.0</td>\n",
       "      <td>Lightning</td>\n",
       "      <td>2004-05-12</td>\n",
       "      <td>1530.0</td>\n",
       "      <td>0.25</td>\n",
       "      <td>A</td>\n",
       "      <td>38.933056</td>\n",
       "      <td>-120.404444</td>\n",
       "      <td>USFS</td>\n",
       "      <td>CA</td>\n",
       "      <td>61</td>\n",
       "    </tr>\n",
       "    <tr>\n",
       "      <th>1</th>\n",
       "      <td>4</td>\n",
       "      <td>FS</td>\n",
       "      <td>Eldorado National Forest</td>\n",
       "      <td>DEER</td>\n",
       "      <td>2004</td>\n",
       "      <td>2004-06-28</td>\n",
       "      <td>1600.0</td>\n",
       "      <td>1.0</td>\n",
       "      <td>Lightning</td>\n",
       "      <td>2004-07-03</td>\n",
       "      <td>1400.0</td>\n",
       "      <td>0.10</td>\n",
       "      <td>A</td>\n",
       "      <td>38.559167</td>\n",
       "      <td>-119.913333</td>\n",
       "      <td>USFS</td>\n",
       "      <td>CA</td>\n",
       "      <td>3</td>\n",
       "    </tr>\n",
       "    <tr>\n",
       "      <th>2</th>\n",
       "      <td>5</td>\n",
       "      <td>FS</td>\n",
       "      <td>Eldorado National Forest</td>\n",
       "      <td>STEVENOT</td>\n",
       "      <td>2004</td>\n",
       "      <td>2004-06-28</td>\n",
       "      <td>1600.0</td>\n",
       "      <td>1.0</td>\n",
       "      <td>Lightning</td>\n",
       "      <td>2004-07-03</td>\n",
       "      <td>1200.0</td>\n",
       "      <td>0.10</td>\n",
       "      <td>A</td>\n",
       "      <td>38.559167</td>\n",
       "      <td>-119.933056</td>\n",
       "      <td>USFS</td>\n",
       "      <td>CA</td>\n",
       "      <td>3</td>\n",
       "    </tr>\n",
       "    <tr>\n",
       "      <th>3</th>\n",
       "      <td>6</td>\n",
       "      <td>FS</td>\n",
       "      <td>Eldorado National Forest</td>\n",
       "      <td>HIDDEN</td>\n",
       "      <td>2004</td>\n",
       "      <td>2004-06-30</td>\n",
       "      <td>1800.0</td>\n",
       "      <td>1.0</td>\n",
       "      <td>Lightning</td>\n",
       "      <td>2004-07-01</td>\n",
       "      <td>1600.0</td>\n",
       "      <td>0.10</td>\n",
       "      <td>A</td>\n",
       "      <td>38.635278</td>\n",
       "      <td>-120.103611</td>\n",
       "      <td>USFS</td>\n",
       "      <td>CA</td>\n",
       "      <td>5</td>\n",
       "    </tr>\n",
       "    <tr>\n",
       "      <th>4</th>\n",
       "      <td>7</td>\n",
       "      <td>FS</td>\n",
       "      <td>Eldorado National Forest</td>\n",
       "      <td>FORK</td>\n",
       "      <td>2004</td>\n",
       "      <td>2004-07-01</td>\n",
       "      <td>1800.0</td>\n",
       "      <td>1.0</td>\n",
       "      <td>Lightning</td>\n",
       "      <td>2004-07-02</td>\n",
       "      <td>1400.0</td>\n",
       "      <td>0.10</td>\n",
       "      <td>A</td>\n",
       "      <td>38.688333</td>\n",
       "      <td>-120.153333</td>\n",
       "      <td>USFS</td>\n",
       "      <td>CA</td>\n",
       "      <td>17</td>\n",
       "    </tr>\n",
       "  </tbody>\n",
       "</table>\n",
       "</div>"
      ],
      "text/plain": [
       "   FOD_ID NWCG_REPORTING_AGENCY SOURCE_REPORTING_UNIT_NAME FIRE_NAME  \\\n",
       "0       2                    FS   Eldorado National Forest    PIGEON   \n",
       "1       4                    FS   Eldorado National Forest      DEER   \n",
       "2       5                    FS   Eldorado National Forest  STEVENOT   \n",
       "3       6                    FS   Eldorado National Forest    HIDDEN   \n",
       "4       7                    FS   Eldorado National Forest      FORK   \n",
       "\n",
       "   FIRE_YEAR DISCOVERY_DATE  DISCOVERY_TIME  STAT_CAUSE_CODE STAT_CAUSE_DESCR  \\\n",
       "0       2004     2004-05-12           845.0              1.0        Lightning   \n",
       "1       2004     2004-06-28          1600.0              1.0        Lightning   \n",
       "2       2004     2004-06-28          1600.0              1.0        Lightning   \n",
       "3       2004     2004-06-30          1800.0              1.0        Lightning   \n",
       "4       2004     2004-07-01          1800.0              1.0        Lightning   \n",
       "\n",
       "    CONT_DATE  CONT_TIME  FIRE_SIZE FIRE_SIZE_CLASS   LATITUDE   LONGITUDE  \\\n",
       "0  2004-05-12     1530.0       0.25               A  38.933056 -120.404444   \n",
       "1  2004-07-03     1400.0       0.10               A  38.559167 -119.913333   \n",
       "2  2004-07-03     1200.0       0.10               A  38.559167 -119.933056   \n",
       "3  2004-07-01     1600.0       0.10               A  38.635278 -120.103611   \n",
       "4  2004-07-02     1400.0       0.10               A  38.688333 -120.153333   \n",
       "\n",
       "  OWNER_DESCR STATE COUNTY  \n",
       "0        USFS    CA     61  \n",
       "1        USFS    CA      3  \n",
       "2        USFS    CA      3  \n",
       "3        USFS    CA      5  \n",
       "4        USFS    CA     17  "
      ]
     },
     "execution_count": 30,
     "metadata": {},
     "output_type": "execute_result"
    }
   ],
   "source": [
    "df1.head()"
   ]
  },
  {
   "cell_type": "code",
   "execution_count": 31,
   "metadata": {},
   "outputs": [],
   "source": [
    "df1.to_csv('dataset_filled_contdate_time.csv', index= False)"
   ]
  }
 ],
 "metadata": {
  "kernelspec": {
   "display_name": "Python 3",
   "language": "python",
   "name": "python3"
  },
  "language_info": {
   "codemirror_mode": {
    "name": "ipython",
    "version": 3
   },
   "file_extension": ".py",
   "mimetype": "text/x-python",
   "name": "python",
   "nbconvert_exporter": "python",
   "pygments_lexer": "ipython3",
   "version": "3.8.3"
  }
 },
 "nbformat": 4,
 "nbformat_minor": 4
}
