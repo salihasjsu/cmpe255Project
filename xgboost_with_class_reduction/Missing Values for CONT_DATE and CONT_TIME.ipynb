{
 "cells": [
  {
   "cell_type": "code",
   "execution_count": 1,
   "metadata": {},
   "outputs": [],
   "source": [
    "import pandas as pd\n",
    "import matplotlib.pyplot as plt\n",
    "import seaborn as sns\n",
    "import numpy as np"
   ]
  },
  {
   "cell_type": "code",
   "execution_count": 2,
   "metadata": {},
   "outputs": [],
   "source": [
    "df = pd.read_csv('sampled_dataset_reduced.csv')"
   ]
  },
  {
   "cell_type": "code",
   "execution_count": 3,
   "metadata": {},
   "outputs": [],
   "source": [
    "df1 = df.copy()"
   ]
  },
  {
   "cell_type": "code",
   "execution_count": 4,
   "metadata": {},
   "outputs": [
    {
     "data": {
      "text/html": [
       "<div>\n",
       "<style scoped>\n",
       "    .dataframe tbody tr th:only-of-type {\n",
       "        vertical-align: middle;\n",
       "    }\n",
       "\n",
       "    .dataframe tbody tr th {\n",
       "        vertical-align: top;\n",
       "    }\n",
       "\n",
       "    .dataframe thead th {\n",
       "        text-align: right;\n",
       "    }\n",
       "</style>\n",
       "<table border=\"1\" class=\"dataframe\">\n",
       "  <thead>\n",
       "    <tr style=\"text-align: right;\">\n",
       "      <th></th>\n",
       "      <th>FOD_ID</th>\n",
       "      <th>NWCG_REPORTING_AGENCY</th>\n",
       "      <th>SOURCE_REPORTING_UNIT_NAME</th>\n",
       "      <th>FIRE_NAME</th>\n",
       "      <th>FIRE_YEAR</th>\n",
       "      <th>DISCOVERY_DATE</th>\n",
       "      <th>DISCOVERY_TIME</th>\n",
       "      <th>STAT_CAUSE_CODE</th>\n",
       "      <th>STAT_CAUSE_DESCR</th>\n",
       "      <th>CONT_DATE</th>\n",
       "      <th>CONT_TIME</th>\n",
       "      <th>FIRE_SIZE</th>\n",
       "      <th>FIRE_SIZE_CLASS</th>\n",
       "      <th>LATITUDE</th>\n",
       "      <th>LONGITUDE</th>\n",
       "      <th>OWNER_DESCR</th>\n",
       "      <th>STATE</th>\n",
       "      <th>COUNTY</th>\n",
       "    </tr>\n",
       "  </thead>\n",
       "  <tbody>\n",
       "    <tr>\n",
       "      <th>0</th>\n",
       "      <td>46487</td>\n",
       "      <td>FS</td>\n",
       "      <td>Salmon-Challis National Forest</td>\n",
       "      <td>NaN</td>\n",
       "      <td>1992</td>\n",
       "      <td>1992-06-20</td>\n",
       "      <td>1035.0</td>\n",
       "      <td>1.0</td>\n",
       "      <td>Lightning</td>\n",
       "      <td>1992-06-20</td>\n",
       "      <td>1336.0</td>\n",
       "      <td>0.1</td>\n",
       "      <td>A</td>\n",
       "      <td>45.308333</td>\n",
       "      <td>-114.475000</td>\n",
       "      <td>USFS</td>\n",
       "      <td>ID</td>\n",
       "      <td>NaN</td>\n",
       "    </tr>\n",
       "    <tr>\n",
       "      <th>1</th>\n",
       "      <td>242377</td>\n",
       "      <td>BLM</td>\n",
       "      <td>Rock Springs Field Office</td>\n",
       "      <td>MARYSFIRST</td>\n",
       "      <td>1992</td>\n",
       "      <td>1992-08-21</td>\n",
       "      <td>1428.0</td>\n",
       "      <td>1.0</td>\n",
       "      <td>Lightning</td>\n",
       "      <td>1992-08-22</td>\n",
       "      <td>1800.0</td>\n",
       "      <td>0.1</td>\n",
       "      <td>A</td>\n",
       "      <td>41.416600</td>\n",
       "      <td>-109.234000</td>\n",
       "      <td>BLM</td>\n",
       "      <td>WY</td>\n",
       "      <td>NaN</td>\n",
       "    </tr>\n",
       "    <tr>\n",
       "      <th>2</th>\n",
       "      <td>49259</td>\n",
       "      <td>FS</td>\n",
       "      <td>Shasta-Trinity National Forest</td>\n",
       "      <td>NaN</td>\n",
       "      <td>1992</td>\n",
       "      <td>1992-06-24</td>\n",
       "      <td>1135.0</td>\n",
       "      <td>1.0</td>\n",
       "      <td>Lightning</td>\n",
       "      <td>1992-06-24</td>\n",
       "      <td>1800.0</td>\n",
       "      <td>0.1</td>\n",
       "      <td>A</td>\n",
       "      <td>40.730000</td>\n",
       "      <td>-122.475000</td>\n",
       "      <td>USFS</td>\n",
       "      <td>CA</td>\n",
       "      <td>NaN</td>\n",
       "    </tr>\n",
       "    <tr>\n",
       "      <th>3</th>\n",
       "      <td>50588</td>\n",
       "      <td>FS</td>\n",
       "      <td>Malheur National Forest</td>\n",
       "      <td>NaN</td>\n",
       "      <td>1992</td>\n",
       "      <td>1992-08-01</td>\n",
       "      <td>1538.0</td>\n",
       "      <td>1.0</td>\n",
       "      <td>Lightning</td>\n",
       "      <td>1992-08-01</td>\n",
       "      <td>2200.0</td>\n",
       "      <td>0.1</td>\n",
       "      <td>A</td>\n",
       "      <td>44.296667</td>\n",
       "      <td>-118.738333</td>\n",
       "      <td>USFS</td>\n",
       "      <td>OR</td>\n",
       "      <td>NaN</td>\n",
       "    </tr>\n",
       "    <tr>\n",
       "      <th>4</th>\n",
       "      <td>222205</td>\n",
       "      <td>BLM</td>\n",
       "      <td>Susanville District</td>\n",
       "      <td>HORSE</td>\n",
       "      <td>1992</td>\n",
       "      <td>1992-06-28</td>\n",
       "      <td>1100.0</td>\n",
       "      <td>1.0</td>\n",
       "      <td>Lightning</td>\n",
       "      <td>1992-06-28</td>\n",
       "      <td>1324.0</td>\n",
       "      <td>0.1</td>\n",
       "      <td>A</td>\n",
       "      <td>40.666600</td>\n",
       "      <td>-120.484400</td>\n",
       "      <td>BLM</td>\n",
       "      <td>CA</td>\n",
       "      <td>NaN</td>\n",
       "    </tr>\n",
       "    <tr>\n",
       "      <th>...</th>\n",
       "      <td>...</td>\n",
       "      <td>...</td>\n",
       "      <td>...</td>\n",
       "      <td>...</td>\n",
       "      <td>...</td>\n",
       "      <td>...</td>\n",
       "      <td>...</td>\n",
       "      <td>...</td>\n",
       "      <td>...</td>\n",
       "      <td>...</td>\n",
       "      <td>...</td>\n",
       "      <td>...</td>\n",
       "      <td>...</td>\n",
       "      <td>...</td>\n",
       "      <td>...</td>\n",
       "      <td>...</td>\n",
       "      <td>...</td>\n",
       "      <td>...</td>\n",
       "    </tr>\n",
       "    <tr>\n",
       "      <th>376096</th>\n",
       "      <td>300286438</td>\n",
       "      <td>ST/C&amp;L</td>\n",
       "      <td>Arizona State Forestry Division - State Office</td>\n",
       "      <td>154356</td>\n",
       "      <td>2015</td>\n",
       "      <td>2015-03-16</td>\n",
       "      <td>NaN</td>\n",
       "      <td>13.0</td>\n",
       "      <td>Missing/Undefined</td>\n",
       "      <td>2015-03-16</td>\n",
       "      <td>1800.0</td>\n",
       "      <td>0.1</td>\n",
       "      <td>A</td>\n",
       "      <td>33.493680</td>\n",
       "      <td>-112.277619</td>\n",
       "      <td>MISSING/NOT SPECIFIED</td>\n",
       "      <td>AZ</td>\n",
       "      <td>NaN</td>\n",
       "    </tr>\n",
       "    <tr>\n",
       "      <th>376097</th>\n",
       "      <td>300287009</td>\n",
       "      <td>ST/C&amp;L</td>\n",
       "      <td>San Mateo-Santa Cruz Unit</td>\n",
       "      <td>NaN</td>\n",
       "      <td>2015</td>\n",
       "      <td>2015-04-23</td>\n",
       "      <td>1321.0</td>\n",
       "      <td>13.0</td>\n",
       "      <td>Missing/Undefined</td>\n",
       "      <td>2015-04-23</td>\n",
       "      <td>1334.0</td>\n",
       "      <td>1.0</td>\n",
       "      <td>B</td>\n",
       "      <td>37.414050</td>\n",
       "      <td>-122.193200</td>\n",
       "      <td>MISSING/NOT SPECIFIED</td>\n",
       "      <td>CA</td>\n",
       "      <td>SAN MATEO</td>\n",
       "    </tr>\n",
       "    <tr>\n",
       "      <th>376098</th>\n",
       "      <td>300307593</td>\n",
       "      <td>ST/C&amp;L</td>\n",
       "      <td>Butte Unit</td>\n",
       "      <td>18TH ST / OROVILLE DAM BL</td>\n",
       "      <td>2015</td>\n",
       "      <td>2015-08-12</td>\n",
       "      <td>1246.0</td>\n",
       "      <td>13.0</td>\n",
       "      <td>Missing/Undefined</td>\n",
       "      <td>2015-08-12</td>\n",
       "      <td>1300.0</td>\n",
       "      <td>0.1</td>\n",
       "      <td>A</td>\n",
       "      <td>39.501869</td>\n",
       "      <td>-121.605211</td>\n",
       "      <td>MISSING/NOT SPECIFIED</td>\n",
       "      <td>CA</td>\n",
       "      <td>BUTTE</td>\n",
       "    </tr>\n",
       "    <tr>\n",
       "      <th>376099</th>\n",
       "      <td>300288242</td>\n",
       "      <td>ST/C&amp;L</td>\n",
       "      <td>Arizona State Forestry Division - State Office</td>\n",
       "      <td>153500</td>\n",
       "      <td>2015</td>\n",
       "      <td>2015-07-11</td>\n",
       "      <td>NaN</td>\n",
       "      <td>13.0</td>\n",
       "      <td>Missing/Undefined</td>\n",
       "      <td>2015-07-11</td>\n",
       "      <td>1800.0</td>\n",
       "      <td>0.1</td>\n",
       "      <td>A</td>\n",
       "      <td>32.230100</td>\n",
       "      <td>-110.798700</td>\n",
       "      <td>MISSING/NOT SPECIFIED</td>\n",
       "      <td>AZ</td>\n",
       "      <td>NaN</td>\n",
       "    </tr>\n",
       "    <tr>\n",
       "      <th>376100</th>\n",
       "      <td>300285954</td>\n",
       "      <td>ST/C&amp;L</td>\n",
       "      <td>Arizona State Forestry Division - State Office</td>\n",
       "      <td>15-015</td>\n",
       "      <td>2015</td>\n",
       "      <td>2015-01-25</td>\n",
       "      <td>1255.0</td>\n",
       "      <td>13.0</td>\n",
       "      <td>Missing/Undefined</td>\n",
       "      <td>2015-01-25</td>\n",
       "      <td>1800.0</td>\n",
       "      <td>0.1</td>\n",
       "      <td>A</td>\n",
       "      <td>34.255000</td>\n",
       "      <td>-109.692500</td>\n",
       "      <td>MISSING/NOT SPECIFIED</td>\n",
       "      <td>AZ</td>\n",
       "      <td>NaN</td>\n",
       "    </tr>\n",
       "  </tbody>\n",
       "</table>\n",
       "<p>376101 rows × 18 columns</p>\n",
       "</div>"
      ],
      "text/plain": [
       "           FOD_ID NWCG_REPORTING_AGENCY  \\\n",
       "0           46487                    FS   \n",
       "1          242377                   BLM   \n",
       "2           49259                    FS   \n",
       "3           50588                    FS   \n",
       "4          222205                   BLM   \n",
       "...           ...                   ...   \n",
       "376096  300286438                ST/C&L   \n",
       "376097  300287009                ST/C&L   \n",
       "376098  300307593                ST/C&L   \n",
       "376099  300288242                ST/C&L   \n",
       "376100  300285954                ST/C&L   \n",
       "\n",
       "                            SOURCE_REPORTING_UNIT_NAME  \\\n",
       "0                       Salmon-Challis National Forest   \n",
       "1                            Rock Springs Field Office   \n",
       "2                       Shasta-Trinity National Forest   \n",
       "3                              Malheur National Forest   \n",
       "4                                  Susanville District   \n",
       "...                                                ...   \n",
       "376096  Arizona State Forestry Division - State Office   \n",
       "376097                       San Mateo-Santa Cruz Unit   \n",
       "376098                                      Butte Unit   \n",
       "376099  Arizona State Forestry Division - State Office   \n",
       "376100  Arizona State Forestry Division - State Office   \n",
       "\n",
       "                        FIRE_NAME  FIRE_YEAR DISCOVERY_DATE  DISCOVERY_TIME  \\\n",
       "0                             NaN       1992     1992-06-20          1035.0   \n",
       "1                      MARYSFIRST       1992     1992-08-21          1428.0   \n",
       "2                             NaN       1992     1992-06-24          1135.0   \n",
       "3                             NaN       1992     1992-08-01          1538.0   \n",
       "4                           HORSE       1992     1992-06-28          1100.0   \n",
       "...                           ...        ...            ...             ...   \n",
       "376096                     154356       2015     2015-03-16             NaN   \n",
       "376097                        NaN       2015     2015-04-23          1321.0   \n",
       "376098  18TH ST / OROVILLE DAM BL       2015     2015-08-12          1246.0   \n",
       "376099                     153500       2015     2015-07-11             NaN   \n",
       "376100                     15-015       2015     2015-01-25          1255.0   \n",
       "\n",
       "        STAT_CAUSE_CODE   STAT_CAUSE_DESCR   CONT_DATE  CONT_TIME  FIRE_SIZE  \\\n",
       "0                   1.0          Lightning  1992-06-20     1336.0        0.1   \n",
       "1                   1.0          Lightning  1992-08-22     1800.0        0.1   \n",
       "2                   1.0          Lightning  1992-06-24     1800.0        0.1   \n",
       "3                   1.0          Lightning  1992-08-01     2200.0        0.1   \n",
       "4                   1.0          Lightning  1992-06-28     1324.0        0.1   \n",
       "...                 ...                ...         ...        ...        ...   \n",
       "376096             13.0  Missing/Undefined  2015-03-16     1800.0        0.1   \n",
       "376097             13.0  Missing/Undefined  2015-04-23     1334.0        1.0   \n",
       "376098             13.0  Missing/Undefined  2015-08-12     1300.0        0.1   \n",
       "376099             13.0  Missing/Undefined  2015-07-11     1800.0        0.1   \n",
       "376100             13.0  Missing/Undefined  2015-01-25     1800.0        0.1   \n",
       "\n",
       "       FIRE_SIZE_CLASS   LATITUDE   LONGITUDE            OWNER_DESCR STATE  \\\n",
       "0                    A  45.308333 -114.475000                   USFS    ID   \n",
       "1                    A  41.416600 -109.234000                    BLM    WY   \n",
       "2                    A  40.730000 -122.475000                   USFS    CA   \n",
       "3                    A  44.296667 -118.738333                   USFS    OR   \n",
       "4                    A  40.666600 -120.484400                    BLM    CA   \n",
       "...                ...        ...         ...                    ...   ...   \n",
       "376096               A  33.493680 -112.277619  MISSING/NOT SPECIFIED    AZ   \n",
       "376097               B  37.414050 -122.193200  MISSING/NOT SPECIFIED    CA   \n",
       "376098               A  39.501869 -121.605211  MISSING/NOT SPECIFIED    CA   \n",
       "376099               A  32.230100 -110.798700  MISSING/NOT SPECIFIED    AZ   \n",
       "376100               A  34.255000 -109.692500  MISSING/NOT SPECIFIED    AZ   \n",
       "\n",
       "           COUNTY  \n",
       "0             NaN  \n",
       "1             NaN  \n",
       "2             NaN  \n",
       "3             NaN  \n",
       "4             NaN  \n",
       "...           ...  \n",
       "376096        NaN  \n",
       "376097  SAN MATEO  \n",
       "376098      BUTTE  \n",
       "376099        NaN  \n",
       "376100        NaN  \n",
       "\n",
       "[376101 rows x 18 columns]"
      ]
     },
     "execution_count": 4,
     "metadata": {},
     "output_type": "execute_result"
    }
   ],
   "source": [
    "df"
   ]
  },
  {
   "cell_type": "code",
   "execution_count": 5,
   "metadata": {},
   "outputs": [
    {
     "data": {
      "text/html": [
       "<div>\n",
       "<style scoped>\n",
       "    .dataframe tbody tr th:only-of-type {\n",
       "        vertical-align: middle;\n",
       "    }\n",
       "\n",
       "    .dataframe tbody tr th {\n",
       "        vertical-align: top;\n",
       "    }\n",
       "\n",
       "    .dataframe thead th {\n",
       "        text-align: right;\n",
       "    }\n",
       "</style>\n",
       "<table border=\"1\" class=\"dataframe\">\n",
       "  <thead>\n",
       "    <tr style=\"text-align: right;\">\n",
       "      <th></th>\n",
       "      <th>Total missing values</th>\n",
       "      <th>Percentage of missing values</th>\n",
       "    </tr>\n",
       "  </thead>\n",
       "  <tbody>\n",
       "    <tr>\n",
       "      <th>CONT_TIME</th>\n",
       "      <td>194334</td>\n",
       "      <td>0.516707</td>\n",
       "    </tr>\n",
       "    <tr>\n",
       "      <th>FIRE_NAME</th>\n",
       "      <td>192151</td>\n",
       "      <td>0.510903</td>\n",
       "    </tr>\n",
       "    <tr>\n",
       "      <th>CONT_DATE</th>\n",
       "      <td>178211</td>\n",
       "      <td>0.473838</td>\n",
       "    </tr>\n",
       "    <tr>\n",
       "      <th>DISCOVERY_TIME</th>\n",
       "      <td>176408</td>\n",
       "      <td>0.469044</td>\n",
       "    </tr>\n",
       "    <tr>\n",
       "      <th>COUNTY</th>\n",
       "      <td>135724</td>\n",
       "      <td>0.360871</td>\n",
       "    </tr>\n",
       "    <tr>\n",
       "      <th>STAT_CAUSE_CODE</th>\n",
       "      <td>0</td>\n",
       "      <td>0.000000</td>\n",
       "    </tr>\n",
       "    <tr>\n",
       "      <th>NWCG_REPORTING_AGENCY</th>\n",
       "      <td>0</td>\n",
       "      <td>0.000000</td>\n",
       "    </tr>\n",
       "    <tr>\n",
       "      <th>SOURCE_REPORTING_UNIT_NAME</th>\n",
       "      <td>0</td>\n",
       "      <td>0.000000</td>\n",
       "    </tr>\n",
       "    <tr>\n",
       "      <th>FIRE_YEAR</th>\n",
       "      <td>0</td>\n",
       "      <td>0.000000</td>\n",
       "    </tr>\n",
       "    <tr>\n",
       "      <th>DISCOVERY_DATE</th>\n",
       "      <td>0</td>\n",
       "      <td>0.000000</td>\n",
       "    </tr>\n",
       "    <tr>\n",
       "      <th>STAT_CAUSE_DESCR</th>\n",
       "      <td>0</td>\n",
       "      <td>0.000000</td>\n",
       "    </tr>\n",
       "    <tr>\n",
       "      <th>STATE</th>\n",
       "      <td>0</td>\n",
       "      <td>0.000000</td>\n",
       "    </tr>\n",
       "    <tr>\n",
       "      <th>FIRE_SIZE</th>\n",
       "      <td>0</td>\n",
       "      <td>0.000000</td>\n",
       "    </tr>\n",
       "    <tr>\n",
       "      <th>FIRE_SIZE_CLASS</th>\n",
       "      <td>0</td>\n",
       "      <td>0.000000</td>\n",
       "    </tr>\n",
       "    <tr>\n",
       "      <th>LATITUDE</th>\n",
       "      <td>0</td>\n",
       "      <td>0.000000</td>\n",
       "    </tr>\n",
       "    <tr>\n",
       "      <th>LONGITUDE</th>\n",
       "      <td>0</td>\n",
       "      <td>0.000000</td>\n",
       "    </tr>\n",
       "    <tr>\n",
       "      <th>OWNER_DESCR</th>\n",
       "      <td>0</td>\n",
       "      <td>0.000000</td>\n",
       "    </tr>\n",
       "    <tr>\n",
       "      <th>FOD_ID</th>\n",
       "      <td>0</td>\n",
       "      <td>0.000000</td>\n",
       "    </tr>\n",
       "  </tbody>\n",
       "</table>\n",
       "</div>"
      ],
      "text/plain": [
       "                            Total missing values  Percentage of missing values\n",
       "CONT_TIME                                 194334                      0.516707\n",
       "FIRE_NAME                                 192151                      0.510903\n",
       "CONT_DATE                                 178211                      0.473838\n",
       "DISCOVERY_TIME                            176408                      0.469044\n",
       "COUNTY                                    135724                      0.360871\n",
       "STAT_CAUSE_CODE                                0                      0.000000\n",
       "NWCG_REPORTING_AGENCY                          0                      0.000000\n",
       "SOURCE_REPORTING_UNIT_NAME                     0                      0.000000\n",
       "FIRE_YEAR                                      0                      0.000000\n",
       "DISCOVERY_DATE                                 0                      0.000000\n",
       "STAT_CAUSE_DESCR                               0                      0.000000\n",
       "STATE                                          0                      0.000000\n",
       "FIRE_SIZE                                      0                      0.000000\n",
       "FIRE_SIZE_CLASS                                0                      0.000000\n",
       "LATITUDE                                       0                      0.000000\n",
       "LONGITUDE                                      0                      0.000000\n",
       "OWNER_DESCR                                    0                      0.000000\n",
       "FOD_ID                                         0                      0.000000"
      ]
     },
     "execution_count": 5,
     "metadata": {},
     "output_type": "execute_result"
    }
   ],
   "source": [
    "total= df.isnull().sum().sort_values(ascending = False)\n",
    "percent = (df.isnull().sum()/df.isnull().count()).sort_values(ascending = False)\n",
    "missing_data = pd.concat([total, percent], axis=1, keys = ['Total missing values', 'Percentage of missing values'])\n",
    "missing_data\n"
   ]
  },
  {
   "cell_type": "markdown",
   "metadata": {},
   "source": [
    "## Visualization"
   ]
  },
  {
   "cell_type": "code",
   "execution_count": null,
   "metadata": {},
   "outputs": [],
   "source": []
  },
  {
   "cell_type": "markdown",
   "metadata": {},
   "source": [
    "## Code to fill in the missing values for CONT_DATE and CONT_TIME"
   ]
  },
  {
   "cell_type": "code",
   "execution_count": 6,
   "metadata": {},
   "outputs": [
    {
     "data": {
      "text/plain": [
       "Debris Burning       85807\n",
       "Miscellaneous        64763\n",
       "Arson                56290\n",
       "Lightning            55695\n",
       "Missing/Undefined    33345\n",
       "Equipment Use        29525\n",
       "Campfire             15225\n",
       "Children             12232\n",
       "Smoking              10575\n",
       "Railroad              6693\n",
       "Powerline             2892\n",
       "Fireworks             2300\n",
       "Structure              759\n",
       "Name: STAT_CAUSE_DESCR, dtype: int64"
      ]
     },
     "execution_count": 6,
     "metadata": {},
     "output_type": "execute_result"
    }
   ],
   "source": [
    "df[\"STAT_CAUSE_DESCR\"].value_counts().head(20)"
   ]
  },
  {
   "cell_type": "code",
   "execution_count": 7,
   "metadata": {},
   "outputs": [
    {
     "data": {
      "text/plain": [
       "B    187979\n",
       "A    133361\n",
       "C     43848\n",
       "D      5685\n",
       "E      2886\n",
       "F      1597\n",
       "G       745\n",
       "Name: FIRE_SIZE_CLASS, dtype: int64"
      ]
     },
     "execution_count": 7,
     "metadata": {},
     "output_type": "execute_result"
    }
   ],
   "source": [
    "df[\"FIRE_SIZE_CLASS\"].value_counts().head(20)"
   ]
  },
  {
   "cell_type": "code",
   "execution_count": 8,
   "metadata": {},
   "outputs": [],
   "source": [
    "df1['CONT_DATE'] = df1.groupby(['DISCOVERY_DATE', 'FIRE_SIZE_CLASS', 'STAT_CAUSE_DESCR'])['CONT_DATE'].apply(lambda x: x.fillna(method='ffill'))"
   ]
  },
  {
   "cell_type": "code",
   "execution_count": 9,
   "metadata": {},
   "outputs": [],
   "source": [
    "df1['CONT_DATE'] = df1.groupby(['DISCOVERY_DATE', 'FIRE_SIZE_CLASS'])['CONT_DATE'].apply(lambda x: x.fillna(method='ffill'))"
   ]
  },
  {
   "cell_type": "code",
   "execution_count": 10,
   "metadata": {},
   "outputs": [
    {
     "data": {
      "text/plain": [
       "False    340989\n",
       "True      35112\n",
       "Name: CONT_DATE, dtype: int64"
      ]
     },
     "execution_count": 10,
     "metadata": {},
     "output_type": "execute_result"
    }
   ],
   "source": [
    "df1['CONT_DATE'].isna().value_counts()"
   ]
  },
  {
   "cell_type": "code",
   "execution_count": 11,
   "metadata": {},
   "outputs": [],
   "source": [
    "df1['CONT_DATE'] = df1.groupby(['DISCOVERY_DATE', 'STAT_CAUSE_DESCR'])['CONT_DATE'].apply(lambda x: x.fillna(method='ffill'))"
   ]
  },
  {
   "cell_type": "code",
   "execution_count": 12,
   "metadata": {},
   "outputs": [
    {
     "data": {
      "text/plain": [
       "False    356935\n",
       "True      19166\n",
       "Name: CONT_DATE, dtype: int64"
      ]
     },
     "execution_count": 12,
     "metadata": {},
     "output_type": "execute_result"
    }
   ],
   "source": [
    "df1['CONT_DATE'].isna().value_counts()"
   ]
  },
  {
   "cell_type": "code",
   "execution_count": 13,
   "metadata": {},
   "outputs": [],
   "source": [
    "df1['CONT_DATE'] = df1.groupby(['DISCOVERY_DATE'])['CONT_DATE'].apply(lambda x: x.fillna(method='ffill'))"
   ]
  },
  {
   "cell_type": "code",
   "execution_count": 14,
   "metadata": {},
   "outputs": [
    {
     "data": {
      "text/plain": [
       "False    363491\n",
       "True      12610\n",
       "Name: CONT_DATE, dtype: int64"
      ]
     },
     "execution_count": 14,
     "metadata": {},
     "output_type": "execute_result"
    }
   ],
   "source": [
    "df1['CONT_DATE'].isna().value_counts()"
   ]
  },
  {
   "cell_type": "code",
   "execution_count": 15,
   "metadata": {},
   "outputs": [],
   "source": [
    "CONT_DATE = df1.loc[:, 'CONT_DATE']\n",
    "missing_cont_date = df1.loc[CONT_DATE.isnull() == True, :]"
   ]
  },
  {
   "cell_type": "code",
   "execution_count": 16,
   "metadata": {},
   "outputs": [
    {
     "data": {
      "text/plain": [
       "(12610, 18)"
      ]
     },
     "execution_count": 16,
     "metadata": {},
     "output_type": "execute_result"
    }
   ],
   "source": [
    "missing_cont_date.shape"
   ]
  },
  {
   "cell_type": "code",
   "execution_count": 17,
   "metadata": {},
   "outputs": [],
   "source": [
    "for index, rows in missing_cont_date.iterrows():\n",
    "    cont_date = df1.at[index,'DISCOVERY_DATE']\n",
    "    df1.at[index,'CONT_DATE'] = cont_date"
   ]
  },
  {
   "cell_type": "code",
   "execution_count": 18,
   "metadata": {},
   "outputs": [
    {
     "data": {
      "text/plain": [
       "False    376101\n",
       "Name: CONT_DATE, dtype: int64"
      ]
     },
     "execution_count": 18,
     "metadata": {},
     "output_type": "execute_result"
    }
   ],
   "source": [
    "df1['CONT_DATE'].isna().value_counts()"
   ]
  },
  {
   "cell_type": "markdown",
   "metadata": {},
   "source": [
    "### Filling missing values for CONT_TIME"
   ]
  },
  {
   "cell_type": "code",
   "execution_count": 19,
   "metadata": {},
   "outputs": [],
   "source": [
    "df1['CONT_TIME'] = df1.groupby(['DISCOVERY_DATE', 'CONT_DATE'])['CONT_TIME'].apply(lambda x: x.fillna(method='ffill'))"
   ]
  },
  {
   "cell_type": "code",
   "execution_count": 20,
   "metadata": {},
   "outputs": [
    {
     "data": {
      "text/plain": [
       "False    360997\n",
       "True      15104\n",
       "Name: CONT_TIME, dtype: int64"
      ]
     },
     "execution_count": 20,
     "metadata": {},
     "output_type": "execute_result"
    }
   ],
   "source": [
    "df1['CONT_TIME'].isna().value_counts()"
   ]
  },
  {
   "cell_type": "code",
   "execution_count": 21,
   "metadata": {},
   "outputs": [],
   "source": [
    "df1['CONT_TIME'] = df1.groupby(['CONT_DATE', 'STAT_CAUSE_DESCR','FIRE_SIZE_CLASS' ])['CONT_TIME'].apply(lambda x: x.fillna(method='ffill'))"
   ]
  },
  {
   "cell_type": "code",
   "execution_count": 22,
   "metadata": {},
   "outputs": [
    {
     "data": {
      "text/plain": [
       "False    362293\n",
       "True      13808\n",
       "Name: CONT_TIME, dtype: int64"
      ]
     },
     "execution_count": 22,
     "metadata": {},
     "output_type": "execute_result"
    }
   ],
   "source": [
    "df1['CONT_TIME'].isna().value_counts()"
   ]
  },
  {
   "cell_type": "code",
   "execution_count": 23,
   "metadata": {},
   "outputs": [],
   "source": [
    "df1['CONT_TIME'] = df1.groupby(['CONT_DATE'])['CONT_TIME'].apply(lambda x: x.fillna(method='ffill'))"
   ]
  },
  {
   "cell_type": "code",
   "execution_count": 24,
   "metadata": {},
   "outputs": [
    {
     "data": {
      "text/plain": [
       "False    364708\n",
       "True      11393\n",
       "Name: CONT_TIME, dtype: int64"
      ]
     },
     "execution_count": 24,
     "metadata": {},
     "output_type": "execute_result"
    }
   ],
   "source": [
    "df1['CONT_TIME'].isna().value_counts()"
   ]
  },
  {
   "cell_type": "code",
   "execution_count": 25,
   "metadata": {},
   "outputs": [],
   "source": [
    "df1['CONT_TIME'] = df1.groupby(['DISCOVERY_DATE'])['CONT_TIME'].apply(lambda x: x.fillna(method='ffill'))"
   ]
  },
  {
   "cell_type": "code",
   "execution_count": 26,
   "metadata": {},
   "outputs": [
    {
     "data": {
      "text/plain": [
       "False    364880\n",
       "True      11221\n",
       "Name: CONT_TIME, dtype: int64"
      ]
     },
     "execution_count": 26,
     "metadata": {},
     "output_type": "execute_result"
    }
   ],
   "source": [
    "df1['CONT_TIME'].isna().value_counts()"
   ]
  },
  {
   "cell_type": "code",
   "execution_count": 27,
   "metadata": {},
   "outputs": [],
   "source": [
    "df1['CONT_TIME'] = df1.groupby(['FIRE_SIZE_CLASS'])['CONT_TIME'].apply(lambda x: x.fillna(method='ffill'))"
   ]
  },
  {
   "cell_type": "code",
   "execution_count": 28,
   "metadata": {},
   "outputs": [
    {
     "data": {
      "text/plain": [
       "False    376101\n",
       "Name: CONT_TIME, dtype: int64"
      ]
     },
     "execution_count": 28,
     "metadata": {},
     "output_type": "execute_result"
    }
   ],
   "source": [
    "df1['CONT_TIME'].isna().value_counts()"
   ]
  },
  {
   "cell_type": "code",
   "execution_count": 31,
   "metadata": {},
   "outputs": [
    {
     "data": {
      "text/plain": [
       "(376101, 18)"
      ]
     },
     "execution_count": 31,
     "metadata": {},
     "output_type": "execute_result"
    }
   ],
   "source": [
    "df1.shape"
   ]
  },
  {
   "cell_type": "code",
   "execution_count": 32,
   "metadata": {},
   "outputs": [
    {
     "data": {
      "text/html": [
       "<div>\n",
       "<style scoped>\n",
       "    .dataframe tbody tr th:only-of-type {\n",
       "        vertical-align: middle;\n",
       "    }\n",
       "\n",
       "    .dataframe tbody tr th {\n",
       "        vertical-align: top;\n",
       "    }\n",
       "\n",
       "    .dataframe thead th {\n",
       "        text-align: right;\n",
       "    }\n",
       "</style>\n",
       "<table border=\"1\" class=\"dataframe\">\n",
       "  <thead>\n",
       "    <tr style=\"text-align: right;\">\n",
       "      <th></th>\n",
       "      <th>FOD_ID</th>\n",
       "      <th>NWCG_REPORTING_AGENCY</th>\n",
       "      <th>SOURCE_REPORTING_UNIT_NAME</th>\n",
       "      <th>FIRE_NAME</th>\n",
       "      <th>FIRE_YEAR</th>\n",
       "      <th>DISCOVERY_DATE</th>\n",
       "      <th>DISCOVERY_TIME</th>\n",
       "      <th>STAT_CAUSE_CODE</th>\n",
       "      <th>STAT_CAUSE_DESCR</th>\n",
       "      <th>CONT_DATE</th>\n",
       "      <th>CONT_TIME</th>\n",
       "      <th>FIRE_SIZE</th>\n",
       "      <th>FIRE_SIZE_CLASS</th>\n",
       "      <th>LATITUDE</th>\n",
       "      <th>LONGITUDE</th>\n",
       "      <th>OWNER_DESCR</th>\n",
       "      <th>STATE</th>\n",
       "      <th>COUNTY</th>\n",
       "    </tr>\n",
       "  </thead>\n",
       "  <tbody>\n",
       "    <tr>\n",
       "      <th>0</th>\n",
       "      <td>46487</td>\n",
       "      <td>FS</td>\n",
       "      <td>Salmon-Challis National Forest</td>\n",
       "      <td>NaN</td>\n",
       "      <td>1992</td>\n",
       "      <td>1992-06-20</td>\n",
       "      <td>1035.0</td>\n",
       "      <td>1.0</td>\n",
       "      <td>Lightning</td>\n",
       "      <td>1992-06-20</td>\n",
       "      <td>1336.0</td>\n",
       "      <td>0.1</td>\n",
       "      <td>A</td>\n",
       "      <td>45.308333</td>\n",
       "      <td>-114.475000</td>\n",
       "      <td>USFS</td>\n",
       "      <td>ID</td>\n",
       "      <td>NaN</td>\n",
       "    </tr>\n",
       "    <tr>\n",
       "      <th>1</th>\n",
       "      <td>242377</td>\n",
       "      <td>BLM</td>\n",
       "      <td>Rock Springs Field Office</td>\n",
       "      <td>MARYSFIRST</td>\n",
       "      <td>1992</td>\n",
       "      <td>1992-08-21</td>\n",
       "      <td>1428.0</td>\n",
       "      <td>1.0</td>\n",
       "      <td>Lightning</td>\n",
       "      <td>1992-08-22</td>\n",
       "      <td>1800.0</td>\n",
       "      <td>0.1</td>\n",
       "      <td>A</td>\n",
       "      <td>41.416600</td>\n",
       "      <td>-109.234000</td>\n",
       "      <td>BLM</td>\n",
       "      <td>WY</td>\n",
       "      <td>NaN</td>\n",
       "    </tr>\n",
       "    <tr>\n",
       "      <th>2</th>\n",
       "      <td>49259</td>\n",
       "      <td>FS</td>\n",
       "      <td>Shasta-Trinity National Forest</td>\n",
       "      <td>NaN</td>\n",
       "      <td>1992</td>\n",
       "      <td>1992-06-24</td>\n",
       "      <td>1135.0</td>\n",
       "      <td>1.0</td>\n",
       "      <td>Lightning</td>\n",
       "      <td>1992-06-24</td>\n",
       "      <td>1800.0</td>\n",
       "      <td>0.1</td>\n",
       "      <td>A</td>\n",
       "      <td>40.730000</td>\n",
       "      <td>-122.475000</td>\n",
       "      <td>USFS</td>\n",
       "      <td>CA</td>\n",
       "      <td>NaN</td>\n",
       "    </tr>\n",
       "    <tr>\n",
       "      <th>3</th>\n",
       "      <td>50588</td>\n",
       "      <td>FS</td>\n",
       "      <td>Malheur National Forest</td>\n",
       "      <td>NaN</td>\n",
       "      <td>1992</td>\n",
       "      <td>1992-08-01</td>\n",
       "      <td>1538.0</td>\n",
       "      <td>1.0</td>\n",
       "      <td>Lightning</td>\n",
       "      <td>1992-08-01</td>\n",
       "      <td>2200.0</td>\n",
       "      <td>0.1</td>\n",
       "      <td>A</td>\n",
       "      <td>44.296667</td>\n",
       "      <td>-118.738333</td>\n",
       "      <td>USFS</td>\n",
       "      <td>OR</td>\n",
       "      <td>NaN</td>\n",
       "    </tr>\n",
       "    <tr>\n",
       "      <th>4</th>\n",
       "      <td>222205</td>\n",
       "      <td>BLM</td>\n",
       "      <td>Susanville District</td>\n",
       "      <td>HORSE</td>\n",
       "      <td>1992</td>\n",
       "      <td>1992-06-28</td>\n",
       "      <td>1100.0</td>\n",
       "      <td>1.0</td>\n",
       "      <td>Lightning</td>\n",
       "      <td>1992-06-28</td>\n",
       "      <td>1324.0</td>\n",
       "      <td>0.1</td>\n",
       "      <td>A</td>\n",
       "      <td>40.666600</td>\n",
       "      <td>-120.484400</td>\n",
       "      <td>BLM</td>\n",
       "      <td>CA</td>\n",
       "      <td>NaN</td>\n",
       "    </tr>\n",
       "  </tbody>\n",
       "</table>\n",
       "</div>"
      ],
      "text/plain": [
       "   FOD_ID NWCG_REPORTING_AGENCY      SOURCE_REPORTING_UNIT_NAME   FIRE_NAME  \\\n",
       "0   46487                    FS  Salmon-Challis National Forest         NaN   \n",
       "1  242377                   BLM       Rock Springs Field Office  MARYSFIRST   \n",
       "2   49259                    FS  Shasta-Trinity National Forest         NaN   \n",
       "3   50588                    FS         Malheur National Forest         NaN   \n",
       "4  222205                   BLM             Susanville District       HORSE   \n",
       "\n",
       "   FIRE_YEAR DISCOVERY_DATE  DISCOVERY_TIME  STAT_CAUSE_CODE STAT_CAUSE_DESCR  \\\n",
       "0       1992     1992-06-20          1035.0              1.0        Lightning   \n",
       "1       1992     1992-08-21          1428.0              1.0        Lightning   \n",
       "2       1992     1992-06-24          1135.0              1.0        Lightning   \n",
       "3       1992     1992-08-01          1538.0              1.0        Lightning   \n",
       "4       1992     1992-06-28          1100.0              1.0        Lightning   \n",
       "\n",
       "    CONT_DATE  CONT_TIME  FIRE_SIZE FIRE_SIZE_CLASS   LATITUDE   LONGITUDE  \\\n",
       "0  1992-06-20     1336.0        0.1               A  45.308333 -114.475000   \n",
       "1  1992-08-22     1800.0        0.1               A  41.416600 -109.234000   \n",
       "2  1992-06-24     1800.0        0.1               A  40.730000 -122.475000   \n",
       "3  1992-08-01     2200.0        0.1               A  44.296667 -118.738333   \n",
       "4  1992-06-28     1324.0        0.1               A  40.666600 -120.484400   \n",
       "\n",
       "  OWNER_DESCR STATE COUNTY  \n",
       "0        USFS    ID    NaN  \n",
       "1         BLM    WY    NaN  \n",
       "2        USFS    CA    NaN  \n",
       "3        USFS    OR    NaN  \n",
       "4         BLM    CA    NaN  "
      ]
     },
     "execution_count": 32,
     "metadata": {},
     "output_type": "execute_result"
    }
   ],
   "source": [
    "df1.head()"
   ]
  },
  {
   "cell_type": "code",
   "execution_count": 33,
   "metadata": {},
   "outputs": [],
   "source": [
    "df1.to_csv('dataset_filled_contdate_time.csv', index= False)"
   ]
  },
  {
   "cell_type": "code",
   "execution_count": null,
   "metadata": {},
   "outputs": [],
   "source": []
  }
 ],
 "metadata": {
  "kernelspec": {
   "display_name": "Python 3",
   "language": "python",
   "name": "python3"
  },
  "language_info": {
   "codemirror_mode": {
    "name": "ipython",
    "version": 3
   },
   "file_extension": ".py",
   "mimetype": "text/x-python",
   "name": "python",
   "nbconvert_exporter": "python",
   "pygments_lexer": "ipython3",
   "version": "3.8.3"
  }
 },
 "nbformat": 4,
 "nbformat_minor": 4
}
