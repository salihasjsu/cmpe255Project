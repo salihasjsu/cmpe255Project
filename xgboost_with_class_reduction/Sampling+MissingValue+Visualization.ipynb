{
 "cells": [
  {
   "cell_type": "code",
   "execution_count": 18,
   "metadata": {},
   "outputs": [
    {
     "name": "stdout",
     "output_type": "stream",
     "text": [
      "Connection Successful\n"
     ]
    },
    {
     "data": {
      "text/plain": [
       "(1880465, 39)"
      ]
     },
     "execution_count": 18,
     "metadata": {},
     "output_type": "execute_result"
    }
   ],
   "source": [
    "import sqlite3\n",
    "import numpy as np\n",
    "import pandas as pd\n",
    "import sqlite3\n",
    "\n",
    "conn = sqlite3.connect('../FPA_FOD_20170508.sqlite')\n",
    "print(\"Connection Successful\")\n",
    "df = pd.read_sql(\"SELECT * from Fires\",con=conn)\n",
    "df.shape"
   ]
  },
  {
   "cell_type": "code",
   "execution_count": 19,
   "metadata": {},
   "outputs": [],
   "source": [
    "df['DISCOVERY_DATE'] = pd.to_datetime(df['DISCOVERY_DATE'] - pd.Timestamp(0).to_julian_date(), unit='D')\n",
    "df['CONT_DATE'] = pd.to_datetime(df['CONT_DATE'] - pd.Timestamp(0).to_julian_date(), unit='D')\n",
    "# Changing the data format for the above columns"
   ]
  },
  {
   "cell_type": "code",
   "execution_count": 20,
   "metadata": {},
   "outputs": [
    {
     "data": {
      "text/plain": [
       "(593378, 39)"
      ]
     },
     "execution_count": 20,
     "metadata": {},
     "output_type": "execute_result"
    }
   ],
   "source": [
    "codes = [1.0, 6.0, 7.0]\n",
    "df = df.loc[df['STAT_CAUSE_CODE'].isin(codes)]\n",
    "df.shape"
   ]
  },
  {
   "cell_type": "code",
   "execution_count": 21,
   "metadata": {},
   "outputs": [],
   "source": [
    "drop_columns = ['OBJECTID','FPA_ID', 'SOURCE_SYSTEM_TYPE', 'SOURCE_SYSTEM',\n",
    "       'NWCG_REPORTING_UNIT_ID',\n",
    "       'NWCG_REPORTING_UNIT_NAME', 'SOURCE_REPORTING_UNIT',\n",
    "       'LOCAL_FIRE_REPORT_ID',\n",
    "       'LOCAL_INCIDENT_ID', 'FIRE_CODE', \n",
    "       'ICS_209_INCIDENT_NUMBER', 'ICS_209_NAME', 'MTBS_ID', 'MTBS_FIRE_NAME',\n",
    "       'COMPLEX_NAME', 'DISCOVERY_DOY',       \n",
    "       'CONT_DOY',  'OWNER_CODE',\n",
    "       'FIPS_CODE', 'FIPS_NAME', 'Shape']\n",
    "df.drop(drop_columns, axis=1, inplace=True)"
   ]
  },
  {
   "cell_type": "code",
   "execution_count": 22,
   "metadata": {},
   "outputs": [
    {
     "data": {
      "text/plain": [
       "Index(['FOD_ID', 'NWCG_REPORTING_AGENCY', 'SOURCE_REPORTING_UNIT_NAME',\n",
       "       'FIRE_NAME', 'FIRE_YEAR', 'DISCOVERY_DATE', 'DISCOVERY_TIME',\n",
       "       'STAT_CAUSE_CODE', 'STAT_CAUSE_DESCR', 'CONT_DATE', 'CONT_TIME',\n",
       "       'FIRE_SIZE', 'FIRE_SIZE_CLASS', 'LATITUDE', 'LONGITUDE', 'OWNER_DESCR',\n",
       "       'STATE', 'COUNTY'],\n",
       "      dtype='object')"
      ]
     },
     "execution_count": 22,
     "metadata": {},
     "output_type": "execute_result"
    }
   ],
   "source": [
    "df.columns"
   ]
  },
  {
   "cell_type": "code",
   "execution_count": 23,
   "metadata": {},
   "outputs": [
    {
     "data": {
      "text/plain": [
       "(593378, 18)"
      ]
     },
     "execution_count": 23,
     "metadata": {},
     "output_type": "execute_result"
    }
   ],
   "source": [
    "df.shape"
   ]
  },
  {
   "cell_type": "code",
   "execution_count": 24,
   "metadata": {},
   "outputs": [
    {
     "data": {
      "text/html": [
       "<div>\n",
       "<style scoped>\n",
       "    .dataframe tbody tr th:only-of-type {\n",
       "        vertical-align: middle;\n",
       "    }\n",
       "\n",
       "    .dataframe tbody tr th {\n",
       "        vertical-align: top;\n",
       "    }\n",
       "\n",
       "    .dataframe thead tr th {\n",
       "        text-align: left;\n",
       "    }\n",
       "\n",
       "    .dataframe thead tr:last-of-type th {\n",
       "        text-align: right;\n",
       "    }\n",
       "</style>\n",
       "<table border=\"1\" class=\"dataframe\">\n",
       "  <thead>\n",
       "    <tr>\n",
       "      <th></th>\n",
       "      <th></th>\n",
       "      <th colspan=\"8\" halign=\"left\">FOD_ID</th>\n",
       "      <th colspan=\"2\" halign=\"left\">FIRE_YEAR</th>\n",
       "      <th>...</th>\n",
       "      <th colspan=\"2\" halign=\"left\">LATITUDE</th>\n",
       "      <th colspan=\"8\" halign=\"left\">LONGITUDE</th>\n",
       "    </tr>\n",
       "    <tr>\n",
       "      <th></th>\n",
       "      <th></th>\n",
       "      <th>count</th>\n",
       "      <th>mean</th>\n",
       "      <th>std</th>\n",
       "      <th>min</th>\n",
       "      <th>25%</th>\n",
       "      <th>50%</th>\n",
       "      <th>75%</th>\n",
       "      <th>max</th>\n",
       "      <th>count</th>\n",
       "      <th>mean</th>\n",
       "      <th>...</th>\n",
       "      <th>75%</th>\n",
       "      <th>max</th>\n",
       "      <th>count</th>\n",
       "      <th>mean</th>\n",
       "      <th>std</th>\n",
       "      <th>min</th>\n",
       "      <th>25%</th>\n",
       "      <th>50%</th>\n",
       "      <th>75%</th>\n",
       "      <th>max</th>\n",
       "    </tr>\n",
       "    <tr>\n",
       "      <th>STAT_CAUSE_CODE</th>\n",
       "      <th>STAT_CAUSE_DESCR</th>\n",
       "      <th></th>\n",
       "      <th></th>\n",
       "      <th></th>\n",
       "      <th></th>\n",
       "      <th></th>\n",
       "      <th></th>\n",
       "      <th></th>\n",
       "      <th></th>\n",
       "      <th></th>\n",
       "      <th></th>\n",
       "      <th></th>\n",
       "      <th></th>\n",
       "      <th></th>\n",
       "      <th></th>\n",
       "      <th></th>\n",
       "      <th></th>\n",
       "      <th></th>\n",
       "      <th></th>\n",
       "      <th></th>\n",
       "      <th></th>\n",
       "      <th></th>\n",
       "    </tr>\n",
       "  </thead>\n",
       "  <tbody>\n",
       "    <tr>\n",
       "      <th>1.0</th>\n",
       "      <th>Lightning</th>\n",
       "      <td>278468.0</td>\n",
       "      <td>4.335486e+07</td>\n",
       "      <td>9.318308e+07</td>\n",
       "      <td>2.0</td>\n",
       "      <td>132668.5</td>\n",
       "      <td>338362.5</td>\n",
       "      <td>1430521.25</td>\n",
       "      <td>300348361.0</td>\n",
       "      <td>278468.0</td>\n",
       "      <td>2003.264210</td>\n",
       "      <td>...</td>\n",
       "      <td>44.033070</td>\n",
       "      <td>70.13810</td>\n",
       "      <td>278468.0</td>\n",
       "      <td>-108.226305</td>\n",
       "      <td>14.320107</td>\n",
       "      <td>-170.3694</td>\n",
       "      <td>-117.578143</td>\n",
       "      <td>-111.4700</td>\n",
       "      <td>-105.056100</td>\n",
       "      <td>-67.158333</td>\n",
       "    </tr>\n",
       "    <tr>\n",
       "      <th>6.0</th>\n",
       "      <th>Railroad</th>\n",
       "      <td>33455.0</td>\n",
       "      <td>2.129531e+07</td>\n",
       "      <td>6.517306e+07</td>\n",
       "      <td>101.0</td>\n",
       "      <td>967767.0</td>\n",
       "      <td>1097012.0</td>\n",
       "      <td>1167276.50</td>\n",
       "      <td>300348033.0</td>\n",
       "      <td>33455.0</td>\n",
       "      <td>2000.091735</td>\n",
       "      <td>...</td>\n",
       "      <td>37.450996</td>\n",
       "      <td>64.88333</td>\n",
       "      <td>33455.0</td>\n",
       "      <td>-87.653326</td>\n",
       "      <td>10.888933</td>\n",
       "      <td>-157.9758</td>\n",
       "      <td>-89.646652</td>\n",
       "      <td>-83.2102</td>\n",
       "      <td>-81.700000</td>\n",
       "      <td>-68.066664</td>\n",
       "    </tr>\n",
       "    <tr>\n",
       "      <th>7.0</th>\n",
       "      <th>Arson</th>\n",
       "      <td>281455.0</td>\n",
       "      <td>3.483937e+07</td>\n",
       "      <td>8.316121e+07</td>\n",
       "      <td>38.0</td>\n",
       "      <td>553941.5</td>\n",
       "      <td>988250.0</td>\n",
       "      <td>1750176.00</td>\n",
       "      <td>300348354.0</td>\n",
       "      <td>281455.0</td>\n",
       "      <td>2002.615285</td>\n",
       "      <td>...</td>\n",
       "      <td>38.156111</td>\n",
       "      <td>67.06630</td>\n",
       "      <td>281455.0</td>\n",
       "      <td>-90.262680</td>\n",
       "      <td>12.268509</td>\n",
       "      <td>-163.2664</td>\n",
       "      <td>-94.416413</td>\n",
       "      <td>-88.1336</td>\n",
       "      <td>-82.090324</td>\n",
       "      <td>-65.256944</td>\n",
       "    </tr>\n",
       "  </tbody>\n",
       "</table>\n",
       "<p>3 rows × 40 columns</p>\n",
       "</div>"
      ],
      "text/plain": [
       "                                    FOD_ID                                     \\\n",
       "                                     count          mean           std    min   \n",
       "STAT_CAUSE_CODE STAT_CAUSE_DESCR                                                \n",
       "1.0             Lightning         278468.0  4.335486e+07  9.318308e+07    2.0   \n",
       "6.0             Railroad           33455.0  2.129531e+07  6.517306e+07  101.0   \n",
       "7.0             Arson             281455.0  3.483937e+07  8.316121e+07   38.0   \n",
       "\n",
       "                                                                   \\\n",
       "                                       25%        50%         75%   \n",
       "STAT_CAUSE_CODE STAT_CAUSE_DESCR                                    \n",
       "1.0             Lightning         132668.5   338362.5  1430521.25   \n",
       "6.0             Railroad          967767.0  1097012.0  1167276.50   \n",
       "7.0             Arson             553941.5   988250.0  1750176.00   \n",
       "\n",
       "                                              FIRE_YEAR               ...  \\\n",
       "                                          max     count         mean  ...   \n",
       "STAT_CAUSE_CODE STAT_CAUSE_DESCR                                      ...   \n",
       "1.0             Lightning         300348361.0  278468.0  2003.264210  ...   \n",
       "6.0             Railroad          300348033.0   33455.0  2000.091735  ...   \n",
       "7.0             Arson             300348354.0  281455.0  2002.615285  ...   \n",
       "\n",
       "                                   LATITUDE           LONGITUDE              \\\n",
       "                                        75%       max     count        mean   \n",
       "STAT_CAUSE_CODE STAT_CAUSE_DESCR                                              \n",
       "1.0             Lightning         44.033070  70.13810  278468.0 -108.226305   \n",
       "6.0             Railroad          37.450996  64.88333   33455.0  -87.653326   \n",
       "7.0             Arson             38.156111  67.06630  281455.0  -90.262680   \n",
       "\n",
       "                                                                             \\\n",
       "                                        std       min         25%       50%   \n",
       "STAT_CAUSE_CODE STAT_CAUSE_DESCR                                              \n",
       "1.0             Lightning         14.320107 -170.3694 -117.578143 -111.4700   \n",
       "6.0             Railroad          10.888933 -157.9758  -89.646652  -83.2102   \n",
       "7.0             Arson             12.268509 -163.2664  -94.416413  -88.1336   \n",
       "\n",
       "                                                         \n",
       "                                         75%        max  \n",
       "STAT_CAUSE_CODE STAT_CAUSE_DESCR                         \n",
       "1.0             Lightning        -105.056100 -67.158333  \n",
       "6.0             Railroad          -81.700000 -68.066664  \n",
       "7.0             Arson             -82.090324 -65.256944  \n",
       "\n",
       "[3 rows x 40 columns]"
      ]
     },
     "execution_count": 24,
     "metadata": {},
     "output_type": "execute_result"
    }
   ],
   "source": [
    "df_by_code_cause = df.groupby(['STAT_CAUSE_CODE', 'STAT_CAUSE_DESCR'])\n",
    "df_by_code_cause.describe()"
   ]
  },
  {
   "cell_type": "code",
   "execution_count": 25,
   "metadata": {},
   "outputs": [],
   "source": [
    "df.to_csv('sampled_dataset_reduced.csv', index= False)"
   ]
  },
  {
   "cell_type": "code",
   "execution_count": 26,
   "metadata": {},
   "outputs": [],
   "source": [
    "conn.close()"
   ]
  }
 ],
 "metadata": {
  "kernelspec": {
   "display_name": "Python 3",
   "language": "python",
   "name": "python3"
  },
  "language_info": {
   "codemirror_mode": {
    "name": "ipython",
    "version": 3
   },
   "file_extension": ".py",
   "mimetype": "text/x-python",
   "name": "python",
   "nbconvert_exporter": "python",
   "pygments_lexer": "ipython3",
   "version": "3.8.3"
  }
 },
 "nbformat": 4,
 "nbformat_minor": 4
}
