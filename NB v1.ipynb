{
 "cells": [
  {
   "cell_type": "code",
   "execution_count": 9,
   "metadata": {},
   "outputs": [
    {
     "name": "stdout",
     "output_type": "stream",
     "text": [
      "Accuracy : 0.32 (+/- 0.08)\n"
     ]
    }
   ],
   "source": [
    "from sklearn.model_selection import cross_val_score\n",
    "clf = GaussianNB()\n",
    "scores = cross_val_score(clf, X, y, cv=10)\n",
    "print(\"Accuracy : {:0.2f} (+/- {:0.2f})\".format(scores.mean(), scores.std()))"
   ]
  },
  {
   "cell_type": "code",
   "execution_count": 91,
   "metadata": {},
   "outputs": [
    {
     "name": "stdout",
     "output_type": "stream",
     "text": [
      "Training: (300880, 17)\n",
      "Test: (75221, 17)\n"
     ]
    }
   ],
   "source": [
    "import pandas as pd\n",
    "import numpy as np\n",
    "import category_encoders as ce\n",
    "training_df = pd.read_csv('training_dataset.csv')\n",
    "test_df = pd.read_csv('test_dataset.csv')\n",
    "print(\"Training:\" , training_df.shape)\n",
    "print(\"Test:\", test_df.shape)"
   ]
  },
  {
   "cell_type": "code",
   "execution_count": 92,
   "metadata": {},
   "outputs": [],
   "source": [
    "from sklearn.preprocessing import LabelEncoder\n",
    "lb_make = LabelEncoder()\n",
    "training_df[\"FIRE_SIZE_CLASS\"] = lb_make.fit_transform(training_df[\"FIRE_SIZE_CLASS\"]) # because it is ordinal\n",
    "#training_df[\"STAT_CAUSE_DESCR\"] = lb_make.fit_transform(df[\"STAT_CAUSE_DESCR\"]) # because it is ordinal\n",
    "training_df['DISCOVERY_DATE'] = pd.to_datetime(training_df['DISCOVERY_DATE'])\n",
    "training_df['CONT_DATE'] = pd.to_datetime(training_df['CONT_DATE'])\n",
    "training_df['DISCOVERY_DATE']=training_df.DISCOVERY_DATE.apply(lambda x: x.strftime('%Y%m%d')).astype(int)\n",
    "training_df['CONT_DATE'] = training_df.CONT_DATE.apply(lambda x: x.strftime('%Y%m%d')).astype(int)"
   ]
  },
  {
   "cell_type": "code",
   "execution_count": 93,
   "metadata": {},
   "outputs": [],
   "source": [
    "test_df[\"FIRE_SIZE_CLASS\"] = lb_make.fit_transform(test_df[\"FIRE_SIZE_CLASS\"]) # because it is ordinal\n",
    "#training_df[\"STAT_CAUSE_DESCR\"] = lb_make.fit_transform(df[\"STAT_CAUSE_DESCR\"]) # because it is ordinal\n",
    "test_df['DISCOVERY_DATE'] = pd.to_datetime(test_df['DISCOVERY_DATE'])\n",
    "test_df['CONT_DATE'] = pd.to_datetime(test_df['CONT_DATE'])\n",
    "test_df['DISCOVERY_DATE']=test_df.DISCOVERY_DATE.apply(lambda x: x.strftime('%Y%m%d')).astype(int)\n",
    "test_df['CONT_DATE'] = test_df.CONT_DATE.apply(lambda x: x.strftime('%Y%m%d')).astype(int)"
   ]
  },
  {
   "cell_type": "code",
   "execution_count": 94,
   "metadata": {},
   "outputs": [],
   "source": [
    "X_train = training_df.drop(columns=['STAT_CAUSE_CODE','STAT_CAUSE_DESCR','OWNER_DESCR','FOD_ID','DISCOVERY_TIME',\n",
    "                    'CONT_TIME','FIRE_SIZE_CLASS'])\n",
    "#y = df['STAT_CAUSE_DESCR']\n",
    "y_train = training_df['STAT_CAUSE_CODE']"
   ]
  },
  {
   "cell_type": "code",
   "execution_count": 95,
   "metadata": {},
   "outputs": [],
   "source": [
    "X_test = test_df.drop(columns=['STAT_CAUSE_CODE','STAT_CAUSE_DESCR','OWNER_DESCR','FOD_ID','DISCOVERY_TIME',\n",
    "                    'CONT_TIME','FIRE_SIZE_CLASS'])\n",
    "#y = df['STAT_CAUSE_DESCR']\n",
    "y_test = test_df['STAT_CAUSE_CODE']"
   ]
  },
  {
   "cell_type": "code",
   "execution_count": 96,
   "metadata": {},
   "outputs": [],
   "source": [
    "features= ['NWCG_REPORTING_AGENCY','SOURCE_REPORTING_UNIT_NAME','STATE','COUNTY']\n",
    "#features= ['STATE','COUNTY']\n",
    "encoder_stat_county = ce.TargetEncoder(cols = features,drop_invariant=True, return_df=True)\n",
    "X_train = encoder_stat_county.fit_transform(X_train,y_train)\n",
    "X_test = encoder_stat_county.fit_transform(X_test,y_test)"
   ]
  },
  {
   "cell_type": "code",
   "execution_count": 98,
   "metadata": {},
   "outputs": [
    {
     "data": {
      "text/html": [
       "<div>\n",
       "<style scoped>\n",
       "    .dataframe tbody tr th:only-of-type {\n",
       "        vertical-align: middle;\n",
       "    }\n",
       "\n",
       "    .dataframe tbody tr th {\n",
       "        vertical-align: top;\n",
       "    }\n",
       "\n",
       "    .dataframe thead th {\n",
       "        text-align: right;\n",
       "    }\n",
       "</style>\n",
       "<table border=\"1\" class=\"dataframe\">\n",
       "  <thead>\n",
       "    <tr style=\"text-align: right;\">\n",
       "      <th></th>\n",
       "      <th>NWCG_REPORTING_AGENCY</th>\n",
       "      <th>SOURCE_REPORTING_UNIT_NAME</th>\n",
       "      <th>FIRE_YEAR</th>\n",
       "      <th>DISCOVERY_DATE</th>\n",
       "      <th>FIRE_SIZE</th>\n",
       "      <th>LATITUDE</th>\n",
       "      <th>LONGITUDE</th>\n",
       "      <th>STATE</th>\n",
       "      <th>CONT_DATE</th>\n",
       "      <th>COUNTY</th>\n",
       "    </tr>\n",
       "  </thead>\n",
       "  <tbody>\n",
       "    <tr>\n",
       "      <th>0</th>\n",
       "      <td>0.362761</td>\n",
       "      <td>-0.295667</td>\n",
       "      <td>-0.256530</td>\n",
       "      <td>-0.258119</td>\n",
       "      <td>-0.023809</td>\n",
       "      <td>-0.967023</td>\n",
       "      <td>0.777899</td>\n",
       "      <td>-0.488939</td>\n",
       "      <td>-0.258220</td>\n",
       "      <td>-1.030674</td>\n",
       "    </tr>\n",
       "    <tr>\n",
       "      <th>1</th>\n",
       "      <td>0.362761</td>\n",
       "      <td>0.020189</td>\n",
       "      <td>-0.556654</td>\n",
       "      <td>-0.562650</td>\n",
       "      <td>-0.029468</td>\n",
       "      <td>-0.996370</td>\n",
       "      <td>0.480318</td>\n",
       "      <td>0.068451</td>\n",
       "      <td>-0.562738</td>\n",
       "      <td>0.084155</td>\n",
       "    </tr>\n",
       "    <tr>\n",
       "      <th>2</th>\n",
       "      <td>0.362761</td>\n",
       "      <td>0.055695</td>\n",
       "      <td>-0.556654</td>\n",
       "      <td>-0.559483</td>\n",
       "      <td>-0.029106</td>\n",
       "      <td>-0.267877</td>\n",
       "      <td>1.032450</td>\n",
       "      <td>0.545573</td>\n",
       "      <td>-0.559571</td>\n",
       "      <td>-0.015160</td>\n",
       "    </tr>\n",
       "    <tr>\n",
       "      <th>3</th>\n",
       "      <td>0.362761</td>\n",
       "      <td>0.078908</td>\n",
       "      <td>0.943964</td>\n",
       "      <td>0.940901</td>\n",
       "      <td>-0.029428</td>\n",
       "      <td>1.506454</td>\n",
       "      <td>0.371275</td>\n",
       "      <td>-0.159719</td>\n",
       "      <td>0.940748</td>\n",
       "      <td>0.387394</td>\n",
       "    </tr>\n",
       "    <tr>\n",
       "      <th>4</th>\n",
       "      <td>0.362761</td>\n",
       "      <td>0.012827</td>\n",
       "      <td>-0.406592</td>\n",
       "      <td>-0.397276</td>\n",
       "      <td>-0.029187</td>\n",
       "      <td>-0.661421</td>\n",
       "      <td>0.929529</td>\n",
       "      <td>1.233818</td>\n",
       "      <td>-0.397371</td>\n",
       "      <td>1.249358</td>\n",
       "    </tr>\n",
       "    <tr>\n",
       "      <th>...</th>\n",
       "      <td>...</td>\n",
       "      <td>...</td>\n",
       "      <td>...</td>\n",
       "      <td>...</td>\n",
       "      <td>...</td>\n",
       "      <td>...</td>\n",
       "      <td>...</td>\n",
       "      <td>...</td>\n",
       "      <td>...</td>\n",
       "      <td>...</td>\n",
       "    </tr>\n",
       "    <tr>\n",
       "      <th>300875</th>\n",
       "      <td>-1.950098</td>\n",
       "      <td>-1.217919</td>\n",
       "      <td>0.343717</td>\n",
       "      <td>0.348452</td>\n",
       "      <td>-0.029468</td>\n",
       "      <td>1.843075</td>\n",
       "      <td>-1.544974</td>\n",
       "      <td>-0.566865</td>\n",
       "      <td>0.348325</td>\n",
       "      <td>-0.315747</td>\n",
       "    </tr>\n",
       "    <tr>\n",
       "      <th>300876</th>\n",
       "      <td>0.362761</td>\n",
       "      <td>-0.337110</td>\n",
       "      <td>1.094026</td>\n",
       "      <td>1.094119</td>\n",
       "      <td>-0.029106</td>\n",
       "      <td>-1.142442</td>\n",
       "      <td>-0.093586</td>\n",
       "      <td>-0.029654</td>\n",
       "      <td>1.093960</td>\n",
       "      <td>0.133768</td>\n",
       "    </tr>\n",
       "    <tr>\n",
       "      <th>300877</th>\n",
       "      <td>-1.950098</td>\n",
       "      <td>0.215510</td>\n",
       "      <td>-1.006839</td>\n",
       "      <td>-1.009954</td>\n",
       "      <td>-0.026699</td>\n",
       "      <td>-0.624038</td>\n",
       "      <td>0.950646</td>\n",
       "      <td>1.233818</td>\n",
       "      <td>-1.010008</td>\n",
       "      <td>1.279905</td>\n",
       "    </tr>\n",
       "    <tr>\n",
       "      <th>300878</th>\n",
       "      <td>0.105661</td>\n",
       "      <td>0.686226</td>\n",
       "      <td>0.943964</td>\n",
       "      <td>0.939760</td>\n",
       "      <td>-0.029307</td>\n",
       "      <td>1.807459</td>\n",
       "      <td>0.042330</td>\n",
       "      <td>0.048601</td>\n",
       "      <td>0.939608</td>\n",
       "      <td>0.739228</td>\n",
       "    </tr>\n",
       "    <tr>\n",
       "      <th>300879</th>\n",
       "      <td>0.362761</td>\n",
       "      <td>0.710081</td>\n",
       "      <td>0.793903</td>\n",
       "      <td>0.789724</td>\n",
       "      <td>-0.029468</td>\n",
       "      <td>0.953154</td>\n",
       "      <td>1.328449</td>\n",
       "      <td>0.946623</td>\n",
       "      <td>0.789577</td>\n",
       "      <td>0.868647</td>\n",
       "    </tr>\n",
       "  </tbody>\n",
       "</table>\n",
       "<p>300880 rows × 10 columns</p>\n",
       "</div>"
      ],
      "text/plain": [
       "        NWCG_REPORTING_AGENCY  SOURCE_REPORTING_UNIT_NAME  FIRE_YEAR  \\\n",
       "0                    0.362761                   -0.295667  -0.256530   \n",
       "1                    0.362761                    0.020189  -0.556654   \n",
       "2                    0.362761                    0.055695  -0.556654   \n",
       "3                    0.362761                    0.078908   0.943964   \n",
       "4                    0.362761                    0.012827  -0.406592   \n",
       "...                       ...                         ...        ...   \n",
       "300875              -1.950098                   -1.217919   0.343717   \n",
       "300876               0.362761                   -0.337110   1.094026   \n",
       "300877              -1.950098                    0.215510  -1.006839   \n",
       "300878               0.105661                    0.686226   0.943964   \n",
       "300879               0.362761                    0.710081   0.793903   \n",
       "\n",
       "        DISCOVERY_DATE  FIRE_SIZE  LATITUDE  LONGITUDE     STATE  CONT_DATE  \\\n",
       "0            -0.258119  -0.023809 -0.967023   0.777899 -0.488939  -0.258220   \n",
       "1            -0.562650  -0.029468 -0.996370   0.480318  0.068451  -0.562738   \n",
       "2            -0.559483  -0.029106 -0.267877   1.032450  0.545573  -0.559571   \n",
       "3             0.940901  -0.029428  1.506454   0.371275 -0.159719   0.940748   \n",
       "4            -0.397276  -0.029187 -0.661421   0.929529  1.233818  -0.397371   \n",
       "...                ...        ...       ...        ...       ...        ...   \n",
       "300875        0.348452  -0.029468  1.843075  -1.544974 -0.566865   0.348325   \n",
       "300876        1.094119  -0.029106 -1.142442  -0.093586 -0.029654   1.093960   \n",
       "300877       -1.009954  -0.026699 -0.624038   0.950646  1.233818  -1.010008   \n",
       "300878        0.939760  -0.029307  1.807459   0.042330  0.048601   0.939608   \n",
       "300879        0.789724  -0.029468  0.953154   1.328449  0.946623   0.789577   \n",
       "\n",
       "          COUNTY  \n",
       "0      -1.030674  \n",
       "1       0.084155  \n",
       "2      -0.015160  \n",
       "3       0.387394  \n",
       "4       1.249358  \n",
       "...          ...  \n",
       "300875 -0.315747  \n",
       "300876  0.133768  \n",
       "300877  1.279905  \n",
       "300878  0.739228  \n",
       "300879  0.868647  \n",
       "\n",
       "[300880 rows x 10 columns]"
      ]
     },
     "execution_count": 98,
     "metadata": {},
     "output_type": "execute_result"
    }
   ],
   "source": [
    "from sklearn.preprocessing import StandardScaler\n",
    "scaler = StandardScaler()\n",
    "X_train_scaled = scaler.fit_transform(X_train)\n",
    "X_train = pd.DataFrame(X_train_scaled,columns=X_train.columns.tolist())\n",
    "X_train"
   ]
  },
  {
   "cell_type": "code",
   "execution_count": 99,
   "metadata": {},
   "outputs": [],
   "source": [
    "X_test_scaled = scaler.fit_transform(X_test)\n",
    "X_test = pd.DataFrame(X_test_scaled,columns=X_test.columns.tolist())"
   ]
  },
  {
   "cell_type": "code",
   "execution_count": 100,
   "metadata": {},
   "outputs": [
    {
     "data": {
      "text/plain": [
       "LogisticRegression(multi_class='ovr', solver='liblinear')"
      ]
     },
     "execution_count": 100,
     "metadata": {},
     "output_type": "execute_result"
    }
   ],
   "source": [
    "from sklearn.preprocessing import StandardScaler\n",
    "from sklearn import metrics\n",
    "from sklearn.model_selection import train_test_split\n",
    "from sklearn.linear_model import LogisticRegression\n",
    "import pandas as pd\n",
    "import numpy as np\n",
    "model = LogisticRegression(solver = 'liblinear', multi_class='ovr')\n",
    "model.fit(X_train, y_train)"
   ]
  },
  {
   "cell_type": "code",
   "execution_count": 101,
   "metadata": {},
   "outputs": [
    {
     "name": "stdout",
     "output_type": "stream",
     "text": [
      "Misclassified samples: 43798\n",
      "Accuracy: 1.00\n"
     ]
    }
   ],
   "source": [
    "# use the model to make predictions with the test data\n",
    "y_pred = model.predict(X_test)\n",
    "# how did our model perform?\n",
    "count_misclassified = (y_test != y_pred).sum()\n",
    "print('Misclassified samples: {}'.format(count_misclassified))\n",
    "accuracy = model.score(X_test, y_pred)\n",
    "print('Accuracy: {:.2f}'.format(accuracy))"
   ]
  },
  {
   "cell_type": "code",
   "execution_count": 102,
   "metadata": {},
   "outputs": [
    {
     "name": "stdout",
     "output_type": "stream",
     "text": [
      "0.36492468858430493\n"
     ]
    }
   ],
   "source": [
    "from sklearn.naive_bayes import GaussianNB \n",
    "gnb = GaussianNB().fit(X_train, y_train) \n",
    "gnb_predictions = gnb.predict(X_test) \n",
    "  \n",
    "# accuracy on X_test \n",
    "accuracy = gnb.score(X_test, y_test) \n",
    "print(accuracy) "
   ]
  },
  {
   "cell_type": "code",
   "execution_count": 104,
   "metadata": {},
   "outputs": [],
   "source": [
    "from sklearn.metrics import confusion_matrix \n",
    "cm = confusion_matrix(y_test, gnb_predictions) "
   ]
  },
  {
   "cell_type": "code",
   "execution_count": 108,
   "metadata": {},
   "outputs": [
    {
     "data": {
      "text/plain": [
       "<function matplotlib.pyplot.show(*args, **kw)>"
      ]
     },
     "execution_count": 108,
     "metadata": {},
     "output_type": "execute_result"
    },
    {
     "data": {
      "image/png": "[encoded data removed]",
      "text/plain": [
       "<Figure size 720x504 with 2 Axes>"
      ]
     },
     "metadata": {},
     "output_type": "display_data"
    }
   ],
   "source": [
    "import seaborn as sn\n",
    "import pandas as pd\n",
    "import matplotlib.pyplot as plt\n",
    "sn.set(font_scale=1.4) # for label size\n",
    "plt.figure(figsize=(10,7))\n",
    "sn.heatmap(cm, annot=True, annot_kws={\"size\": 8}) # font size\n",
    "plt.show"
   ]
  },
  {
   "cell_type": "code",
   "execution_count": null,
   "metadata": {},
   "outputs": [],
   "source": []
  }
 ],
 "metadata": {
  "kernelspec": {
   "display_name": "Python 3",
   "language": "python",
   "name": "python3"
  },
  "language_info": {
   "codemirror_mode": {
    "name": "ipython",
    "version": 3
   },
   "file_extension": ".py",
   "mimetype": "text/x-python",
   "name": "python",
   "nbconvert_exporter": "python",
   "pygments_lexer": "ipython3",
   "version": "3.8.5"
  }
 },
 "nbformat": 4,
 "nbformat_minor": 4
}
