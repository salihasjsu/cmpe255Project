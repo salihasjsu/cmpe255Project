{
 "cells": [
  {
   "cell_type": "markdown",
   "metadata": {},
   "source": [
    "# Neural Network Using Keras on WildFire DataSet (1.8 million)"
   ]
  },
  {
   "cell_type": "code",
   "execution_count": 30,
   "metadata": {},
   "outputs": [
    {
     "name": "stdout",
     "output_type": "stream",
     "text": [
      "DataSet Size =  1880465\n"
     ]
    },
    {
     "data": {
      "text/html": [
       "<div>\n",
       "<style scoped>\n",
       "    .dataframe tbody tr th:only-of-type {\n",
       "        vertical-align: middle;\n",
       "    }\n",
       "\n",
       "    .dataframe tbody tr th {\n",
       "        vertical-align: top;\n",
       "    }\n",
       "\n",
       "    .dataframe thead th {\n",
       "        text-align: right;\n",
       "    }\n",
       "</style>\n",
       "<table border=\"1\" class=\"dataframe\">\n",
       "  <thead>\n",
       "    <tr style=\"text-align: right;\">\n",
       "      <th></th>\n",
       "      <th>DISCOVERY_DATE</th>\n",
       "      <th>LONGITUDE</th>\n",
       "      <th>LATITUDE</th>\n",
       "      <th>FIRE_SIZE</th>\n",
       "      <th>FIRE_YEAR</th>\n",
       "      <th>STAT_CAUSE_DESCR</th>\n",
       "      <th>STATE</th>\n",
       "    </tr>\n",
       "  </thead>\n",
       "  <tbody>\n",
       "    <tr>\n",
       "      <th>0</th>\n",
       "      <td>2453403.5</td>\n",
       "      <td>-121.005833</td>\n",
       "      <td>40.036944</td>\n",
       "      <td>0.10</td>\n",
       "      <td>2005</td>\n",
       "      <td>Miscellaneous</td>\n",
       "      <td>CA</td>\n",
       "    </tr>\n",
       "    <tr>\n",
       "      <th>1</th>\n",
       "      <td>2453137.5</td>\n",
       "      <td>-120.404444</td>\n",
       "      <td>38.933056</td>\n",
       "      <td>0.25</td>\n",
       "      <td>2004</td>\n",
       "      <td>Lightning</td>\n",
       "      <td>CA</td>\n",
       "    </tr>\n",
       "    <tr>\n",
       "      <th>2</th>\n",
       "      <td>2453156.5</td>\n",
       "      <td>-120.735556</td>\n",
       "      <td>38.984167</td>\n",
       "      <td>0.10</td>\n",
       "      <td>2004</td>\n",
       "      <td>Debris Burning</td>\n",
       "      <td>CA</td>\n",
       "    </tr>\n",
       "    <tr>\n",
       "      <th>3</th>\n",
       "      <td>2453184.5</td>\n",
       "      <td>-119.913333</td>\n",
       "      <td>38.559167</td>\n",
       "      <td>0.10</td>\n",
       "      <td>2004</td>\n",
       "      <td>Lightning</td>\n",
       "      <td>CA</td>\n",
       "    </tr>\n",
       "  </tbody>\n",
       "</table>\n",
       "</div>"
      ],
      "text/plain": [
       "   DISCOVERY_DATE   LONGITUDE   LATITUDE  FIRE_SIZE  FIRE_YEAR  \\\n",
       "0       2453403.5 -121.005833  40.036944       0.10       2005   \n",
       "1       2453137.5 -120.404444  38.933056       0.25       2004   \n",
       "2       2453156.5 -120.735556  38.984167       0.10       2004   \n",
       "3       2453184.5 -119.913333  38.559167       0.10       2004   \n",
       "\n",
       "  STAT_CAUSE_DESCR STATE  \n",
       "0    Miscellaneous    CA  \n",
       "1        Lightning    CA  \n",
       "2   Debris Burning    CA  \n",
       "3        Lightning    CA  "
      ]
     },
     "execution_count": 30,
     "metadata": {},
     "output_type": "execute_result"
    }
   ],
   "source": [
    "import pandas as pd\n",
    "import numpy as np\n",
    "import sqlite3\n",
    "\n",
    "conn = sqlite3.connect('FPA_FOD_20170508.sqlite')\n",
    "df = pd.read_sql(\"SELECT DISCOVERY_DATE,LONGITUDE,LATITUDE,FIRE_SIZE,FIRE_YEAR, STAT_CAUSE_DESCR,STATE from Fires\",con=conn)\n",
    "print(\"DataSet Size = \",len(df))\n",
    "df.head(4)\n"
   ]
  },
  {
   "cell_type": "markdown",
   "metadata": {},
   "source": [
    "## Preprocessing for Date"
   ]
  },
  {
   "cell_type": "code",
   "execution_count": 31,
   "metadata": {},
   "outputs": [
    {
     "data": {
      "text/html": [
       "<div>\n",
       "<style scoped>\n",
       "    .dataframe tbody tr th:only-of-type {\n",
       "        vertical-align: middle;\n",
       "    }\n",
       "\n",
       "    .dataframe tbody tr th {\n",
       "        vertical-align: top;\n",
       "    }\n",
       "\n",
       "    .dataframe thead th {\n",
       "        text-align: right;\n",
       "    }\n",
       "</style>\n",
       "<table border=\"1\" class=\"dataframe\">\n",
       "  <thead>\n",
       "    <tr style=\"text-align: right;\">\n",
       "      <th></th>\n",
       "      <th>DISCOVERY_DATE</th>\n",
       "      <th>LONGITUDE</th>\n",
       "      <th>LATITUDE</th>\n",
       "      <th>FIRE_SIZE</th>\n",
       "      <th>FIRE_YEAR</th>\n",
       "      <th>STAT_CAUSE_DESCR</th>\n",
       "      <th>STATE</th>\n",
       "      <th>MONTH</th>\n",
       "      <th>DAY_OF_WEEK</th>\n",
       "    </tr>\n",
       "  </thead>\n",
       "  <tbody>\n",
       "    <tr>\n",
       "      <th>0</th>\n",
       "      <td>20050202</td>\n",
       "      <td>-121.005833</td>\n",
       "      <td>40.036944</td>\n",
       "      <td>0.10</td>\n",
       "      <td>2005</td>\n",
       "      <td>Miscellaneous</td>\n",
       "      <td>CA</td>\n",
       "      <td>2</td>\n",
       "      <td>2</td>\n",
       "    </tr>\n",
       "    <tr>\n",
       "      <th>1</th>\n",
       "      <td>20040512</td>\n",
       "      <td>-120.404444</td>\n",
       "      <td>38.933056</td>\n",
       "      <td>0.25</td>\n",
       "      <td>2004</td>\n",
       "      <td>Lightning</td>\n",
       "      <td>CA</td>\n",
       "      <td>5</td>\n",
       "      <td>2</td>\n",
       "    </tr>\n",
       "    <tr>\n",
       "      <th>2</th>\n",
       "      <td>20040531</td>\n",
       "      <td>-120.735556</td>\n",
       "      <td>38.984167</td>\n",
       "      <td>0.10</td>\n",
       "      <td>2004</td>\n",
       "      <td>Debris Burning</td>\n",
       "      <td>CA</td>\n",
       "      <td>5</td>\n",
       "      <td>0</td>\n",
       "    </tr>\n",
       "    <tr>\n",
       "      <th>3</th>\n",
       "      <td>20040628</td>\n",
       "      <td>-119.913333</td>\n",
       "      <td>38.559167</td>\n",
       "      <td>0.10</td>\n",
       "      <td>2004</td>\n",
       "      <td>Lightning</td>\n",
       "      <td>CA</td>\n",
       "      <td>6</td>\n",
       "      <td>0</td>\n",
       "    </tr>\n",
       "    <tr>\n",
       "      <th>4</th>\n",
       "      <td>20040628</td>\n",
       "      <td>-119.933056</td>\n",
       "      <td>38.559167</td>\n",
       "      <td>0.10</td>\n",
       "      <td>2004</td>\n",
       "      <td>Lightning</td>\n",
       "      <td>CA</td>\n",
       "      <td>6</td>\n",
       "      <td>0</td>\n",
       "    </tr>\n",
       "  </tbody>\n",
       "</table>\n",
       "</div>"
      ],
      "text/plain": [
       "   DISCOVERY_DATE   LONGITUDE   LATITUDE  FIRE_SIZE  FIRE_YEAR  \\\n",
       "0        20050202 -121.005833  40.036944       0.10       2005   \n",
       "1        20040512 -120.404444  38.933056       0.25       2004   \n",
       "2        20040531 -120.735556  38.984167       0.10       2004   \n",
       "3        20040628 -119.913333  38.559167       0.10       2004   \n",
       "4        20040628 -119.933056  38.559167       0.10       2004   \n",
       "\n",
       "  STAT_CAUSE_DESCR STATE  MONTH  DAY_OF_WEEK  \n",
       "0    Miscellaneous    CA      2            2  \n",
       "1        Lightning    CA      5            2  \n",
       "2   Debris Burning    CA      5            0  \n",
       "3        Lightning    CA      6            0  \n",
       "4        Lightning    CA      6            0  "
      ]
     },
     "execution_count": 31,
     "metadata": {},
     "output_type": "execute_result"
    }
   ],
   "source": [
    "df['DISCOVERY_DATE'] = pd.to_datetime(df['DISCOVERY_DATE'] - pd.Timestamp(0).to_julian_date(), unit='D')\n",
    "df['MONTH'] = pd.DatetimeIndex(df['DISCOVERY_DATE']).month\n",
    "df['DAY_OF_WEEK'] = df['DISCOVERY_DATE'].dt.weekday\n",
    "df['DISCOVERY_DATE'] = pd.to_datetime(df['DISCOVERY_DATE'])\n",
    "df['DISCOVERY_DATE']=df.DISCOVERY_DATE.apply(lambda x: x.strftime('%Y%m%d')).astype(int)\n",
    "df.head(5)"
   ]
  },
  {
   "cell_type": "code",
   "execution_count": 32,
   "metadata": {},
   "outputs": [
    {
     "name": "stdout",
     "output_type": "stream",
     "text": [
      "Dataset Size 1389937\n"
     ]
    }
   ],
   "source": [
    "# Removing records that have no proper cause labels\n",
    "df = df[df['STAT_CAUSE_DESCR'] != 'Missing/Undefined']\n",
    "df = df[df['STAT_CAUSE_DESCR'] != 'Miscellaneous']\n",
    "print('Dataset Size', len(df))"
   ]
  },
  {
   "cell_type": "markdown",
   "metadata": {},
   "source": [
    "## Grouping Target into multiple classes (Natural,Accidental,Intentional)"
   ]
  },
  {
   "cell_type": "code",
   "execution_count": 33,
   "metadata": {},
   "outputs": [
    {
     "name": "stdout",
     "output_type": "stream",
     "text": [
      "   DISCOVERY_DATE   LONGITUDE   LATITUDE  FIRE_SIZE  FIRE_YEAR STATE  MONTH  \\\n",
      "1        20040512 -120.404444  38.933056       0.25       2004    CA      5   \n",
      "2        20040531 -120.735556  38.984167       0.10       2004    CA      5   \n",
      "3        20040628 -119.913333  38.559167       0.10       2004    CA      6   \n",
      "4        20040628 -119.933056  38.559167       0.10       2004    CA      6   \n",
      "5        20040630 -120.103611  38.635278       0.10       2004    CA      6   \n",
      "\n",
      "   DAY_OF_WEEK  STAT_CAUSE_LABEL  \n",
      "1            2                 1  \n",
      "2            0                 2  \n",
      "3            0                 1  \n",
      "4            0                 1  \n",
      "5            2                 1  \n"
     ]
    }
   ],
   "source": [
    "df['STAT_CAUSE_LABEL'] = df['STAT_CAUSE_DESCR'].apply(lambda x: 1 if x in ['Lightning'] else\n",
    "                                                     2 if x in ['Structure','Fireworks','Powerline','Railroad','Smoking','Children','Campfire','Equipment Use','Debris Burning']\n",
    "                                                         else 3)\n",
    "df = df.drop('STAT_CAUSE_DESCR',axis=1)\n",
    "print(df.head())"
   ]
  },
  {
   "cell_type": "code",
   "execution_count": 34,
   "metadata": {},
   "outputs": [
    {
     "data": {
      "text/html": [
       "<div>\n",
       "<style scoped>\n",
       "    .dataframe tbody tr th:only-of-type {\n",
       "        vertical-align: middle;\n",
       "    }\n",
       "\n",
       "    .dataframe tbody tr th {\n",
       "        vertical-align: top;\n",
       "    }\n",
       "\n",
       "    .dataframe thead th {\n",
       "        text-align: right;\n",
       "    }\n",
       "</style>\n",
       "<table border=\"1\" class=\"dataframe\">\n",
       "  <thead>\n",
       "    <tr style=\"text-align: right;\">\n",
       "      <th></th>\n",
       "      <th>DISCOVERY_DATE</th>\n",
       "      <th>LONGITUDE</th>\n",
       "      <th>LATITUDE</th>\n",
       "      <th>FIRE_SIZE</th>\n",
       "      <th>FIRE_YEAR</th>\n",
       "      <th>STATE</th>\n",
       "      <th>MONTH</th>\n",
       "      <th>DAY_OF_WEEK</th>\n",
       "      <th>STAT_CAUSE_LABEL</th>\n",
       "    </tr>\n",
       "  </thead>\n",
       "  <tbody>\n",
       "    <tr>\n",
       "      <th>1</th>\n",
       "      <td>20040512</td>\n",
       "      <td>-120.404444</td>\n",
       "      <td>38.933056</td>\n",
       "      <td>0.25</td>\n",
       "      <td>2004</td>\n",
       "      <td>4</td>\n",
       "      <td>5</td>\n",
       "      <td>2</td>\n",
       "      <td>1</td>\n",
       "    </tr>\n",
       "    <tr>\n",
       "      <th>2</th>\n",
       "      <td>20040531</td>\n",
       "      <td>-120.735556</td>\n",
       "      <td>38.984167</td>\n",
       "      <td>0.10</td>\n",
       "      <td>2004</td>\n",
       "      <td>4</td>\n",
       "      <td>5</td>\n",
       "      <td>0</td>\n",
       "      <td>2</td>\n",
       "    </tr>\n",
       "  </tbody>\n",
       "</table>\n",
       "</div>"
      ],
      "text/plain": [
       "   DISCOVERY_DATE   LONGITUDE   LATITUDE  FIRE_SIZE  FIRE_YEAR  STATE  MONTH  \\\n",
       "1        20040512 -120.404444  38.933056       0.25       2004      4      5   \n",
       "2        20040531 -120.735556  38.984167       0.10       2004      4      5   \n",
       "\n",
       "   DAY_OF_WEEK  STAT_CAUSE_LABEL  \n",
       "1            2                 1  \n",
       "2            0                 2  "
      ]
     },
     "execution_count": 34,
     "metadata": {},
     "output_type": "execute_result"
    }
   ],
   "source": [
    "# Encoding State to labels\n",
    "from sklearn.preprocessing import LabelEncoder\n",
    "lb_make = LabelEncoder()\n",
    "df[\"STATE\"] = lb_make.fit_transform(df[\"STATE\"])\n",
    "df.head(2)"
   ]
  },
  {
   "cell_type": "code",
   "execution_count": 35,
   "metadata": {},
   "outputs": [],
   "source": [
    "X = df.drop(columns='STAT_CAUSE_LABEL')\n",
    "y = df['STAT_CAUSE_LABEL']"
   ]
  },
  {
   "cell_type": "markdown",
   "metadata": {},
   "source": [
    "## Normalizing Data"
   ]
  },
  {
   "cell_type": "code",
   "execution_count": 36,
   "metadata": {},
   "outputs": [],
   "source": [
    "from sklearn.preprocessing import StandardScaler\n",
    "scaler = StandardScaler()\n",
    "X_scaled = scaler.fit_transform(X)\n",
    "X = pd.DataFrame(X_scaled,columns=X.columns.tolist())"
   ]
  },
  {
   "cell_type": "code",
   "execution_count": 37,
   "metadata": {},
   "outputs": [],
   "source": [
    "# dont do encoding if using sparse categorial corss entropy\n",
    "from sklearn.preprocessing import OneHotEncoder\n",
    "ohe = OneHotEncoder()\n",
    "y = ohe.fit_transform(y[:, np.newaxis]).toarray()"
   ]
  },
  {
   "cell_type": "code",
   "execution_count": 69,
   "metadata": {},
   "outputs": [
    {
     "name": "stdout",
     "output_type": "stream",
     "text": [
      "train: 0.6% | validation: 0.2% | test 0.2%\n"
     ]
    }
   ],
   "source": [
    "from sklearn.model_selection import train_test_split\n",
    "X_inter,X_test,y_inter,y_test = train_test_split(X,y,shuffle=True,random_state=15,test_size=0.2)\n",
    "X_train,X_valid,y_train,y_valid = train_test_split(X_inter,y_inter, shuffle=False,random_state=2018,test_size=0.25)\n",
    "del X_inter, y_inter\n",
    "print(\"train: {}% | validation: {}% | test {}%\".format(round(len(y_train)/len(y),2),\n",
    "                                                       round(len(y_valid)/len(y),2),\n",
    "                                                       round(len(y_test)/len(y),2)))"
   ]
  },
  {
   "cell_type": "code",
   "execution_count": 70,
   "metadata": {},
   "outputs": [],
   "source": [
    "import ssl\n",
    "import tensorflow as tf\n",
    "from tensorflow import keras\n",
    "from tensorflow.keras import layers\n",
    "ssl._create_default_https_context = ssl._create_unverified_context\n",
    "import warnings\n",
    "from keras.models import Sequential\n",
    "from keras.layers import Dense\n",
    "warnings.filterwarnings(\"ignore\")\n",
    "warnings.simplefilter(action='ignore', category=FutureWarning)\n",
    "warnings.simplefilter(action='ignore', category=DeprecationWarning)"
   ]
  },
  {
   "cell_type": "code",
   "execution_count": 71,
   "metadata": {},
   "outputs": [],
   "source": [
    "X_train = X_train.iloc[:].values # converting into numpy array\n",
    "X_test = X_test.iloc[:].values\n",
    "X_valid = X_valid.iloc[:].values"
   ]
  },
  {
   "cell_type": "code",
   "execution_count": 72,
   "metadata": {},
   "outputs": [],
   "source": [
    "features = len(X.columns)\n",
    "classes = 3\n",
    "def create_models(input_dim, output_dim, nodes, n=1, name='wildfiremodel'):\n",
    "    def get_model():\n",
    "        # Create model\n",
    "        model = Sequential(name=name)\n",
    "        for i in range(n):\n",
    "            model.add(Dense(nodes, input_dim=input_dim, activation='relu'))\n",
    "        model.add(Dense(output_dim))\n",
    "\n",
    "        # Compile model\n",
    "        model.compile( loss=keras.losses.CategoricalCrossentropy(from_logits=True,reduction='none'),\n",
    "            optimizer=keras.optimizers.Adam(), metrics=[\"accuracy\"])\n",
    "        return model\n",
    "    return get_model\n"
   ]
  },
  {
   "cell_type": "code",
   "execution_count": 79,
   "metadata": {},
   "outputs": [
    {
     "name": "stdout",
     "output_type": "stream",
     "text": [
      "Model: \"wildfireModel_1\"\n",
      "_________________________________________________________________\n",
      "Layer (type)                 Output Shape              Param #   \n",
      "=================================================================\n",
      "dense_181 (Dense)            (None, 10)                90        \n",
      "_________________________________________________________________\n",
      "dense_182 (Dense)            (None, 3)                 33        \n",
      "=================================================================\n",
      "Total params: 123\n",
      "Trainable params: 123\n",
      "Non-trainable params: 0\n",
      "_________________________________________________________________\n",
      "Model: \"wildfireModel_2\"\n",
      "_________________________________________________________________\n",
      "Layer (type)                 Output Shape              Param #   \n",
      "=================================================================\n",
      "dense_183 (Dense)            (None, 10)                90        \n",
      "_________________________________________________________________\n",
      "dense_184 (Dense)            (None, 10)                110       \n",
      "_________________________________________________________________\n",
      "dense_185 (Dense)            (None, 3)                 33        \n",
      "=================================================================\n",
      "Total params: 233\n",
      "Trainable params: 233\n",
      "Non-trainable params: 0\n",
      "_________________________________________________________________\n",
      "Model: \"wildfireModel_3\"\n",
      "_________________________________________________________________\n",
      "Layer (type)                 Output Shape              Param #   \n",
      "=================================================================\n",
      "dense_186 (Dense)            (None, 10)                90        \n",
      "_________________________________________________________________\n",
      "dense_187 (Dense)            (None, 10)                110       \n",
      "_________________________________________________________________\n",
      "dense_188 (Dense)            (None, 10)                110       \n",
      "_________________________________________________________________\n",
      "dense_189 (Dense)            (None, 3)                 33        \n",
      "=================================================================\n",
      "Total params: 343\n",
      "Trainable params: 343\n",
      "Non-trainable params: 0\n",
      "_________________________________________________________________\n"
     ]
    }
   ],
   "source": [
    "models = [create_models(features, classes, 10, i, 'wildfireModel_{}'.format(i)) \n",
    "          for i in range(1, 4)]\n",
    "\n",
    "for get_model in models:\n",
    "    get_model().summary()"
   ]
  },
  {
   "cell_type": "code",
   "execution_count": 77,
   "metadata": {},
   "outputs": [
    {
     "name": "stdout",
     "output_type": "stream",
     "text": [
      "Model: \"wildfiremodel\"\n",
      "_________________________________________________________________\n",
      "Layer (type)                 Output Shape              Param #   \n",
      "=================================================================\n",
      "dense_173 (Dense)            (None, 10)                90        \n",
      "_________________________________________________________________\n",
      "dense_174 (Dense)            (None, 10)                110       \n",
      "_________________________________________________________________\n",
      "dense_175 (Dense)            (None, 10)                110       \n",
      "_________________________________________________________________\n",
      "dense_176 (Dense)            (None, 3)                 33        \n",
      "=================================================================\n",
      "Total params: 343\n",
      "Trainable params: 343\n",
      "Non-trainable params: 0\n",
      "_________________________________________________________________\n"
     ]
    }
   ],
   "source": [
    "models = [create_models(features,classes,10,3)]\n",
    "for get_model in models:\n",
    "    get_model().summary()"
   ]
  },
  {
   "cell_type": "code",
   "execution_count": 80,
   "metadata": {},
   "outputs": [
    {
     "name": "stdout",
     "output_type": "stream",
     "text": [
      "Model name: wildfireModel_1\n",
      "WARNING:tensorflow:Callbacks method `on_train_batch_end` is slow compared to the batch time (batch time: 0.0009s vs `on_train_batch_end` time: 0.0274s). Check your callbacks.\n",
      "8688/8688 - 7s - loss: 0.6952 - accuracy: 0.6987\n",
      "Test loss: 0.6952000856399536\n",
      "Test accuracy: 0.6986596584320068\n",
      "Model name: wildfireModel_2\n",
      "WARNING:tensorflow:Callbacks method `on_train_batch_end` is slow compared to the batch time (batch time: 0.0010s vs `on_train_batch_end` time: 0.0237s). Check your callbacks.\n",
      "8688/8688 - 7s - loss: 0.6640 - accuracy: 0.7095\n",
      "Test loss: 0.6640365123748779\n",
      "Test accuracy: 0.7095306515693665\n",
      "Model name: wildfireModel_3\n",
      "WARNING:tensorflow:Callbacks method `on_train_batch_end` is slow compared to the batch time (batch time: 0.0028s vs `on_train_batch_end` time: 0.0697s). Check your callbacks.\n",
      "8688/8688 - 11s - loss: 0.6533 - accuracy: 0.7151\n",
      "Test loss: 0.6533129811286926\n",
      "Test accuracy: 0.7150704264640808\n"
     ]
    }
   ],
   "source": [
    "from keras.callbacks import TensorBoard\n",
    "\n",
    "history_dict = {}\n",
    "\n",
    "# TensorBoard Callback\n",
    "cb = TensorBoard()\n",
    "\n",
    "for get_model in models:\n",
    "    model = get_model()\n",
    "    print('Model name:', model.name)\n",
    "    history_callback = model.fit(X_train, y_train,\n",
    "                                 batch_size=1000,\n",
    "                                 epochs=50,\n",
    "                                 verbose=0,\n",
    "                                 validation_data=(X_valid,y_valid),\n",
    "                                 callbacks=[cb])\n",
    "    score = model.evaluate(X_test, y_test, verbose=2)\n",
    "    print('Test loss:', score[0])\n",
    "    print('Test accuracy:', score[1])\n",
    "    \n",
    "    history_dict[model.name] = [history_callback, model]"
   ]
  },
  {
   "cell_type": "code",
   "execution_count": 81,
   "metadata": {},
   "outputs": [
    {
     "data": {
      "image/png": "[encoded data removed]",
      "text/plain": [
       "<Figure size 576x432 with 2 Axes>"
      ]
     },
     "metadata": {
      "needs_background": "light"
     },
     "output_type": "display_data"
    }
   ],
   "source": [
    "import matplotlib.pyplot as plt\n",
    "fig, (ax1, ax2) = plt.subplots(2, figsize=(8, 6))\n",
    "\n",
    "for model_name in history_dict:\n",
    "    val_accurady = history_dict[model_name][0].history['val_accuracy']\n",
    "    val_loss = history_dict[model_name][0].history['val_loss']\n",
    "    ax1.plot(val_accurady, label=model_name)\n",
    "    ax2.plot(val_loss, label=model_name)\n",
    "    \n",
    "ax1.set_ylabel('validation accuracy')\n",
    "ax2.set_ylabel('validation loss')\n",
    "ax2.set_xlabel('epochs')\n",
    "ax1.legend()\n",
    "ax2.legend();"
   ]
  }
 ],
 "metadata": {
  "kernelspec": {
   "display_name": "Python 3",
   "language": "python",
   "name": "python3"
  },
  "language_info": {
   "codemirror_mode": {
    "name": "ipython",
    "version": 3
   },
   "file_extension": ".py",
   "mimetype": "text/x-python",
   "name": "python",
   "nbconvert_exporter": "python",
   "pygments_lexer": "ipython3",
   "version": "3.8.5"
  }
 },
 "nbformat": 4,
 "nbformat_minor": 4
}
