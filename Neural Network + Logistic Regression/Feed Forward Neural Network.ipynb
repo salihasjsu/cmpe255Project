{
 "cells": [
  {
   "cell_type": "markdown",
   "metadata": {},
   "source": [
    "# Feed forward Neural Network using Stochastic Gradient Descent"
   ]
  },
  {
   "cell_type": "code",
   "execution_count": 1,
   "metadata": {},
   "outputs": [],
   "source": [
    "import numpy as np\n",
    "import pandas as pd\n",
    "import seaborn as sns\n",
    "import matplotlib.pyplot as plt\n",
    "import random\n",
    "from sklearn.model_selection import train_test_split\n",
    "\n",
    "\n",
    "#Convert array to one-hot encoding\n",
    "def to_one_hot(Y):\n",
    "    n_col = np.amax(Y) + 1\n",
    "    binarized = np.zeros((len(Y), n_col))\n",
    "    for i in range(len(Y)):\n",
    "        binarized[i, Y[i]] = 1.\n",
    "    return binarized\n",
    "\n",
    "#Tanh and its derivative\n",
    "def tanh(x):\n",
    "    return (2/(1+np.exp(-2*x)))-1\n",
    "\n",
    "def tanh_deriv(x):\n",
    "    return (1 - (tanh(x)*tanh(x)))\n",
    "\n",
    "#Normalize array\n",
    "def normalize(X, axis=-1, order=2):\n",
    "    l2 = np.atleast_1d(np.linalg.norm(X, order, axis))\n",
    "    l2[l2 == 0] = 1\n",
    "    return X / np.expand_dims(l2, axis)\n",
    "\n"
   ]
  },
  {
   "cell_type": "markdown",
   "metadata": {},
   "source": [
    "# Working on 0.3 million stratified Dataset"
   ]
  },
  {
   "cell_type": "code",
   "execution_count": 2,
   "metadata": {},
   "outputs": [],
   "source": [
    "import pandas as pd\n",
    "import numpy as np\n",
    "import category_encoders as ce\n",
    "df = pd.read_csv('preprocessed_dataset.csv')"
   ]
  },
  {
   "cell_type": "code",
   "execution_count": 3,
   "metadata": {},
   "outputs": [
    {
     "data": {
      "text/html": [
       "<div>\n",
       "<style scoped>\n",
       "    .dataframe tbody tr th:only-of-type {\n",
       "        vertical-align: middle;\n",
       "    }\n",
       "\n",
       "    .dataframe tbody tr th {\n",
       "        vertical-align: top;\n",
       "    }\n",
       "\n",
       "    .dataframe thead th {\n",
       "        text-align: right;\n",
       "    }\n",
       "</style>\n",
       "<table border=\"1\" class=\"dataframe\">\n",
       "  <thead>\n",
       "    <tr style=\"text-align: right;\">\n",
       "      <th></th>\n",
       "      <th>FOD_ID</th>\n",
       "      <th>NWCG_REPORTING_AGENCY</th>\n",
       "      <th>SOURCE_REPORTING_UNIT_NAME</th>\n",
       "      <th>FIRE_YEAR</th>\n",
       "      <th>DISCOVERY_DATE</th>\n",
       "      <th>STAT_CAUSE_CODE</th>\n",
       "      <th>STAT_CAUSE_DESCR</th>\n",
       "      <th>FIRE_SIZE</th>\n",
       "      <th>FIRE_SIZE_CLASS</th>\n",
       "      <th>LATITUDE</th>\n",
       "      <th>LONGITUDE</th>\n",
       "      <th>OWNER_DESCR</th>\n",
       "      <th>STATE</th>\n",
       "      <th>DISCOVERY_TIME</th>\n",
       "      <th>CONT_DATE</th>\n",
       "      <th>CONT_TIME</th>\n",
       "      <th>COUNTY</th>\n",
       "      <th>FIRE_MONTH</th>\n",
       "    </tr>\n",
       "  </thead>\n",
       "  <tbody>\n",
       "    <tr>\n",
       "      <th>0</th>\n",
       "      <td>46487</td>\n",
       "      <td>FS</td>\n",
       "      <td>Salmon-Challis National Forest</td>\n",
       "      <td>1992</td>\n",
       "      <td>1992-06-20</td>\n",
       "      <td>1.0</td>\n",
       "      <td>6</td>\n",
       "      <td>0.1</td>\n",
       "      <td>0</td>\n",
       "      <td>45.308333</td>\n",
       "      <td>-114.475</td>\n",
       "      <td>USFS</td>\n",
       "      <td>13</td>\n",
       "      <td>1035</td>\n",
       "      <td>1992-06-20</td>\n",
       "      <td>1336.0</td>\n",
       "      <td>Lemhi County</td>\n",
       "      <td>6</td>\n",
       "    </tr>\n",
       "    <tr>\n",
       "      <th>1</th>\n",
       "      <td>242377</td>\n",
       "      <td>BLM</td>\n",
       "      <td>Rock Springs Field Office</td>\n",
       "      <td>1992</td>\n",
       "      <td>1992-08-21</td>\n",
       "      <td>1.0</td>\n",
       "      <td>6</td>\n",
       "      <td>0.1</td>\n",
       "      <td>0</td>\n",
       "      <td>41.416600</td>\n",
       "      <td>-109.234</td>\n",
       "      <td>BLM</td>\n",
       "      <td>51</td>\n",
       "      <td>1428</td>\n",
       "      <td>1992-08-22</td>\n",
       "      <td>1800.0</td>\n",
       "      <td>Sweetwater County</td>\n",
       "      <td>8</td>\n",
       "    </tr>\n",
       "  </tbody>\n",
       "</table>\n",
       "</div>"
      ],
      "text/plain": [
       "   FOD_ID NWCG_REPORTING_AGENCY      SOURCE_REPORTING_UNIT_NAME  FIRE_YEAR  \\\n",
       "0   46487                    FS  Salmon-Challis National Forest       1992   \n",
       "1  242377                   BLM       Rock Springs Field Office       1992   \n",
       "\n",
       "  DISCOVERY_DATE  STAT_CAUSE_CODE  STAT_CAUSE_DESCR  FIRE_SIZE  \\\n",
       "0     1992-06-20              1.0                 6        0.1   \n",
       "1     1992-08-21              1.0                 6        0.1   \n",
       "\n",
       "   FIRE_SIZE_CLASS   LATITUDE  LONGITUDE OWNER_DESCR  STATE  DISCOVERY_TIME  \\\n",
       "0                0  45.308333   -114.475        USFS     13            1035   \n",
       "1                0  41.416600   -109.234         BLM     51            1428   \n",
       "\n",
       "    CONT_DATE  CONT_TIME             COUNTY  FIRE_MONTH  \n",
       "0  1992-06-20     1336.0       Lemhi County           6  \n",
       "1  1992-08-22     1800.0  Sweetwater County           8  "
      ]
     },
     "execution_count": 3,
     "metadata": {},
     "output_type": "execute_result"
    }
   ],
   "source": [
    "from sklearn.preprocessing import LabelEncoder\n",
    "lb_make = LabelEncoder()\n",
    "df[\"FIRE_SIZE_CLASS\"] = lb_make.fit_transform(df[\"FIRE_SIZE_CLASS\"]) # because it is ordinal\n",
    "df[\"STATE\"] = lb_make.fit_transform(df[\"STATE\"])\n",
    "df[\"STAT_CAUSE_DESCR\"] = lb_make.fit_transform(df[\"STAT_CAUSE_DESCR\"])\n",
    "#df[\"STAT_CAUSE_DESCR\"] = lb_make.fit_transform(df[\"STAT_CAUSE_DESCR\"])\n",
    "df['FIRE_MONTH'] = pd.to_datetime(df['DISCOVERY_DATE']).dt.month\n",
    "df.head(2)"
   ]
  },
  {
   "cell_type": "code",
   "execution_count": 4,
   "metadata": {},
   "outputs": [],
   "source": [
    "X_or = df[['FIRE_YEAR','FIRE_MONTH','STATE','FIRE_SIZE']]\n",
    "y_or = df['STAT_CAUSE_DESCR']"
   ]
  },
  {
   "cell_type": "code",
   "execution_count": 50,
   "metadata": {},
   "outputs": [],
   "source": [
    "X=X_or\n",
    "y=y_or"
   ]
  },
  {
   "cell_type": "code",
   "execution_count": 51,
   "metadata": {},
   "outputs": [],
   "source": [
    "X = normalize(X)"
   ]
  },
  {
   "cell_type": "code",
   "execution_count": 52,
   "metadata": {},
   "outputs": [
    {
     "data": {
      "text/html": [
       "<div>\n",
       "<style scoped>\n",
       "    .dataframe tbody tr th:only-of-type {\n",
       "        vertical-align: middle;\n",
       "    }\n",
       "\n",
       "    .dataframe tbody tr th {\n",
       "        vertical-align: top;\n",
       "    }\n",
       "\n",
       "    .dataframe thead th {\n",
       "        text-align: right;\n",
       "    }\n",
       "</style>\n",
       "<table border=\"1\" class=\"dataframe\">\n",
       "  <thead>\n",
       "    <tr style=\"text-align: right;\">\n",
       "      <th></th>\n",
       "      <th>FIRE_YEAR</th>\n",
       "      <th>FIRE_MONTH</th>\n",
       "      <th>STATE</th>\n",
       "      <th>FIRE_SIZE</th>\n",
       "    </tr>\n",
       "  </thead>\n",
       "  <tbody>\n",
       "    <tr>\n",
       "      <th>0</th>\n",
       "      <td>0.999974</td>\n",
       "      <td>0.003012</td>\n",
       "      <td>0.006526</td>\n",
       "      <td>0.000050</td>\n",
       "    </tr>\n",
       "    <tr>\n",
       "      <th>1</th>\n",
       "      <td>0.999664</td>\n",
       "      <td>0.004015</td>\n",
       "      <td>0.025594</td>\n",
       "      <td>0.000050</td>\n",
       "    </tr>\n",
       "    <tr>\n",
       "      <th>2</th>\n",
       "      <td>0.999993</td>\n",
       "      <td>0.003012</td>\n",
       "      <td>0.002008</td>\n",
       "      <td>0.000050</td>\n",
       "    </tr>\n",
       "    <tr>\n",
       "      <th>3</th>\n",
       "      <td>0.999819</td>\n",
       "      <td>0.004015</td>\n",
       "      <td>0.018571</td>\n",
       "      <td>0.000050</td>\n",
       "    </tr>\n",
       "    <tr>\n",
       "      <th>4</th>\n",
       "      <td>0.999993</td>\n",
       "      <td>0.003012</td>\n",
       "      <td>0.002008</td>\n",
       "      <td>0.000050</td>\n",
       "    </tr>\n",
       "    <tr>\n",
       "      <th>...</th>\n",
       "      <td>...</td>\n",
       "      <td>...</td>\n",
       "      <td>...</td>\n",
       "      <td>...</td>\n",
       "    </tr>\n",
       "    <tr>\n",
       "      <th>376096</th>\n",
       "      <td>0.999998</td>\n",
       "      <td>0.001489</td>\n",
       "      <td>0.001489</td>\n",
       "      <td>0.000050</td>\n",
       "    </tr>\n",
       "    <tr>\n",
       "      <th>376097</th>\n",
       "      <td>0.999996</td>\n",
       "      <td>0.001985</td>\n",
       "      <td>0.001985</td>\n",
       "      <td>0.000496</td>\n",
       "    </tr>\n",
       "    <tr>\n",
       "      <th>376098</th>\n",
       "      <td>0.999990</td>\n",
       "      <td>0.003970</td>\n",
       "      <td>0.001985</td>\n",
       "      <td>0.000050</td>\n",
       "    </tr>\n",
       "    <tr>\n",
       "      <th>376099</th>\n",
       "      <td>0.999993</td>\n",
       "      <td>0.003474</td>\n",
       "      <td>0.001489</td>\n",
       "      <td>0.000050</td>\n",
       "    </tr>\n",
       "    <tr>\n",
       "      <th>376100</th>\n",
       "      <td>0.999999</td>\n",
       "      <td>0.000496</td>\n",
       "      <td>0.001489</td>\n",
       "      <td>0.000050</td>\n",
       "    </tr>\n",
       "  </tbody>\n",
       "</table>\n",
       "<p>376101 rows × 4 columns</p>\n",
       "</div>"
      ],
      "text/plain": [
       "        FIRE_YEAR  FIRE_MONTH     STATE  FIRE_SIZE\n",
       "0        0.999974    0.003012  0.006526   0.000050\n",
       "1        0.999664    0.004015  0.025594   0.000050\n",
       "2        0.999993    0.003012  0.002008   0.000050\n",
       "3        0.999819    0.004015  0.018571   0.000050\n",
       "4        0.999993    0.003012  0.002008   0.000050\n",
       "...           ...         ...       ...        ...\n",
       "376096   0.999998    0.001489  0.001489   0.000050\n",
       "376097   0.999996    0.001985  0.001985   0.000496\n",
       "376098   0.999990    0.003970  0.001985   0.000050\n",
       "376099   0.999993    0.003474  0.001489   0.000050\n",
       "376100   0.999999    0.000496  0.001489   0.000050\n",
       "\n",
       "[376101 rows x 4 columns]"
      ]
     },
     "execution_count": 52,
     "metadata": {},
     "output_type": "execute_result"
    }
   ],
   "source": [
    "X"
   ]
  },
  {
   "cell_type": "code",
   "execution_count": 53,
   "metadata": {},
   "outputs": [],
   "source": [
    "x = X.values"
   ]
  },
  {
   "cell_type": "code",
   "execution_count": 54,
   "metadata": {},
   "outputs": [],
   "source": [
    "y = to_one_hot(y)"
   ]
  },
  {
   "cell_type": "code",
   "execution_count": 55,
   "metadata": {},
   "outputs": [
    {
     "data": {
      "text/plain": [
       "array([0., 0., 0., 0., 0., 0., 1., 0., 0., 0., 0., 0., 0.])"
      ]
     },
     "execution_count": 55,
     "metadata": {},
     "output_type": "execute_result"
    }
   ],
   "source": [
    "y[0]"
   ]
  },
  {
   "cell_type": "code",
   "execution_count": 56,
   "metadata": {},
   "outputs": [],
   "source": [
    "xTrain, xTest, yTrain, yTest = train_test_split(x, y, test_size=0.2)"
   ]
  },
  {
   "cell_type": "code",
   "execution_count": 71,
   "metadata": {},
   "outputs": [],
   "source": [
    "hidden_units = 5\n",
    "output_dim = y.shape[1]\n",
    "input_dim = X.shape[1]\n",
    "b1 = 1\n",
    "   \n",
    "\n",
    "    #training rate\n",
    "e = 0.01\n",
    "epochs = 10\n",
    " #Errors - for graph later\n",
    "errors = []\n",
    "accuracy = []\n",
    "val_accuracy = []\n",
    "cost_history = []\n",
    "cost_val_history = []\n",
    "#weights\n",
    "w1 = random.uniform(-.05,.05)*np.random.random((input_dim, hidden_units))  #for input   - 4 inputs, 3 outputs\n",
    "w2 = random.uniform(-.05,.05)*np.random.random((hidden_units, output_dim))  #, 13 outputs"
   ]
  },
  {
   "cell_type": "markdown",
   "metadata": {},
   "source": [
    "# Predicting fire cause given fire size, location and time of fire"
   ]
  },
  {
   "cell_type": "code",
   "execution_count": 75,
   "metadata": {},
   "outputs": [
    {
     "data": {
      "image/png": "[encoded data removed]",
      "text/plain": [
       "<Figure size 432x288 with 1 Axes>"
      ]
     },
     "metadata": {
      "needs_background": "light"
     },
     "output_type": "display_data"
    },
    {
     "name": "stdout",
     "output_type": "stream",
     "text": [
      "Training Accuracy 86.86%\n",
      "Test Accuracy 86.82%\n"
     ]
    }
   ],
   "source": [
    "m = len(yTrain)\n",
    "#Train\n",
    "for i in range(epochs):\n",
    "    for j in range(m):\n",
    "        rand_ind = np.random.randint(0,m)\n",
    "        inputs = xTrain[rand_ind,:]\n",
    "        outputs = yTrain[rand_ind]\n",
    "        #Feed forward\n",
    "        layer0 = inputs\n",
    "        z_layer1= layer0.dot(w1)\n",
    "        layer1 = tanh(z_layer1)       # activation of layer1\n",
    "        z_layer2 = z_layer1.dot(w2)\n",
    "        layer2 = tanh(z_layer2)  # activation of layer2\n",
    "        \n",
    "        #Back propagation using gradient descent\n",
    "        layer2_error = outputs - layer2\n",
    "        layer2_delta = layer2_error * tanh_deriv(layer2)\n",
    "    \n",
    "        layer1_error = layer2_delta.dot(w2.T)\n",
    "        layer1_delta = layer1_error * tanh_deriv(layer1)\n",
    "\n",
    "        w2 += np.asmatrix(layer1).T.dot(np.asmatrix(layer2_delta)) * e\n",
    "        w1 += np.asmatrix(layer0).T.dot(np.matrix(layer1_delta)) * e\n",
    "\n",
    "        error = np.mean(np.abs(layer2_error))\n",
    "        errors.append(error)\n",
    "        accuracy.append((1 - error) * 100)\n",
    "     \n",
    "    # adding training history \n",
    "    cost_history.append(np.mean(np.abs(accuracy)))\n",
    "    # validating after learning optimized weights\n",
    "    rand_test_ind = np.random.randint(0,len(yTest))\n",
    "    layer0 = xTest[rand_test_ind:,]\n",
    "    layer1 = tanh(np.dot(layer0, w1))\n",
    "    layer2 = tanh(np.dot(layer1, w2))\n",
    "    layer2_error = yTest[rand_test_ind] - layer2\n",
    "    val_error = np.mean(np.abs(layer2_error))\n",
    "    val_accuracy.append((1 - val_error) * 100)\n",
    "    cost_val_history.append(np.mean(np.abs(val_accuracy)))\n",
    "    \n",
    "    #Plot the accuracy chart\n",
    "\n",
    "plt.plot(cost_history)\n",
    "plt.xlabel('Training')\n",
    "plt.ylabel('Accuracy')\n",
    "plt.show()\n",
    "        \n",
    "print(\"Training Accuracy \" + str(round(np.mean(np.abs(cost_history)),2)) + \"%\")\n",
    "print(\"Test Accuracy \" + str(round(np.mean(np.abs(cost_val_history)),2)) + \"%\")"
   ]
  },
  {
   "cell_type": "code",
   "execution_count": 76,
   "metadata": {},
   "outputs": [
    {
     "data": {
      "image/png": "[encoded data removed]",
      "text/plain": [
       "<Figure size 432x288 with 1 Axes>"
      ]
     },
     "metadata": {
      "needs_background": "light"
     },
     "output_type": "display_data"
    }
   ],
   "source": [
    "plt.plot(errors)\n",
    "plt.xlabel('Training')\n",
    "plt.ylabel('Error')\n",
    "plt.show()"
   ]
  },
  {
   "cell_type": "code",
   "execution_count": 85,
   "metadata": {},
   "outputs": [
    {
     "data": {
      "image/png": "[encoded data removed]",
      "text/plain": [
       "<Figure size 432x288 with 1 Axes>"
      ]
     },
     "metadata": {
      "needs_background": "light"
     },
     "output_type": "display_data"
    }
   ],
   "source": [
    "plt.plot(cost_val_history)\n",
    "plt.xlabel('Validation')\n",
    "plt.ylabel('Accuracy')\n",
    "plt.show()"
   ]
  },
  {
   "cell_type": "code",
   "execution_count": null,
   "metadata": {},
   "outputs": [],
   "source": []
  }
 ],
 "metadata": {
  "kernelspec": {
   "display_name": "Python 2",
   "language": "python",
   "name": "python2"
  },
  "language_info": {
   "codemirror_mode": {
    "name": "ipython",
    "version": 3
   },
   "file_extension": ".py",
   "mimetype": "text/x-python",
   "name": "python",
   "nbconvert_exporter": "python",
   "pygments_lexer": "ipython3",
   "version": "3.8.5"
  }
 },
 "nbformat": 4,
 "nbformat_minor": 2
}
