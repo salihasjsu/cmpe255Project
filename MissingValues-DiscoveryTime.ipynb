{
 "cells": [
  {
   "cell_type": "code",
   "execution_count": 1,
   "metadata": {},
   "outputs": [],
   "source": [
    "import pandas as pd\n",
    "import numpy as np"
   ]
  },
  {
   "cell_type": "code",
   "execution_count": 111,
   "metadata": {},
   "outputs": [],
   "source": [
    "df = pd.read_csv('./sampled_dataset.csv')"
   ]
  },
  {
   "cell_type": "markdown",
   "metadata": {},
   "source": [
    "Check Missing values"
   ]
  },
  {
   "cell_type": "code",
   "execution_count": 112,
   "metadata": {},
   "outputs": [
    {
     "data": {
      "text/html": [
       "<div>\n",
       "<style scoped>\n",
       "    .dataframe tbody tr th:only-of-type {\n",
       "        vertical-align: middle;\n",
       "    }\n",
       "\n",
       "    .dataframe tbody tr th {\n",
       "        vertical-align: top;\n",
       "    }\n",
       "\n",
       "    .dataframe thead th {\n",
       "        text-align: right;\n",
       "    }\n",
       "</style>\n",
       "<table border=\"1\" class=\"dataframe\">\n",
       "  <thead>\n",
       "    <tr style=\"text-align: right;\">\n",
       "      <th></th>\n",
       "      <th>Total missing values</th>\n",
       "      <th>Percentage of missing values</th>\n",
       "    </tr>\n",
       "  </thead>\n",
       "  <tbody>\n",
       "    <tr>\n",
       "      <th>DISCOVERY_TIME</th>\n",
       "      <td>176408</td>\n",
       "      <td>0.469044</td>\n",
       "    </tr>\n",
       "  </tbody>\n",
       "</table>\n",
       "</div>"
      ],
      "text/plain": [
       "                Total missing values  Percentage of missing values\n",
       "DISCOVERY_TIME                176408                      0.469044"
      ]
     },
     "execution_count": 112,
     "metadata": {},
     "output_type": "execute_result"
    }
   ],
   "source": [
    "discovery_time_df = df[['DISCOVERY_TIME']]\n",
    "total = discovery_time_df.isnull().sum().sort_values(ascending = False)\n",
    "percent = (discovery_time_df.isnull().sum()/discovery_time_df.isnull().count()).sort_values(ascending = False)\n",
    "missing_data = pd.concat([total, percent], axis=1, keys = ['Total missing values', 'Percentage of missing values'])\n",
    "missing_data"
   ]
  },
  {
   "cell_type": "code",
   "execution_count": 113,
   "metadata": {},
   "outputs": [
    {
     "name": "stdout",
     "output_type": "stream",
     "text": [
      "1400\n"
     ]
    }
   ],
   "source": [
    "from scipy import stats\n",
    "most_freq_time, count = stats.mode(df['DISCOVERY_TIME'])\n",
    "disc_time_mode = int(most_freq_time)"
   ]
  },
  {
   "cell_type": "code",
   "execution_count": 114,
   "metadata": {},
   "outputs": [],
   "source": [
    "df['DISCOVERY_TIME_NEW'] = df['DISCOVERY_TIME']\n",
    "df['DISCOVERY_TIME_NEW'].replace(np.nan, disc_time_mode, inplace=True)"
   ]
  },
  {
   "cell_type": "code",
   "execution_count": 115,
   "metadata": {},
   "outputs": [
    {
     "data": {
      "text/plain": [
       "count    199693.000000\n",
       "mean       1452.242808\n",
       "std         405.906589\n",
       "min           0.000000\n",
       "25%        1239.000000\n",
       "50%        1456.000000\n",
       "75%        1706.000000\n",
       "max        2359.000000\n",
       "Name: DISCOVERY_TIME, dtype: float64"
      ]
     },
     "execution_count": 115,
     "metadata": {},
     "output_type": "execute_result"
    }
   ],
   "source": [
    "df['DISCOVERY_TIME'].describe()"
   ]
  },
  {
   "cell_type": "code",
   "execution_count": 116,
   "metadata": {},
   "outputs": [
    {
     "data": {
      "text/plain": [
       "count    376101.000000\n",
       "mean       1427.738621\n",
       "std         296.917274\n",
       "min           0.000000\n",
       "25%        1400.000000\n",
       "50%        1400.000000\n",
       "75%        1505.000000\n",
       "max        2359.000000\n",
       "Name: DISCOVERY_TIME_NEW, dtype: float64"
      ]
     },
     "execution_count": 116,
     "metadata": {},
     "output_type": "execute_result"
    }
   ],
   "source": [
    "df['DISCOVERY_TIME_NEW'].describe()"
   ]
  },
  {
   "cell_type": "code",
   "execution_count": 117,
   "metadata": {},
   "outputs": [],
   "source": [
    "df['DISCOVERY_TIME'] = df['DISCOVERY_TIME_NEW']"
   ]
  },
  {
   "cell_type": "code",
   "execution_count": 119,
   "metadata": {},
   "outputs": [],
   "source": [
    "df.to_csv('missing_values_discovery_time_dataset.csv', index= False)"
   ]
  }
 ],
 "metadata": {
  "kernelspec": {
   "display_name": "Python 3",
   "language": "python",
   "name": "python3"
  },
  "language_info": {
   "codemirror_mode": {
    "name": "ipython",
    "version": 3
   },
   "file_extension": ".py",
   "mimetype": "text/x-python",
   "name": "python",
   "nbconvert_exporter": "python",
   "pygments_lexer": "ipython3",
   "version": "3.8.3"
  }
 },
 "nbformat": 4,
 "nbformat_minor": 4
}
